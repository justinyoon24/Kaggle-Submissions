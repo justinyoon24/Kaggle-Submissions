{
 "cells": [
  {
   "cell_type": "code",
   "execution_count": 1,
   "id": "6bb55228",
   "metadata": {},
   "outputs": [],
   "source": [
    "import os\n",
    "os.getcwd()\n",
    "from IPython.display import HTML\n",
    "from IPython.core.interactiveshell import InteractiveShell\n",
    "InteractiveShell.ast_node_interactivity = \"all\""
   ]
  },
  {
   "cell_type": "markdown",
   "id": "ebd5f3a0",
   "metadata": {},
   "source": [
    "# Assignment 3 Part 1"
   ]
  },
  {
   "cell_type": "code",
   "execution_count": 79,
   "id": "4b84d8ab",
   "metadata": {},
   "outputs": [],
   "source": [
    "import os\n",
    "import numpy as np\n",
    "import pandas as pd\n",
    "import math\n",
    "import matplotlib.pyplot as plt\n",
    "import seaborn as sns\n",
    "import scikitplot as skplt\n",
    "from sklearn import tree, ensemble\n",
    "from sklearn.model_selection import cross_val_score, GridSearchCV,ParameterGrid\n",
    "from sklearn import metrics\n",
    "from sklearn.pipeline import Pipeline, make_pipeline\n",
    "from sklearn.preprocessing import StandardScaler\n",
    "from sklearn.ensemble import RandomForestClassifier\n",
    "from sklearn.ensemble import GradientBoostingClassifier\n",
    "from sklearn.metrics import f1_score\n",
    "from sklearn.decomposition import PCA\n",
    "from sklearn.metrics import accuracy_score\n",
    "from sklearn.cluster import MiniBatchKMeans\n",
    "import random\n",
    "%matplotlib inline"
   ]
  },
  {
   "cell_type": "markdown",
   "id": "d3a3ac4c",
   "metadata": {},
   "source": [
    "# 1.1"
   ]
  },
  {
   "cell_type": "code",
   "execution_count": 3,
   "id": "d2141b35",
   "metadata": {},
   "outputs": [],
   "source": [
    "trainDat = pd.read_csv('titanic_train.csv')\n",
    "testDat =  pd.read_csv('titanic_test.csv')"
   ]
  },
  {
   "cell_type": "code",
   "execution_count": 4,
   "id": "259db4a6",
   "metadata": {},
   "outputs": [],
   "source": [
    "train_id = trainDat['PassengerId']\n",
    "test_id = testDat['PassengerId']\n",
    "trainDat1 = trainDat.drop(['PassengerId','Name','Ticket','Cabin'], \n",
    "                          axis = 1, inplace = False)\n",
    "testDat1 = testDat.drop(['PassengerId','Name','Ticket','Cabin'], \n",
    "                        axis = 1, inplace = False)"
   ]
  },
  {
   "cell_type": "markdown",
   "id": "d8e76fce",
   "metadata": {},
   "source": [
    "After looking at the describe,info, and head of the training data, the features 'PassengerId','Name', 'Ticket', and 'Cabin' were all removed from the dataframes because they were either irrelevant to the passenger survival or there were too many missing values. "
   ]
  },
  {
   "cell_type": "code",
   "execution_count": 5,
   "id": "0aca3c93",
   "metadata": {},
   "outputs": [],
   "source": [
    "trainDat1['Age'].fillna(trainDat1['Age'].median(), inplace=True)\n",
    "testDat1['Age'].fillna(trainDat1['Age'].median(), inplace=True)"
   ]
  },
  {
   "cell_type": "markdown",
   "id": "72c23607",
   "metadata": {},
   "source": [
    "The missing values for 'Age' were imputed with the mean for that feature. "
   ]
  },
  {
   "cell_type": "code",
   "execution_count": 6,
   "id": "a6f66c59",
   "metadata": {},
   "outputs": [],
   "source": [
    "trainDat1 = trainDat1.fillna(trainDat1.mode().iloc[0])\n",
    "testDat1 = testDat1.fillna(trainDat1.mode().iloc[0])"
   ]
  },
  {
   "cell_type": "markdown",
   "id": "0a342634",
   "metadata": {},
   "source": [
    "The missing values for 'Embarked' were imputed with the mode for that feature."
   ]
  },
  {
   "cell_type": "code",
   "execution_count": 7,
   "id": "eaf7fe06",
   "metadata": {},
   "outputs": [],
   "source": [
    "trainDat1=pd.get_dummies(trainDat1, columns=[\"Pclass\",\"Embarked\",\"Sex\"])\n",
    "testDat1=pd.get_dummies(testDat1, columns=[\"Pclass\",\"Embarked\",\"Sex\"])"
   ]
  },
  {
   "cell_type": "markdown",
   "id": "17c7e0ae",
   "metadata": {},
   "source": [
    "The categorical variables were transformed into dummy/indicator variables using get_dummies."
   ]
  },
  {
   "cell_type": "markdown",
   "id": "f431efea",
   "metadata": {},
   "source": [
    "# 1.2 & 1.3"
   ]
  },
  {
   "cell_type": "code",
   "execution_count": 8,
   "id": "c388744a",
   "metadata": {},
   "outputs": [
    {
     "data": {
      "text/plain": [
       "False"
      ]
     },
     "execution_count": 8,
     "metadata": {},
     "output_type": "execute_result"
    }
   ],
   "source": [
    "testDat2 = trainDat1.sample(n=100,random_state=7)\n",
    "trainDat1 = trainDat1[~(trainDat1.index).isin(testDat2.index)]\n",
    "any(trainDat1.index.isin(testDat2.index))"
   ]
  },
  {
   "cell_type": "markdown",
   "id": "467adf75",
   "metadata": {},
   "source": [
    "100 random data records was set aside as the final test data set. The training data was also set up to ensure that the index matched the test data and the data didn't overlap."
   ]
  },
  {
   "cell_type": "code",
   "execution_count": 9,
   "id": "6c015863",
   "metadata": {},
   "outputs": [],
   "source": [
    "X=trainDat1.loc[:,trainDat1.columns!='Survived'].to_numpy(copy=True)\n",
    "y=trainDat1.Survived.to_numpy(copy=True)\n",
    "np.random.seed(10)\n",
    "reIndx=np.arange(len(X))\n",
    "y = y[reIndx]\n",
    "X = X[reIndx,:]"
   ]
  },
  {
   "cell_type": "markdown",
   "id": "c2996a8c",
   "metadata": {},
   "source": [
    "Training data was randomly shuffled here and converted to numpy arrays."
   ]
  },
  {
   "cell_type": "code",
   "execution_count": 10,
   "id": "4b0427b1",
   "metadata": {},
   "outputs": [
    {
     "data": {
      "text/plain": [
       "Pipeline(steps=[('standardscaler', StandardScaler()),\n",
       "                ('randomforestclassifier',\n",
       "                 RandomForestClassifier(random_state=123))])"
      ]
     },
     "execution_count": 10,
     "metadata": {},
     "output_type": "execute_result"
    }
   ],
   "source": [
    "pipe = make_pipeline(StandardScaler(), \n",
    "                     RandomForestClassifier(random_state = 123))\n",
    "pipe"
   ]
  },
  {
   "cell_type": "markdown",
   "id": "57140137",
   "metadata": {},
   "source": [
    "The pipeline is being set up in this step and the features are being standardized and prepared for the random forest classifier."
   ]
  },
  {
   "cell_type": "code",
   "execution_count": 11,
   "id": "48772fa8",
   "metadata": {},
   "outputs": [
    {
     "data": {
      "text/plain": [
       "dict_keys(['memory', 'steps', 'verbose', 'standardscaler', 'randomforestclassifier', 'standardscaler__copy', 'standardscaler__with_mean', 'standardscaler__with_std', 'randomforestclassifier__bootstrap', 'randomforestclassifier__ccp_alpha', 'randomforestclassifier__class_weight', 'randomforestclassifier__criterion', 'randomforestclassifier__max_depth', 'randomforestclassifier__max_features', 'randomforestclassifier__max_leaf_nodes', 'randomforestclassifier__max_samples', 'randomforestclassifier__min_impurity_decrease', 'randomforestclassifier__min_impurity_split', 'randomforestclassifier__min_samples_leaf', 'randomforestclassifier__min_samples_split', 'randomforestclassifier__min_weight_fraction_leaf', 'randomforestclassifier__n_estimators', 'randomforestclassifier__n_jobs', 'randomforestclassifier__oob_score', 'randomforestclassifier__random_state', 'randomforestclassifier__verbose', 'randomforestclassifier__warm_start'])"
      ]
     },
     "execution_count": 11,
     "metadata": {},
     "output_type": "execute_result"
    }
   ],
   "source": [
    "pipe.get_params().keys()"
   ]
  },
  {
   "cell_type": "code",
   "execution_count": 12,
   "id": "bb6c68e3",
   "metadata": {},
   "outputs": [],
   "source": [
    "param_grid = dict(randomforestclassifier__n_estimators = [10,50,100,500,1000], \n",
    "                  randomforestclassifier__max_features = [1,2,3,4,5,6])"
   ]
  },
  {
   "cell_type": "markdown",
   "id": "07e79ff1",
   "metadata": {},
   "source": [
    "The hyperparameters that are going to be explored are defined here."
   ]
  },
  {
   "cell_type": "code",
   "execution_count": 13,
   "id": "6b0b0c98",
   "metadata": {},
   "outputs": [
    {
     "data": {
      "text/plain": [
       "GridSearchCV(estimator=Pipeline(steps=[('standardscaler', StandardScaler()),\n",
       "                                       ('randomforestclassifier',\n",
       "                                        RandomForestClassifier(random_state=123))]),\n",
       "             n_jobs=-1,\n",
       "             param_grid={'randomforestclassifier__max_features': [1, 2, 3, 4, 5,\n",
       "                                                                  6],\n",
       "                         'randomforestclassifier__n_estimators': [10, 50, 100,\n",
       "                                                                  500, 1000]})"
      ]
     },
     "execution_count": 13,
     "metadata": {},
     "output_type": "execute_result"
    }
   ],
   "source": [
    "grid = GridSearchCV(pipe,param_grid,n_jobs=-1)\n",
    "grid"
   ]
  },
  {
   "cell_type": "markdown",
   "id": "bea89f27",
   "metadata": {},
   "source": [
    "The grid search is set up here in this step."
   ]
  },
  {
   "cell_type": "code",
   "execution_count": 14,
   "id": "907e60c1",
   "metadata": {},
   "outputs": [],
   "source": [
    "gridFit = grid.fit(X,y)"
   ]
  },
  {
   "cell_type": "code",
   "execution_count": 15,
   "id": "e99cb9fe",
   "metadata": {},
   "outputs": [
    {
     "name": "stdout",
     "output_type": "stream",
     "text": [
      "    mean_fit_time  std_fit_time  mean_score_time  std_score_time  \\\n",
      "0        0.026198      0.001929         0.003294        0.001380   \n",
      "1        0.136683      0.013554         0.010752        0.001377   \n",
      "2        0.238222      0.014936         0.022509        0.004828   \n",
      "3        1.223388      0.025515         0.092529        0.011124   \n",
      "4        2.357769      0.017211         0.191323        0.008285   \n",
      "5        0.028716      0.002337         0.002678        0.000321   \n",
      "6        0.129857      0.003908         0.010495        0.001913   \n",
      "7        0.219790      0.008164         0.018155        0.001540   \n",
      "8        1.210617      0.061057         0.092595        0.014122   \n",
      "9        2.144212      0.066508         0.164028        0.011206   \n",
      "10       0.021747      0.001647         0.002199        0.000345   \n",
      "11       0.106623      0.003799         0.009153        0.001257   \n",
      "12       0.221333      0.014994         0.019817        0.003187   \n",
      "13       1.185644      0.016839         0.092392        0.009353   \n",
      "14       2.231551      0.074941         0.166418        0.020103   \n",
      "15       0.023567      0.001964         0.002412        0.000116   \n",
      "16       0.111250      0.006871         0.008699        0.000550   \n",
      "17       0.242949      0.018707         0.020900        0.002615   \n",
      "18       1.328625      0.064129         0.083299        0.007748   \n",
      "19       2.748538      0.151113         0.173298        0.015464   \n",
      "20       0.023782      0.000356         0.003100        0.001827   \n",
      "21       0.130245      0.015517         0.009308        0.000810   \n",
      "22       0.251222      0.006213         0.022516        0.004351   \n",
      "23       1.276299      0.015372         0.083963        0.005284   \n",
      "24       2.421644      0.047443         0.171564        0.011642   \n",
      "25       0.026391      0.001535         0.002769        0.000531   \n",
      "26       0.126411      0.011501         0.009582        0.002326   \n",
      "27       0.238510      0.011965         0.015920        0.000248   \n",
      "28       1.265967      0.022513         0.090791        0.005249   \n",
      "29       2.272388      0.337850         0.134182        0.033180   \n",
      "\n",
      "   param_randomforestclassifier__max_features  \\\n",
      "0                                           1   \n",
      "1                                           1   \n",
      "2                                           1   \n",
      "3                                           1   \n",
      "4                                           1   \n",
      "5                                           2   \n",
      "6                                           2   \n",
      "7                                           2   \n",
      "8                                           2   \n",
      "9                                           2   \n",
      "10                                          3   \n",
      "11                                          3   \n",
      "12                                          3   \n",
      "13                                          3   \n",
      "14                                          3   \n",
      "15                                          4   \n",
      "16                                          4   \n",
      "17                                          4   \n",
      "18                                          4   \n",
      "19                                          4   \n",
      "20                                          5   \n",
      "21                                          5   \n",
      "22                                          5   \n",
      "23                                          5   \n",
      "24                                          5   \n",
      "25                                          6   \n",
      "26                                          6   \n",
      "27                                          6   \n",
      "28                                          6   \n",
      "29                                          6   \n",
      "\n",
      "   param_randomforestclassifier__n_estimators  \\\n",
      "0                                          10   \n",
      "1                                          50   \n",
      "2                                         100   \n",
      "3                                         500   \n",
      "4                                        1000   \n",
      "5                                          10   \n",
      "6                                          50   \n",
      "7                                         100   \n",
      "8                                         500   \n",
      "9                                        1000   \n",
      "10                                         10   \n",
      "11                                         50   \n",
      "12                                        100   \n",
      "13                                        500   \n",
      "14                                       1000   \n",
      "15                                         10   \n",
      "16                                         50   \n",
      "17                                        100   \n",
      "18                                        500   \n",
      "19                                       1000   \n",
      "20                                         10   \n",
      "21                                         50   \n",
      "22                                        100   \n",
      "23                                        500   \n",
      "24                                       1000   \n",
      "25                                         10   \n",
      "26                                         50   \n",
      "27                                        100   \n",
      "28                                        500   \n",
      "29                                       1000   \n",
      "\n",
      "                                               params  split0_test_score  \\\n",
      "0   {'randomforestclassifier__max_features': 1, 'r...           0.767296   \n",
      "1   {'randomforestclassifier__max_features': 1, 'r...           0.761006   \n",
      "2   {'randomforestclassifier__max_features': 1, 'r...           0.773585   \n",
      "3   {'randomforestclassifier__max_features': 1, 'r...           0.773585   \n",
      "4   {'randomforestclassifier__max_features': 1, 'r...           0.754717   \n",
      "5   {'randomforestclassifier__max_features': 2, 'r...           0.779874   \n",
      "6   {'randomforestclassifier__max_features': 2, 'r...           0.767296   \n",
      "7   {'randomforestclassifier__max_features': 2, 'r...           0.761006   \n",
      "8   {'randomforestclassifier__max_features': 2, 'r...           0.767296   \n",
      "9   {'randomforestclassifier__max_features': 2, 'r...           0.754717   \n",
      "10  {'randomforestclassifier__max_features': 3, 'r...           0.773585   \n",
      "11  {'randomforestclassifier__max_features': 3, 'r...           0.748428   \n",
      "12  {'randomforestclassifier__max_features': 3, 'r...           0.729560   \n",
      "13  {'randomforestclassifier__max_features': 3, 'r...           0.761006   \n",
      "14  {'randomforestclassifier__max_features': 3, 'r...           0.754717   \n",
      "15  {'randomforestclassifier__max_features': 4, 'r...           0.748428   \n",
      "16  {'randomforestclassifier__max_features': 4, 'r...           0.767296   \n",
      "17  {'randomforestclassifier__max_features': 4, 'r...           0.767296   \n",
      "18  {'randomforestclassifier__max_features': 4, 'r...           0.754717   \n",
      "19  {'randomforestclassifier__max_features': 4, 'r...           0.754717   \n",
      "20  {'randomforestclassifier__max_features': 5, 'r...           0.761006   \n",
      "21  {'randomforestclassifier__max_features': 5, 'r...           0.767296   \n",
      "22  {'randomforestclassifier__max_features': 5, 'r...           0.761006   \n",
      "23  {'randomforestclassifier__max_features': 5, 'r...           0.767296   \n",
      "24  {'randomforestclassifier__max_features': 5, 'r...           0.761006   \n",
      "25  {'randomforestclassifier__max_features': 6, 'r...           0.761006   \n",
      "26  {'randomforestclassifier__max_features': 6, 'r...           0.779874   \n",
      "27  {'randomforestclassifier__max_features': 6, 'r...           0.773585   \n",
      "28  {'randomforestclassifier__max_features': 6, 'r...           0.773585   \n",
      "29  {'randomforestclassifier__max_features': 6, 'r...           0.767296   \n",
      "\n",
      "    split1_test_score  split2_test_score  split3_test_score  \\\n",
      "0            0.791139           0.848101           0.784810   \n",
      "1            0.784810           0.841772           0.791139   \n",
      "2            0.784810           0.854430           0.791139   \n",
      "3            0.803797           0.848101           0.810127   \n",
      "4            0.803797           0.848101           0.803797   \n",
      "5            0.784810           0.854430           0.778481   \n",
      "6            0.791139           0.854430           0.772152   \n",
      "7            0.810127           0.860759           0.772152   \n",
      "8            0.803797           0.854430           0.791139   \n",
      "9            0.810127           0.854430           0.791139   \n",
      "10           0.791139           0.854430           0.803797   \n",
      "11           0.797468           0.873418           0.772152   \n",
      "12           0.803797           0.867089           0.765823   \n",
      "13           0.810127           0.860759           0.791139   \n",
      "14           0.810127           0.860759           0.784810   \n",
      "15           0.810127           0.848101           0.791139   \n",
      "16           0.803797           0.867089           0.784810   \n",
      "17           0.810127           0.867089           0.784810   \n",
      "18           0.810127           0.860759           0.784810   \n",
      "19           0.816456           0.860759           0.784810   \n",
      "20           0.816456           0.854430           0.791139   \n",
      "21           0.791139           0.854430           0.784810   \n",
      "22           0.810127           0.867089           0.778481   \n",
      "23           0.810127           0.860759           0.778481   \n",
      "24           0.816456           0.860759           0.778481   \n",
      "25           0.816456           0.848101           0.784810   \n",
      "26           0.810127           0.854430           0.784810   \n",
      "27           0.797468           0.854430           0.778481   \n",
      "28           0.810127           0.867089           0.778481   \n",
      "29           0.803797           0.860759           0.778481   \n",
      "\n",
      "    split4_test_score  mean_test_score  std_test_score  rank_test_score  \n",
      "0            0.829114         0.804092        0.029854               29  \n",
      "1            0.816456         0.799037        0.027716               30  \n",
      "2            0.835443         0.807882        0.031354               26  \n",
      "3            0.829114         0.812945        0.025053               14  \n",
      "4            0.835443         0.809171        0.032338               22  \n",
      "5            0.867089         0.812937        0.039308               15  \n",
      "6            0.835443         0.804092        0.034810               28  \n",
      "7            0.841772         0.809163        0.038511               23  \n",
      "8            0.829114         0.809155        0.030178               24  \n",
      "9            0.835443         0.809171        0.034727               20  \n",
      "10           0.873418         0.819274        0.038174                1  \n",
      "11           0.860759         0.810445        0.048945               17  \n",
      "12           0.854430         0.804140        0.052004               27  \n",
      "13           0.841772         0.812961        0.035492               13  \n",
      "14           0.835443         0.809171        0.037178               20  \n",
      "15           0.867089         0.812977        0.041984               11  \n",
      "16           0.860759         0.816750        0.040260                3  \n",
      "17           0.848101         0.815484        0.037466                5  \n",
      "18           0.841772         0.810437        0.038147               18  \n",
      "19           0.848101         0.812969        0.039285               12  \n",
      "20           0.829114         0.810429        0.032051               19  \n",
      "21           0.848101         0.809155        0.035316               24  \n",
      "22           0.854430         0.814227        0.041322                9  \n",
      "23           0.860759         0.815484        0.039547                5  \n",
      "24           0.854430         0.814227        0.039741                8  \n",
      "25           0.867089         0.815492        0.039081                4  \n",
      "26           0.848101         0.815469        0.031043                7  \n",
      "27           0.854430         0.811679        0.035807               16  \n",
      "28           0.860759         0.818008        0.039584                2  \n",
      "29           0.860759         0.814219        0.039799               10  \n"
     ]
    }
   ],
   "source": [
    "print(pd.DataFrame(gridFit.cv_results_))"
   ]
  },
  {
   "cell_type": "code",
   "execution_count": 16,
   "id": "d918d60a",
   "metadata": {},
   "outputs": [
    {
     "data": {
      "text/plain": [
       "{'randomforestclassifier__max_features': 3,\n",
       " 'randomforestclassifier__n_estimators': 10}"
      ]
     },
     "execution_count": 16,
     "metadata": {},
     "output_type": "execute_result"
    }
   ],
   "source": [
    "gridFit.best_params_"
   ]
  },
  {
   "cell_type": "markdown",
   "id": "85ff72ef",
   "metadata": {},
   "source": [
    "The grid search was ran and the parameters for the model with the highest mean test score was determined above. The number of features used at a split was 4, the number of trees was 100, and the mean test score was 0.8148."
   ]
  },
  {
   "cell_type": "code",
   "execution_count": 17,
   "id": "1baeb2b6",
   "metadata": {},
   "outputs": [
    {
     "data": {
      "text/plain": [
       "Pipeline(steps=[('standardscaler', StandardScaler()),\n",
       "                ('gradientboostingclassifier',\n",
       "                 GradientBoostingClassifier(random_state=123))])"
      ]
     },
     "execution_count": 17,
     "metadata": {},
     "output_type": "execute_result"
    }
   ],
   "source": [
    "pipe2 = make_pipeline(StandardScaler(), \n",
    "                      GradientBoostingClassifier(random_state = 123))\n",
    "pipe2"
   ]
  },
  {
   "cell_type": "code",
   "execution_count": 18,
   "id": "5e98fee5",
   "metadata": {
    "scrolled": true
   },
   "outputs": [
    {
     "data": {
      "text/plain": [
       "dict_keys(['memory', 'steps', 'verbose', 'standardscaler', 'gradientboostingclassifier', 'standardscaler__copy', 'standardscaler__with_mean', 'standardscaler__with_std', 'gradientboostingclassifier__ccp_alpha', 'gradientboostingclassifier__criterion', 'gradientboostingclassifier__init', 'gradientboostingclassifier__learning_rate', 'gradientboostingclassifier__loss', 'gradientboostingclassifier__max_depth', 'gradientboostingclassifier__max_features', 'gradientboostingclassifier__max_leaf_nodes', 'gradientboostingclassifier__min_impurity_decrease', 'gradientboostingclassifier__min_impurity_split', 'gradientboostingclassifier__min_samples_leaf', 'gradientboostingclassifier__min_samples_split', 'gradientboostingclassifier__min_weight_fraction_leaf', 'gradientboostingclassifier__n_estimators', 'gradientboostingclassifier__n_iter_no_change', 'gradientboostingclassifier__random_state', 'gradientboostingclassifier__subsample', 'gradientboostingclassifier__tol', 'gradientboostingclassifier__validation_fraction', 'gradientboostingclassifier__verbose', 'gradientboostingclassifier__warm_start'])"
      ]
     },
     "execution_count": 18,
     "metadata": {},
     "output_type": "execute_result"
    }
   ],
   "source": [
    "pipe2.get_params().keys()"
   ]
  },
  {
   "cell_type": "code",
   "execution_count": 19,
   "id": "a5f010d0",
   "metadata": {},
   "outputs": [],
   "source": [
    "param_grid2 = dict(gradientboostingclassifier__n_estimators = [10,50,100,\n",
    "                                                               500,1000], \n",
    "                   gradientboostingclassifier__learning_rate = [0.0001, \n",
    "                                                                0.001,0.01, \n",
    "                                                                0.1, 0.2,\n",
    "                                                                0.3])"
   ]
  },
  {
   "cell_type": "code",
   "execution_count": 20,
   "id": "ea75198d",
   "metadata": {},
   "outputs": [
    {
     "data": {
      "text/plain": [
       "GridSearchCV(estimator=Pipeline(steps=[('standardscaler', StandardScaler()),\n",
       "                                       ('gradientboostingclassifier',\n",
       "                                        GradientBoostingClassifier(random_state=123))]),\n",
       "             n_jobs=-1,\n",
       "             param_grid={'gradientboostingclassifier__learning_rate': [0.0001,\n",
       "                                                                       0.001,\n",
       "                                                                       0.01,\n",
       "                                                                       0.1, 0.2,\n",
       "                                                                       0.3],\n",
       "                         'gradientboostingclassifier__n_estimators': [10, 50,\n",
       "                                                                      100, 500,\n",
       "                                                                      1000]})"
      ]
     },
     "execution_count": 20,
     "metadata": {},
     "output_type": "execute_result"
    }
   ],
   "source": [
    "grid2 = GridSearchCV(pipe2,param_grid2,n_jobs=-1)\n",
    "grid2"
   ]
  },
  {
   "cell_type": "code",
   "execution_count": 21,
   "id": "551b501e",
   "metadata": {},
   "outputs": [],
   "source": [
    "gridFit2 = grid2.fit(X,y)"
   ]
  },
  {
   "cell_type": "code",
   "execution_count": 22,
   "id": "e04e0c24",
   "metadata": {},
   "outputs": [
    {
     "name": "stdout",
     "output_type": "stream",
     "text": [
      "    mean_fit_time  std_fit_time  mean_score_time  std_score_time  \\\n",
      "0        0.016159      0.004714         0.001836        0.001868   \n",
      "1        0.071037      0.003230         0.001079        0.000105   \n",
      "2        0.121870      0.005995         0.001115        0.000019   \n",
      "3        0.656145      0.067738         0.002832        0.000306   \n",
      "4        1.406091      0.049579         0.004294        0.000418   \n",
      "5        0.020483      0.004157         0.001173        0.000423   \n",
      "6        0.071532      0.006636         0.000910        0.000143   \n",
      "7        0.143090      0.012814         0.002554        0.001508   \n",
      "8        0.662654      0.047877         0.002575        0.000109   \n",
      "9        1.330081      0.088763         0.005301        0.000974   \n",
      "10       0.015169      0.002257         0.000826        0.000043   \n",
      "11       0.069072      0.009471         0.001007        0.000196   \n",
      "12       0.139247      0.017180         0.001204        0.000178   \n",
      "13       0.632670      0.036831         0.002624        0.000309   \n",
      "14       1.172816      0.021746         0.004801        0.000440   \n",
      "15       0.014308      0.000841         0.000811        0.000017   \n",
      "16       0.059134      0.004132         0.001205        0.000441   \n",
      "17       0.115173      0.002989         0.001193        0.000052   \n",
      "18       0.591970      0.007255         0.002732        0.000032   \n",
      "19       1.170535      0.026827         0.004798        0.000444   \n",
      "20       0.013970      0.002320         0.000808        0.000010   \n",
      "21       0.062264      0.001889         0.000970        0.000020   \n",
      "22       0.127201      0.010065         0.001707        0.001052   \n",
      "23       0.600920      0.012496         0.003658        0.001738   \n",
      "24       1.189099      0.024240         0.004844        0.000064   \n",
      "25       0.013121      0.000560         0.000755        0.000113   \n",
      "26       0.059413      0.001883         0.000962        0.000003   \n",
      "27       0.117244      0.002808         0.001150        0.000021   \n",
      "28       0.581183      0.016495         0.002791        0.000095   \n",
      "29       1.063527      0.119557         0.004447        0.000581   \n",
      "\n",
      "   param_gradientboostingclassifier__learning_rate  \\\n",
      "0                                           0.0001   \n",
      "1                                           0.0001   \n",
      "2                                           0.0001   \n",
      "3                                           0.0001   \n",
      "4                                           0.0001   \n",
      "5                                            0.001   \n",
      "6                                            0.001   \n",
      "7                                            0.001   \n",
      "8                                            0.001   \n",
      "9                                            0.001   \n",
      "10                                            0.01   \n",
      "11                                            0.01   \n",
      "12                                            0.01   \n",
      "13                                            0.01   \n",
      "14                                            0.01   \n",
      "15                                             0.1   \n",
      "16                                             0.1   \n",
      "17                                             0.1   \n",
      "18                                             0.1   \n",
      "19                                             0.1   \n",
      "20                                             0.2   \n",
      "21                                             0.2   \n",
      "22                                             0.2   \n",
      "23                                             0.2   \n",
      "24                                             0.2   \n",
      "25                                             0.3   \n",
      "26                                             0.3   \n",
      "27                                             0.3   \n",
      "28                                             0.3   \n",
      "29                                             0.3   \n",
      "\n",
      "   param_gradientboostingclassifier__n_estimators  \\\n",
      "0                                              10   \n",
      "1                                              50   \n",
      "2                                             100   \n",
      "3                                             500   \n",
      "4                                            1000   \n",
      "5                                              10   \n",
      "6                                              50   \n",
      "7                                             100   \n",
      "8                                             500   \n",
      "9                                            1000   \n",
      "10                                             10   \n",
      "11                                             50   \n",
      "12                                            100   \n",
      "13                                            500   \n",
      "14                                           1000   \n",
      "15                                             10   \n",
      "16                                             50   \n",
      "17                                            100   \n",
      "18                                            500   \n",
      "19                                           1000   \n",
      "20                                             10   \n",
      "21                                             50   \n",
      "22                                            100   \n",
      "23                                            500   \n",
      "24                                           1000   \n",
      "25                                             10   \n",
      "26                                             50   \n",
      "27                                            100   \n",
      "28                                            500   \n",
      "29                                           1000   \n",
      "\n",
      "                                               params  split0_test_score  \\\n",
      "0   {'gradientboostingclassifier__learning_rate': ...           0.610063   \n",
      "1   {'gradientboostingclassifier__learning_rate': ...           0.610063   \n",
      "2   {'gradientboostingclassifier__learning_rate': ...           0.610063   \n",
      "3   {'gradientboostingclassifier__learning_rate': ...           0.610063   \n",
      "4   {'gradientboostingclassifier__learning_rate': ...           0.610063   \n",
      "5   {'gradientboostingclassifier__learning_rate': ...           0.610063   \n",
      "6   {'gradientboostingclassifier__learning_rate': ...           0.610063   \n",
      "7   {'gradientboostingclassifier__learning_rate': ...           0.610063   \n",
      "8   {'gradientboostingclassifier__learning_rate': ...           0.748428   \n",
      "9   {'gradientboostingclassifier__learning_rate': ...           0.811321   \n",
      "10  {'gradientboostingclassifier__learning_rate': ...           0.610063   \n",
      "11  {'gradientboostingclassifier__learning_rate': ...           0.748428   \n",
      "12  {'gradientboostingclassifier__learning_rate': ...           0.811321   \n",
      "13  {'gradientboostingclassifier__learning_rate': ...           0.823899   \n",
      "14  {'gradientboostingclassifier__learning_rate': ...           0.798742   \n",
      "15  {'gradientboostingclassifier__learning_rate': ...           0.811321   \n",
      "16  {'gradientboostingclassifier__learning_rate': ...           0.811321   \n",
      "17  {'gradientboostingclassifier__learning_rate': ...           0.798742   \n",
      "18  {'gradientboostingclassifier__learning_rate': ...           0.817610   \n",
      "19  {'gradientboostingclassifier__learning_rate': ...           0.805031   \n",
      "20  {'gradientboostingclassifier__learning_rate': ...           0.817610   \n",
      "21  {'gradientboostingclassifier__learning_rate': ...           0.798742   \n",
      "22  {'gradientboostingclassifier__learning_rate': ...           0.805031   \n",
      "23  {'gradientboostingclassifier__learning_rate': ...           0.805031   \n",
      "24  {'gradientboostingclassifier__learning_rate': ...           0.798742   \n",
      "25  {'gradientboostingclassifier__learning_rate': ...           0.811321   \n",
      "26  {'gradientboostingclassifier__learning_rate': ...           0.779874   \n",
      "27  {'gradientboostingclassifier__learning_rate': ...           0.811321   \n",
      "28  {'gradientboostingclassifier__learning_rate': ...           0.805031   \n",
      "29  {'gradientboostingclassifier__learning_rate': ...           0.811321   \n",
      "\n",
      "    split1_test_score  split2_test_score  split3_test_score  \\\n",
      "0            0.613924           0.613924           0.613924   \n",
      "1            0.613924           0.613924           0.613924   \n",
      "2            0.613924           0.613924           0.613924   \n",
      "3            0.613924           0.613924           0.613924   \n",
      "4            0.613924           0.613924           0.613924   \n",
      "5            0.613924           0.613924           0.613924   \n",
      "6            0.613924           0.613924           0.613924   \n",
      "7            0.613924           0.613924           0.613924   \n",
      "8            0.784810           0.822785           0.778481   \n",
      "9            0.822785           0.841772           0.778481   \n",
      "10           0.613924           0.613924           0.613924   \n",
      "11           0.784810           0.822785           0.778481   \n",
      "12           0.822785           0.841772           0.778481   \n",
      "13           0.829114           0.848101           0.778481   \n",
      "14           0.810127           0.867089           0.791139   \n",
      "15           0.822785           0.841772           0.778481   \n",
      "16           0.816456           0.848101           0.784810   \n",
      "17           0.803797           0.854430           0.810127   \n",
      "18           0.803797           0.841772           0.797468   \n",
      "19           0.784810           0.841772           0.797468   \n",
      "20           0.810127           0.841772           0.772152   \n",
      "21           0.803797           0.873418           0.810127   \n",
      "22           0.810127           0.860759           0.772152   \n",
      "23           0.778481           0.848101           0.778481   \n",
      "24           0.778481           0.841772           0.797468   \n",
      "25           0.822785           0.848101           0.784810   \n",
      "26           0.803797           0.867089           0.797468   \n",
      "27           0.803797           0.835443           0.810127   \n",
      "28           0.784810           0.841772           0.778481   \n",
      "29           0.784810           0.854430           0.797468   \n",
      "\n",
      "    split4_test_score  mean_test_score  std_test_score  rank_test_score  \n",
      "0            0.607595         0.611886        0.002615               22  \n",
      "1            0.607595         0.611886        0.002615               22  \n",
      "2            0.607595         0.611886        0.002615               22  \n",
      "3            0.607595         0.611886        0.002615               22  \n",
      "4            0.607595         0.611886        0.002615               22  \n",
      "5            0.607595         0.611886        0.002615               22  \n",
      "6            0.607595         0.611886        0.002615               22  \n",
      "7            0.607595         0.611886        0.002615               22  \n",
      "8            0.835443         0.793989        0.031459               20  \n",
      "9            0.860759         0.823024        0.027916                9  \n",
      "10           0.607595         0.611886        0.002615               22  \n",
      "11           0.835443         0.793989        0.031459               20  \n",
      "12           0.860759         0.823024        0.027916                9  \n",
      "13           0.879747         0.831868        0.033097                1  \n",
      "14           0.854430         0.824305        0.030635                7  \n",
      "15           0.860759         0.823024        0.027916                9  \n",
      "16           0.879747         0.828087        0.032737                4  \n",
      "17           0.860759         0.825571        0.026471                5  \n",
      "18           0.797468         0.811623        0.016774               14  \n",
      "19           0.816456         0.809108        0.019305               15  \n",
      "20           0.879747         0.824282        0.035622                8  \n",
      "21           0.867089         0.830635        0.032611                2  \n",
      "22           0.879747         0.825563        0.039210                6  \n",
      "23           0.829114         0.807842        0.027587               17  \n",
      "24           0.803797         0.804052        0.020728               18  \n",
      "25           0.879747         0.829353        0.032383                3  \n",
      "26           0.854430         0.820532        0.034005               13  \n",
      "27           0.854430         0.823024        0.019045               12  \n",
      "28           0.803797         0.802778        0.022090               19  \n",
      "29           0.797468         0.809100        0.024168               16  \n"
     ]
    }
   ],
   "source": [
    "print(pd.DataFrame(gridFit2.cv_results_))"
   ]
  },
  {
   "cell_type": "code",
   "execution_count": 23,
   "id": "4be65ba3",
   "metadata": {},
   "outputs": [
    {
     "data": {
      "text/plain": [
       "{'gradientboostingclassifier__learning_rate': 0.01,\n",
       " 'gradientboostingclassifier__n_estimators': 500}"
      ]
     },
     "execution_count": 23,
     "metadata": {},
     "output_type": "execute_result"
    }
   ],
   "source": [
    "gridFit2.best_params_"
   ]
  },
  {
   "cell_type": "markdown",
   "id": "846a84e1",
   "metadata": {},
   "source": [
    "The gridsearch was ran for the gradient boosting classifier and the model with the highest mean test score was determined above. The learning rate was 0.3, the number of trees was 10, and the mean test score was 0.8379. This was determined to be the best model based on the grid searches. "
   ]
  },
  {
   "cell_type": "code",
   "execution_count": 24,
   "id": "13999490",
   "metadata": {},
   "outputs": [],
   "source": [
    "X2=testDat2.loc[:,testDat2.columns!='Survived'].to_numpy(copy=True)\n",
    "y2=testDat2.Survived.to_numpy(copy=True)\n",
    "np.random.seed(10)\n",
    "reIndx=np.arange(len(X2))\n",
    "y2 = y2[reIndx]\n",
    "X2 = X2[reIndx,:]"
   ]
  },
  {
   "cell_type": "code",
   "execution_count": 25,
   "id": "f70729ee",
   "metadata": {},
   "outputs": [
    {
     "name": "stdout",
     "output_type": "stream",
     "text": [
      "F1 score : 0.9393939393939393\n"
     ]
    }
   ],
   "source": [
    "gradientboost = GradientBoostingClassifier(random_state = 123, \n",
    "                                           n_estimators = 10, \n",
    "                                           learning_rate = 0.3)\n",
    "gradientboost = gradientboost.fit(X2,y2)\n",
    "testDat2pred = gradientboost.predict(X2)\n",
    "print(f'F1 score : {f1_score(y2, testDat2pred)}')"
   ]
  },
  {
   "cell_type": "markdown",
   "id": "352ecb96",
   "metadata": {},
   "source": [
    "Utilizing the the set aside test data from earlier we used it as a final test for the model that was selected and a F1 score of 0.9333 was returned."
   ]
  },
  {
   "cell_type": "markdown",
   "id": "1cb7c0a6",
   "metadata": {},
   "source": [
    "# 1.4"
   ]
  },
  {
   "cell_type": "code",
   "execution_count": 26,
   "id": "e6b39620",
   "metadata": {},
   "outputs": [],
   "source": [
    "X=testDat1.loc[:,testDat1.columns!='Survived'].to_numpy(copy=True)\n",
    "predy = gridFit2.predict(X)"
   ]
  },
  {
   "cell_type": "code",
   "execution_count": 27,
   "id": "eae63a08",
   "metadata": {},
   "outputs": [
    {
     "data": {
      "text/html": [
       "<div>\n",
       "<style scoped>\n",
       "    .dataframe tbody tr th:only-of-type {\n",
       "        vertical-align: middle;\n",
       "    }\n",
       "\n",
       "    .dataframe tbody tr th {\n",
       "        vertical-align: top;\n",
       "    }\n",
       "\n",
       "    .dataframe thead th {\n",
       "        text-align: right;\n",
       "    }\n",
       "</style>\n",
       "<table border=\"1\" class=\"dataframe\">\n",
       "  <thead>\n",
       "    <tr style=\"text-align: right;\">\n",
       "      <th></th>\n",
       "      <th>PassengerId</th>\n",
       "      <th>Survived</th>\n",
       "    </tr>\n",
       "  </thead>\n",
       "  <tbody>\n",
       "    <tr>\n",
       "      <th>0</th>\n",
       "      <td>892</td>\n",
       "      <td>0</td>\n",
       "    </tr>\n",
       "    <tr>\n",
       "      <th>1</th>\n",
       "      <td>893</td>\n",
       "      <td>0</td>\n",
       "    </tr>\n",
       "    <tr>\n",
       "      <th>2</th>\n",
       "      <td>894</td>\n",
       "      <td>0</td>\n",
       "    </tr>\n",
       "    <tr>\n",
       "      <th>3</th>\n",
       "      <td>895</td>\n",
       "      <td>0</td>\n",
       "    </tr>\n",
       "    <tr>\n",
       "      <th>4</th>\n",
       "      <td>896</td>\n",
       "      <td>1</td>\n",
       "    </tr>\n",
       "    <tr>\n",
       "      <th>...</th>\n",
       "      <td>...</td>\n",
       "      <td>...</td>\n",
       "    </tr>\n",
       "    <tr>\n",
       "      <th>413</th>\n",
       "      <td>1305</td>\n",
       "      <td>0</td>\n",
       "    </tr>\n",
       "    <tr>\n",
       "      <th>414</th>\n",
       "      <td>1306</td>\n",
       "      <td>1</td>\n",
       "    </tr>\n",
       "    <tr>\n",
       "      <th>415</th>\n",
       "      <td>1307</td>\n",
       "      <td>0</td>\n",
       "    </tr>\n",
       "    <tr>\n",
       "      <th>416</th>\n",
       "      <td>1308</td>\n",
       "      <td>0</td>\n",
       "    </tr>\n",
       "    <tr>\n",
       "      <th>417</th>\n",
       "      <td>1309</td>\n",
       "      <td>0</td>\n",
       "    </tr>\n",
       "  </tbody>\n",
       "</table>\n",
       "<p>418 rows × 2 columns</p>\n",
       "</div>"
      ],
      "text/plain": [
       "     PassengerId  Survived\n",
       "0            892         0\n",
       "1            893         0\n",
       "2            894         0\n",
       "3            895         0\n",
       "4            896         1\n",
       "..           ...       ...\n",
       "413         1305         0\n",
       "414         1306         1\n",
       "415         1307         0\n",
       "416         1308         0\n",
       "417         1309         0\n",
       "\n",
       "[418 rows x 2 columns]"
      ]
     },
     "execution_count": 27,
     "metadata": {},
     "output_type": "execute_result"
    }
   ],
   "source": [
    "submission4 = pd.DataFrame()\n",
    "submission4['PassengerId'] = test_id\n",
    "submission4['Survived'] = predy\n",
    "submission4\n",
    "submission4.to_csv('submission4.csv',index=False)"
   ]
  },
  {
   "cell_type": "markdown",
   "id": "f3a580d4",
   "metadata": {},
   "source": [
    "# Part 2"
   ]
  },
  {
   "cell_type": "markdown",
   "id": "caab0d14",
   "metadata": {},
   "source": [
    "# 2.1"
   ]
  },
  {
   "cell_type": "code",
   "execution_count": 57,
   "id": "e43b9549",
   "metadata": {},
   "outputs": [],
   "source": [
    "trainDat = pd.read_csv('train_digital.csv')\n",
    "testDat =  pd.read_csv('test_digital.csv')"
   ]
  },
  {
   "cell_type": "code",
   "execution_count": 58,
   "id": "f41f88fa",
   "metadata": {},
   "outputs": [
    {
     "data": {
      "text/plain": [
       "False"
      ]
     },
     "execution_count": 58,
     "metadata": {},
     "output_type": "execute_result"
    }
   ],
   "source": [
    "testDat2 = trainDat.sample(n=100,random_state=7)\n",
    "trainDat2 = trainDat[~(trainDat.index).isin(testDat2.index)]\n",
    "any(trainDat2.index.isin(testDat2.index))"
   ]
  },
  {
   "cell_type": "markdown",
   "id": "e666285f",
   "metadata": {},
   "source": [
    "100 random data records was set aside as the final test data set. The training data was also set up to ensure that the index matched the test data and the data didn't overlap."
   ]
  },
  {
   "cell_type": "code",
   "execution_count": 30,
   "id": "74752c86",
   "metadata": {},
   "outputs": [],
   "source": [
    "X=trainDat2.loc[:,trainDat2.columns!='label'].to_numpy(copy=True)\n",
    "y=trainDat2.label.to_numpy(copy=True)\n",
    "np.random.seed(10)\n",
    "reIndx=np.arange(len(X))\n",
    "y = y[reIndx]\n",
    "X = X[reIndx,:]"
   ]
  },
  {
   "cell_type": "markdown",
   "id": "4cfd0896",
   "metadata": {},
   "source": [
    "Training data was randomly shuffled here and converted to numpy arrays."
   ]
  },
  {
   "cell_type": "code",
   "execution_count": 31,
   "id": "57cc224c",
   "metadata": {},
   "outputs": [],
   "source": [
    "X = X/255"
   ]
  },
  {
   "cell_type": "markdown",
   "id": "1df22fab",
   "metadata": {},
   "source": [
    "The pixels are divided by 255 so that they are all in the range [0,1]"
   ]
  },
  {
   "cell_type": "code",
   "execution_count": 32,
   "id": "413514be",
   "metadata": {},
   "outputs": [],
   "source": [
    "param_grid = dict(n_estimators = [10,50,100,250], \n",
    "                  max_features = [1,2,3,4,5])"
   ]
  },
  {
   "cell_type": "code",
   "execution_count": 33,
   "id": "4563de66",
   "metadata": {},
   "outputs": [],
   "source": [
    "RF = RandomForestClassifier(random_state = 123)"
   ]
  },
  {
   "cell_type": "code",
   "execution_count": 34,
   "id": "2c1a3a7b",
   "metadata": {},
   "outputs": [
    {
     "data": {
      "text/plain": [
       "GridSearchCV(estimator=RandomForestClassifier(random_state=123), n_jobs=-1,\n",
       "             param_grid={'max_features': [1, 2, 3, 4, 5],\n",
       "                         'n_estimators': [10, 50, 100, 250]})"
      ]
     },
     "execution_count": 34,
     "metadata": {},
     "output_type": "execute_result"
    }
   ],
   "source": [
    "grid = GridSearchCV(RF,param_grid,n_jobs=-1)\n",
    "grid"
   ]
  },
  {
   "cell_type": "code",
   "execution_count": 35,
   "id": "9436861e",
   "metadata": {},
   "outputs": [],
   "source": [
    "gridFit = grid.fit(X,y)"
   ]
  },
  {
   "cell_type": "code",
   "execution_count": 37,
   "id": "d26d3a82",
   "metadata": {},
   "outputs": [
    {
     "name": "stdout",
     "output_type": "stream",
     "text": [
      "    mean_fit_time  std_fit_time  mean_score_time  std_score_time  \\\n",
      "0        1.977673      0.478011         0.151957        0.020369   \n",
      "1        3.518481      0.216144         0.347586        0.029059   \n",
      "2        6.055263      0.097734         0.818119        0.107134   \n",
      "3       16.850332      2.873108         2.821904        0.487983   \n",
      "4        1.499277      0.511519         0.138390        0.057730   \n",
      "5        6.415990      0.988412         0.866351        0.386062   \n",
      "6        9.685760      1.261269         0.972980        0.290324   \n",
      "7       19.579141      2.662761         2.178906        0.444642   \n",
      "8        1.089438      0.058144         0.087990        0.010954   \n",
      "9        3.586529      0.027729         0.295344        0.013888   \n",
      "10       6.876091      0.052394         0.551158        0.014573   \n",
      "11      17.250081      0.380541         1.800157        0.271431   \n",
      "12       1.232698      0.175072         0.084634        0.005441   \n",
      "13       4.047585      0.052114         0.288618        0.014661   \n",
      "14       7.651467      0.096822         0.553692        0.016648   \n",
      "15      19.627771      0.753837         1.826286        0.306621   \n",
      "16       1.233403      0.031415         0.085991        0.006336   \n",
      "17       4.409037      0.036558         0.278808        0.012423   \n",
      "18       8.489331      0.062501         0.541537        0.014266   \n",
      "19      19.399055      3.129920         1.420014        0.410091   \n",
      "\n",
      "   param_max_features param_n_estimators  \\\n",
      "0                   1                 10   \n",
      "1                   1                 50   \n",
      "2                   1                100   \n",
      "3                   1                250   \n",
      "4                   2                 10   \n",
      "5                   2                 50   \n",
      "6                   2                100   \n",
      "7                   2                250   \n",
      "8                   3                 10   \n",
      "9                   3                 50   \n",
      "10                  3                100   \n",
      "11                  3                250   \n",
      "12                  4                 10   \n",
      "13                  4                 50   \n",
      "14                  4                100   \n",
      "15                  4                250   \n",
      "16                  5                 10   \n",
      "17                  5                 50   \n",
      "18                  5                100   \n",
      "19                  5                250   \n",
      "\n",
      "                                      params  split0_test_score  \\\n",
      "0    {'max_features': 1, 'n_estimators': 10}           0.891766   \n",
      "1    {'max_features': 1, 'n_estimators': 50}           0.947136   \n",
      "2   {'max_features': 1, 'n_estimators': 100}           0.952625   \n",
      "3   {'max_features': 1, 'n_estimators': 250}           0.956921   \n",
      "4    {'max_features': 2, 'n_estimators': 10}           0.902148   \n",
      "5    {'max_features': 2, 'n_estimators': 50}           0.950835   \n",
      "6   {'max_features': 2, 'n_estimators': 100}           0.954177   \n",
      "7   {'max_features': 2, 'n_estimators': 250}           0.957876   \n",
      "8    {'max_features': 3, 'n_estimators': 10}           0.904177   \n",
      "9    {'max_features': 3, 'n_estimators': 50}           0.951074   \n",
      "10  {'max_features': 3, 'n_estimators': 100}           0.955131   \n",
      "11  {'max_features': 3, 'n_estimators': 250}           0.959905   \n",
      "12   {'max_features': 4, 'n_estimators': 10}           0.911337   \n",
      "13   {'max_features': 4, 'n_estimators': 50}           0.953222   \n",
      "14  {'max_features': 4, 'n_estimators': 100}           0.956921   \n",
      "15  {'max_features': 4, 'n_estimators': 250}           0.960740   \n",
      "16   {'max_features': 5, 'n_estimators': 10}           0.913842   \n",
      "17   {'max_features': 5, 'n_estimators': 50}           0.954893   \n",
      "18  {'max_features': 5, 'n_estimators': 100}           0.958234   \n",
      "19  {'max_features': 5, 'n_estimators': 250}           0.961575   \n",
      "\n",
      "    split1_test_score  split2_test_score  split3_test_score  \\\n",
      "0            0.889976           0.896420           0.890453   \n",
      "1            0.944153           0.945107           0.947136   \n",
      "2            0.950358           0.951313           0.950835   \n",
      "3            0.954415           0.954893           0.956205   \n",
      "4            0.902983           0.901790           0.897375   \n",
      "5            0.948926           0.947613           0.947733   \n",
      "6            0.954654           0.953699           0.953103   \n",
      "7            0.958473           0.956205           0.957637   \n",
      "8            0.911217           0.910143           0.902148   \n",
      "9            0.951671           0.950239           0.950239   \n",
      "10           0.956325           0.955967           0.957518   \n",
      "11           0.959069           0.957518           0.960382   \n",
      "12           0.910859           0.911695           0.907160   \n",
      "13           0.953103           0.949403           0.954296   \n",
      "14           0.957518           0.953580           0.956921   \n",
      "15           0.959905           0.956921           0.960024   \n",
      "16           0.916706           0.915871           0.913126   \n",
      "17           0.953580           0.950239           0.952148   \n",
      "18           0.957041           0.956683           0.957160   \n",
      "19           0.960859           0.958592           0.960621   \n",
      "\n",
      "    split4_test_score  mean_test_score  std_test_score  rank_test_score  \n",
      "0            0.896897         0.893103        0.002966               20  \n",
      "1            0.950358         0.946778        0.002133               15  \n",
      "2            0.955728         0.952172        0.001932               12  \n",
      "3            0.958831         0.956253        0.001570                8  \n",
      "4            0.907041         0.902267        0.003081               19  \n",
      "5            0.953103         0.949642        0.002082               14  \n",
      "6            0.959905         0.955107        0.002453                9  \n",
      "7            0.960501         0.958138        0.001397                4  \n",
      "8            0.906802         0.906897        0.003440               18  \n",
      "9            0.952983         0.951241        0.001025               13  \n",
      "10           0.958234         0.956635        0.001108                7  \n",
      "11           0.962172         0.959809        0.001531                3  \n",
      "12           0.911933         0.910597        0.001756               17  \n",
      "13           0.952983         0.952601        0.001666               11  \n",
      "14           0.960263         0.957041        0.002127                6  \n",
      "15           0.962888         0.960095        0.001915                2  \n",
      "16           0.914081         0.914726        0.001341               16  \n",
      "17           0.957041         0.953580        0.002320               10  \n",
      "18           0.959308         0.957685        0.000962                5  \n",
      "19           0.963365         0.961002        0.001542                1  \n"
     ]
    }
   ],
   "source": [
    "print(pd.DataFrame(gridFit.cv_results_))"
   ]
  },
  {
   "cell_type": "code",
   "execution_count": 38,
   "id": "630d21c7",
   "metadata": {
    "scrolled": true
   },
   "outputs": [
    {
     "data": {
      "text/plain": [
       "{'max_features': 5, 'n_estimators': 250}"
      ]
     },
     "execution_count": 38,
     "metadata": {},
     "output_type": "execute_result"
    }
   ],
   "source": [
    "gridFit.best_params_"
   ]
  },
  {
   "cell_type": "markdown",
   "id": "6f08a473",
   "metadata": {},
   "source": [
    "After running the random forest classifier on the data set, the best model was determined to have 250 trees and 5 features used at the split. The mean test score was 0.9610."
   ]
  },
  {
   "cell_type": "markdown",
   "id": "8714fa61",
   "metadata": {},
   "source": [
    "# 2.2"
   ]
  },
  {
   "cell_type": "code",
   "execution_count": 41,
   "id": "83879690",
   "metadata": {},
   "outputs": [],
   "source": [
    "pca=PCA(random_state=123)\n",
    "pcaRes = pca.fit(X)"
   ]
  },
  {
   "cell_type": "markdown",
   "id": "0b3f266d",
   "metadata": {},
   "source": [
    "PCA was instantiated and fit the transformation here."
   ]
  },
  {
   "cell_type": "code",
   "execution_count": 43,
   "id": "3b37b0f5",
   "metadata": {},
   "outputs": [
    {
     "data": {
      "text/plain": [
       "(784, 784)"
      ]
     },
     "execution_count": 43,
     "metadata": {},
     "output_type": "execute_result"
    },
    {
     "data": {
      "text/plain": [
       "(784,)"
      ]
     },
     "execution_count": 43,
     "metadata": {},
     "output_type": "execute_result"
    }
   ],
   "source": [
    "pcaRes.components_.shape\n",
    "pcaRes.singular_values_.shape"
   ]
  },
  {
   "cell_type": "markdown",
   "id": "0ca8f707",
   "metadata": {},
   "source": [
    "Shows the number of components and singular values. This is correct as there was 784 features."
   ]
  },
  {
   "cell_type": "code",
   "execution_count": 44,
   "id": "b10b92c8",
   "metadata": {},
   "outputs": [
    {
     "data": {
      "text/plain": [
       "array([0.09751058, 0.07162264, 0.06144686, 0.05380525, 0.0489378 ,\n",
       "       0.04300919, 0.03276619, 0.02891757, 0.02767343, 0.02348725,\n",
       "       0.02098836, 0.02058547, 0.01701673, 0.01694095, 0.01581236,\n",
       "       0.01483632, 0.01319632, 0.01282735, 0.01187899, 0.01152713])"
      ]
     },
     "execution_count": 44,
     "metadata": {},
     "output_type": "execute_result"
    },
    {
     "data": {
      "text/plain": [
       "1.0"
      ]
     },
     "execution_count": 44,
     "metadata": {},
     "output_type": "execute_result"
    }
   ],
   "source": [
    "pcaRes.explained_variance_ratio_[:20]\n",
    "np.sum(pcaRes.explained_variance_ratio_)"
   ]
  },
  {
   "cell_type": "code",
   "execution_count": 46,
   "id": "e2d18109",
   "metadata": {},
   "outputs": [
    {
     "data": {
      "text/plain": [
       "32"
      ]
     },
     "execution_count": 46,
     "metadata": {},
     "output_type": "execute_result"
    }
   ],
   "source": [
    "evrSum=np.cumsum(pcaRes.explained_variance_ratio_)  \n",
    "np.where(evrSum>=0.75)[0][0]"
   ]
  },
  {
   "cell_type": "markdown",
   "id": "35f6a885",
   "metadata": {},
   "source": [
    "The number of components that account for at leat 75% of the total variation in X was determined to be 33 since 32 is the index value for the 33rd component. "
   ]
  },
  {
   "cell_type": "code",
   "execution_count": 47,
   "id": "59697c6d",
   "metadata": {},
   "outputs": [
    {
     "data": {
      "image/png": "[encoded data removed]",
      "text/plain": [
       "<Figure size 576x576 with 1 Axes>"
      ]
     },
     "metadata": {
      "needs_background": "light"
     },
     "output_type": "display_data"
    }
   ],
   "source": [
    "skplt.decomposition.plot_pca_component_variance(pcaRes,\n",
    "            target_explained_variance=0.75,\n",
    "            figsize=(8,8));"
   ]
  },
  {
   "cell_type": "markdown",
   "id": "9372f7b1",
   "metadata": {},
   "source": [
    "This is shown graphically in the sckit-plot above."
   ]
  },
  {
   "cell_type": "code",
   "execution_count": 48,
   "id": "06bd7a3e",
   "metadata": {},
   "outputs": [
    {
     "data": {
      "text/plain": [
       "(41900, 33)"
      ]
     },
     "execution_count": 48,
     "metadata": {},
     "output_type": "execute_result"
    }
   ],
   "source": [
    "pcaRed=PCA(random_state=123, n_components=33)\n",
    "Xred = pcaRed.fit_transform(X)\n",
    "Xred.shape"
   ]
  },
  {
   "cell_type": "markdown",
   "id": "b007237f",
   "metadata": {},
   "source": [
    "The features were transformed to a space of 33 components here. "
   ]
  },
  {
   "cell_type": "code",
   "execution_count": 50,
   "id": "ea2fee1e",
   "metadata": {},
   "outputs": [],
   "source": [
    "gridFit2 = grid.fit(Xred,y)"
   ]
  },
  {
   "cell_type": "code",
   "execution_count": 51,
   "id": "4d55f3a5",
   "metadata": {},
   "outputs": [
    {
     "name": "stdout",
     "output_type": "stream",
     "text": [
      "    mean_fit_time  std_fit_time  mean_score_time  std_score_time  \\\n",
      "0        0.833543      0.055604         0.035409        0.003006   \n",
      "1        3.697121      0.019553         0.150701        0.016850   \n",
      "2        7.292985      0.077778         0.278086        0.005521   \n",
      "3       18.424630      0.152585         0.729795        0.028460   \n",
      "4        1.219197      0.026315         0.028212        0.001646   \n",
      "5        6.030883      0.019792         0.126503        0.006219   \n",
      "6       12.323860      0.115082         0.256269        0.007393   \n",
      "7       30.037952      0.248601         0.624321        0.005051   \n",
      "8        1.651668      0.014820         0.029009        0.003167   \n",
      "9        9.105415      0.561963         0.120375        0.006349   \n",
      "10      16.589582      0.087945         0.236431        0.010702   \n",
      "11      41.333010      0.174277         0.583980        0.009805   \n",
      "12       2.096411      0.035522         0.025374        0.001121   \n",
      "13      10.786794      0.134892         0.113339        0.003542   \n",
      "14      21.515780      0.101106         0.228580        0.011722   \n",
      "15      53.697043      0.283477         0.560815        0.015592   \n",
      "16       2.733016      0.137646         0.025150        0.001552   \n",
      "17      13.571873      0.169311         0.110646        0.004664   \n",
      "18      26.793678      0.062373         0.223121        0.015144   \n",
      "19      62.118693      7.959238         0.477082        0.058475   \n",
      "\n",
      "   param_max_features param_n_estimators  \\\n",
      "0                   1                 10   \n",
      "1                   1                 50   \n",
      "2                   1                100   \n",
      "3                   1                250   \n",
      "4                   2                 10   \n",
      "5                   2                 50   \n",
      "6                   2                100   \n",
      "7                   2                250   \n",
      "8                   3                 10   \n",
      "9                   3                 50   \n",
      "10                  3                100   \n",
      "11                  3                250   \n",
      "12                  4                 10   \n",
      "13                  4                 50   \n",
      "14                  4                100   \n",
      "15                  4                250   \n",
      "16                  5                 10   \n",
      "17                  5                 50   \n",
      "18                  5                100   \n",
      "19                  5                250   \n",
      "\n",
      "                                      params  split0_test_score  \\\n",
      "0    {'max_features': 1, 'n_estimators': 10}           0.861695   \n",
      "1    {'max_features': 1, 'n_estimators': 50}           0.933532   \n",
      "2   {'max_features': 1, 'n_estimators': 100}           0.943556   \n",
      "3   {'max_features': 1, 'n_estimators': 250}           0.947852   \n",
      "4    {'max_features': 2, 'n_estimators': 10}           0.893437   \n",
      "5    {'max_features': 2, 'n_estimators': 50}           0.941527   \n",
      "6   {'max_features': 2, 'n_estimators': 100}           0.947375   \n",
      "7   {'max_features': 2, 'n_estimators': 250}           0.952387   \n",
      "8    {'max_features': 3, 'n_estimators': 10}           0.902029   \n",
      "9    {'max_features': 3, 'n_estimators': 50}           0.943675   \n",
      "10  {'max_features': 3, 'n_estimators': 100}           0.949045   \n",
      "11  {'max_features': 3, 'n_estimators': 250}           0.951313   \n",
      "12   {'max_features': 4, 'n_estimators': 10}           0.910501   \n",
      "13   {'max_features': 4, 'n_estimators': 50}           0.944988   \n",
      "14  {'max_features': 4, 'n_estimators': 100}           0.948807   \n",
      "15  {'max_features': 4, 'n_estimators': 250}           0.950477   \n",
      "16   {'max_features': 5, 'n_estimators': 10}           0.914916   \n",
      "17   {'max_features': 5, 'n_estimators': 50}           0.943437   \n",
      "18  {'max_features': 5, 'n_estimators': 100}           0.949642   \n",
      "19  {'max_features': 5, 'n_estimators': 250}           0.951074   \n",
      "\n",
      "    split1_test_score  split2_test_score  split3_test_score  \\\n",
      "0            0.859905           0.855489           0.851671   \n",
      "1            0.938067           0.936038           0.932339   \n",
      "2            0.947613           0.942124           0.940453   \n",
      "3            0.952864           0.946539           0.946301   \n",
      "4            0.896181           0.895227           0.891169   \n",
      "5            0.945585           0.942005           0.942601   \n",
      "6            0.950955           0.946420           0.946301   \n",
      "7            0.955251           0.950477           0.949761   \n",
      "8            0.908831           0.903103           0.900955   \n",
      "9            0.946539           0.945107           0.942363   \n",
      "10           0.952029           0.948091           0.947733   \n",
      "11           0.953580           0.950239           0.949045   \n",
      "12           0.916706           0.909427           0.908115   \n",
      "13           0.947494           0.942840           0.942482   \n",
      "14           0.951432           0.945585           0.948210   \n",
      "15           0.953222           0.948449           0.950716   \n",
      "16           0.920406           0.911695           0.916348   \n",
      "17           0.947494           0.941885           0.943079   \n",
      "18           0.949403           0.944511           0.946897   \n",
      "19           0.951074           0.946539           0.948091   \n",
      "\n",
      "    split4_test_score  mean_test_score  std_test_score  rank_test_score  \n",
      "0            0.863246         0.858401        0.004251               20  \n",
      "1            0.942959         0.936587        0.003754               15  \n",
      "2            0.952983         0.945346        0.004494               13  \n",
      "3            0.954654         0.949642        0.003449                7  \n",
      "4            0.900000         0.895203        0.002945               19  \n",
      "5            0.950358         0.944415        0.003290               14  \n",
      "6            0.954654         0.949141        0.003233                8  \n",
      "7            0.958592         0.953294        0.003260                1  \n",
      "8            0.914678         0.905919        0.005156               18  \n",
      "9            0.949642         0.945465        0.002512               11  \n",
      "10           0.955370         0.950453        0.002885                5  \n",
      "11           0.956921         0.952220        0.002785                2  \n",
      "12           0.917900         0.912530        0.003988               17  \n",
      "13           0.951551         0.945871        0.003357               10  \n",
      "14           0.954773         0.949761        0.003120                6  \n",
      "15           0.957637         0.952100        0.003156                3  \n",
      "16           0.920167         0.916706        0.003290               16  \n",
      "17           0.950955         0.945370        0.003371               12  \n",
      "18           0.954296         0.948950        0.003261                9  \n",
      "19           0.955847         0.950525        0.003186                4  \n"
     ]
    }
   ],
   "source": [
    "print(pd.DataFrame(gridFit2.cv_results_))"
   ]
  },
  {
   "cell_type": "code",
   "execution_count": 52,
   "id": "8047b138",
   "metadata": {},
   "outputs": [
    {
     "data": {
      "text/plain": [
       "{'max_features': 2, 'n_estimators': 250}"
      ]
     },
     "execution_count": 52,
     "metadata": {},
     "output_type": "execute_result"
    }
   ],
   "source": [
    "gridFit2.best_params_"
   ]
  },
  {
   "cell_type": "markdown",
   "id": "420984e0",
   "metadata": {},
   "source": [
    "After running the random forest classifier on the transformed PCA data set, the best model was determined to have 250 trees and 2 features used at the split. The mean test score was 0.9533. This will be used on the test data."
   ]
  },
  {
   "cell_type": "code",
   "execution_count": 70,
   "id": "f7fe66ba",
   "metadata": {},
   "outputs": [
    {
     "data": {
      "text/plain": [
       "(100, 33)"
      ]
     },
     "execution_count": 70,
     "metadata": {},
     "output_type": "execute_result"
    }
   ],
   "source": [
    "X2 =testDat2.loc[:,testDat2.columns!='label'].to_numpy(copy=True)\n",
    "y2 =testDat2.label.to_numpy(copy=True)\n",
    "np.random.seed(10)\n",
    "reIndx=np.arange(len(X2))\n",
    "y2 = y2[reIndx]\n",
    "X2 = X2[reIndx,:]\n",
    "X2 = X2/255\n",
    "pcaRed2=PCA(random_state=123, n_components=33)\n",
    "Xred2 = pcaRed2.fit_transform(X2)\n",
    "Xred2.shape"
   ]
  },
  {
   "cell_type": "code",
   "execution_count": 71,
   "id": "ea560057",
   "metadata": {},
   "outputs": [
    {
     "data": {
      "text/plain": [
       "1.0"
      ]
     },
     "execution_count": 71,
     "metadata": {},
     "output_type": "execute_result"
    },
    {
     "name": "stdout",
     "output_type": "stream",
     "text": [
      "Test Data Accuracy    :100.0 %\n"
     ]
    }
   ],
   "source": [
    "RF = RandomForestClassifier(random_state = 123, n_estimators = 250, \n",
    "                            max_features = 2)\n",
    "RF = RF.fit(Xred2,y2)\n",
    "testDat2pred = RF.predict(Xred2)\n",
    "testaccuracy = accuracy_score(y2,testDat2pred)\n",
    "testaccuracy\n",
    "print(\"Test Data Accuracy    :{} %\".format(round((trainaccuracy*100),2)))"
   ]
  },
  {
   "cell_type": "markdown",
   "id": "e09163a9",
   "metadata": {},
   "source": [
    "A test data accuracy was obtained as 100% using the model we tuned and used PCA with. "
   ]
  },
  {
   "cell_type": "markdown",
   "id": "539394d4",
   "metadata": {},
   "source": [
    "# 2.3"
   ]
  },
  {
   "cell_type": "code",
   "execution_count": 74,
   "id": "350ef37b",
   "metadata": {},
   "outputs": [
    {
     "data": {
      "text/plain": [
       "(28000,)"
      ]
     },
     "execution_count": 74,
     "metadata": {},
     "output_type": "execute_result"
    }
   ],
   "source": [
    "X3 = testDat.to_numpy(copy=True)\n",
    "X3 = X3/255\n",
    "pcaRed3=PCA(random_state=123, n_components=33)\n",
    "Xred3 = pcaRed3.fit_transform(X3)\n",
    "predy = gridFit2.predict(Xred3)\n",
    "predy.shape"
   ]
  },
  {
   "cell_type": "code",
   "execution_count": 75,
   "id": "810cc41f",
   "metadata": {},
   "outputs": [
    {
     "data": {
      "text/html": [
       "<div>\n",
       "<style scoped>\n",
       "    .dataframe tbody tr th:only-of-type {\n",
       "        vertical-align: middle;\n",
       "    }\n",
       "\n",
       "    .dataframe tbody tr th {\n",
       "        vertical-align: top;\n",
       "    }\n",
       "\n",
       "    .dataframe thead th {\n",
       "        text-align: right;\n",
       "    }\n",
       "</style>\n",
       "<table border=\"1\" class=\"dataframe\">\n",
       "  <thead>\n",
       "    <tr style=\"text-align: right;\">\n",
       "      <th></th>\n",
       "      <th>ImageId</th>\n",
       "      <th>Label</th>\n",
       "    </tr>\n",
       "  </thead>\n",
       "  <tbody>\n",
       "    <tr>\n",
       "      <th>0</th>\n",
       "      <td>1</td>\n",
       "      <td>2</td>\n",
       "    </tr>\n",
       "    <tr>\n",
       "      <th>1</th>\n",
       "      <td>2</td>\n",
       "      <td>0</td>\n",
       "    </tr>\n",
       "    <tr>\n",
       "      <th>2</th>\n",
       "      <td>3</td>\n",
       "      <td>9</td>\n",
       "    </tr>\n",
       "    <tr>\n",
       "      <th>3</th>\n",
       "      <td>4</td>\n",
       "      <td>2</td>\n",
       "    </tr>\n",
       "    <tr>\n",
       "      <th>4</th>\n",
       "      <td>5</td>\n",
       "      <td>4</td>\n",
       "    </tr>\n",
       "    <tr>\n",
       "      <th>...</th>\n",
       "      <td>...</td>\n",
       "      <td>...</td>\n",
       "    </tr>\n",
       "    <tr>\n",
       "      <th>27995</th>\n",
       "      <td>27996</td>\n",
       "      <td>3</td>\n",
       "    </tr>\n",
       "    <tr>\n",
       "      <th>27996</th>\n",
       "      <td>27997</td>\n",
       "      <td>3</td>\n",
       "    </tr>\n",
       "    <tr>\n",
       "      <th>27997</th>\n",
       "      <td>27998</td>\n",
       "      <td>3</td>\n",
       "    </tr>\n",
       "    <tr>\n",
       "      <th>27998</th>\n",
       "      <td>27999</td>\n",
       "      <td>3</td>\n",
       "    </tr>\n",
       "    <tr>\n",
       "      <th>27999</th>\n",
       "      <td>28000</td>\n",
       "      <td>2</td>\n",
       "    </tr>\n",
       "  </tbody>\n",
       "</table>\n",
       "<p>28000 rows × 2 columns</p>\n",
       "</div>"
      ],
      "text/plain": [
       "       ImageId  Label\n",
       "0            1      2\n",
       "1            2      0\n",
       "2            3      9\n",
       "3            4      2\n",
       "4            5      4\n",
       "...        ...    ...\n",
       "27995    27996      3\n",
       "27996    27997      3\n",
       "27997    27998      3\n",
       "27998    27999      3\n",
       "27999    28000      2\n",
       "\n",
       "[28000 rows x 2 columns]"
      ]
     },
     "execution_count": 75,
     "metadata": {},
     "output_type": "execute_result"
    }
   ],
   "source": [
    "submission5 = pd.DataFrame()\n",
    "submission5['ImageId'] = range(1,28001)\n",
    "submission5['Label'] = predy\n",
    "submission5\n",
    "submission5.to_csv('submission5.csv',index=False)"
   ]
  },
  {
   "cell_type": "markdown",
   "id": "e98a402b",
   "metadata": {},
   "source": [
    "The test data was transformed and applied to our best model to prepare for submission."
   ]
  },
  {
   "cell_type": "markdown",
   "id": "8482aa4e",
   "metadata": {},
   "source": [
    "# 2.4 B"
   ]
  },
  {
   "cell_type": "code",
   "execution_count": 89,
   "id": "af7c49d9",
   "metadata": {},
   "outputs": [
    {
     "name": "stdout",
     "output_type": "stream",
     "text": [
      "10\n"
     ]
    }
   ],
   "source": [
    "n_digits = len(np.unique(y))\n",
    "print(n_digits)"
   ]
  },
  {
   "cell_type": "code",
   "execution_count": 90,
   "id": "5da1636e",
   "metadata": {},
   "outputs": [
    {
     "data": {
      "text/plain": [
       "MiniBatchKMeans(n_clusters=10)"
      ]
     },
     "execution_count": 90,
     "metadata": {},
     "output_type": "execute_result"
    }
   ],
   "source": [
    "kmeans = MiniBatchKMeans(n_clusters=n_digits)\n",
    "kmeans.fit(X)"
   ]
  },
  {
   "cell_type": "code",
   "execution_count": 91,
   "id": "2489309e",
   "metadata": {},
   "outputs": [
    {
     "data": {
      "text/plain": [
       "array([8, 4, 5, ..., 1, 0, 1], dtype=int32)"
      ]
     },
     "execution_count": 91,
     "metadata": {},
     "output_type": "execute_result"
    }
   ],
   "source": [
    "kmeans.labels_"
   ]
  },
  {
   "cell_type": "markdown",
   "id": "80883a0e",
   "metadata": {},
   "source": [
    "K-means clustering was applied here and the labels of each input was generated from the K mean model."
   ]
  },
  {
   "cell_type": "code",
   "execution_count": 83,
   "id": "0baea5a9",
   "metadata": {},
   "outputs": [],
   "source": [
    "def infer_cluster_labels(kmeans, actual_labels):\n",
    "    \"\"\"\n",
    "    Associates most probable label with each cluster in KMeans model\n",
    "    returns: dictionary of clusters assigned to each label\n",
    "    \"\"\"\n",
    "\n",
    "    inferred_labels = {}\n",
    "\n",
    "    # Loop through the clusters\n",
    "    for i in range(kmeans.n_clusters):\n",
    "\n",
    "        # find index of points in cluster\n",
    "        labels = []\n",
    "        index = np.where(kmeans.labels_ == i)\n",
    "\n",
    "        # append actual labels for each point in cluster\n",
    "        labels.append(actual_labels[index])\n",
    "\n",
    "        # determine most common label\n",
    "        if len(labels[0]) == 1:\n",
    "            counts = np.bincount(labels[0])\n",
    "        else:\n",
    "            counts = np.bincount(np.squeeze(labels))\n",
    "\n",
    "        # assign the cluster to a value in the inferred_labels dictionary\n",
    "        if np.argmax(counts) in inferred_labels:\n",
    "            # append the new number to the existing array at this slot\n",
    "            inferred_labels[np.argmax(counts)].append(i)\n",
    "        else:\n",
    "            # create a new array in this slot\n",
    "            inferred_labels[np.argmax(counts)] = [i]\n",
    "        \n",
    "    return inferred_labels  \n",
    "\n",
    "def infer_data_labels(X_labels, cluster_labels):\n",
    "    \"\"\"\n",
    "    Determines label for each array, depending on the cluster it has been \n",
    "    assigned to.\n",
    "    returns: predicted labels for each array\n",
    "    \"\"\"\n",
    "    \n",
    "    # empty array of len(X)\n",
    "    predicted_labels = np.zeros(len(X_labels)).astype(np.uint8)\n",
    "    \n",
    "    for i, cluster in enumerate(X_labels):\n",
    "        for key, value in cluster_labels.items():\n",
    "            if cluster in value:\n",
    "                predicted_labels[i] = key\n",
    "                \n",
    "    return predicted_labels"
   ]
  },
  {
   "cell_type": "markdown",
   "id": "a4f319a9",
   "metadata": {},
   "source": [
    "To match with the real labels, the images were combined in the same group, the frequency distribution of the actual labels were checked, and the maximum frequent label was found and the label was set."
   ]
  },
  {
   "cell_type": "code",
   "execution_count": 93,
   "id": "772ab7e0",
   "metadata": {},
   "outputs": [
    {
     "name": "stdout",
     "output_type": "stream",
     "text": [
      "[1 0 1 4 0 5 7 3 5 5 7 7 1 3 3 1 3 5 7 6]\n",
      "[1 0 1 4 0 0 7 3 5 3 8 9 1 3 3 1 2 0 7 5]\n"
     ]
    }
   ],
   "source": [
    "cluster_labels = infer_cluster_labels(kmeans, y)\n",
    "X_clusters = kmeans.predict(X)\n",
    "predicted_labels = infer_data_labels(X_clusters, cluster_labels)\n",
    "print(predicted_labels[:20])\n",
    "print(y[:20])"
   ]
  },
  {
   "cell_type": "markdown",
   "id": "bbc2fd67",
   "metadata": {},
   "source": [
    "The results are shown here."
   ]
  },
  {
   "cell_type": "code",
   "execution_count": 94,
   "id": "b405a8c1",
   "metadata": {},
   "outputs": [],
   "source": [
    "from sklearn.metrics import homogeneity_score\n",
    "\n",
    "def calc_metrics(estimator, data, labels):\n",
    "    print('Number of Clusters: {}'.format(estimator.n_clusters))\n",
    "    # Inertia\n",
    "    inertia = estimator.inertia_\n",
    "    print(\"Inertia: {}\".format(inertia))\n",
    "    # Homogeneity Score\n",
    "    homogeneity = homogeneity_score(labels, estimator.labels_)\n",
    "    print(\"Homogeneity score: {}\".format(homogeneity))\n",
    "    return inertia, homogeneity"
   ]
  },
  {
   "cell_type": "code",
   "execution_count": 95,
   "id": "0ee11352",
   "metadata": {},
   "outputs": [
    {
     "data": {
      "text/plain": [
       "MiniBatchKMeans(n_clusters=10)"
      ]
     },
     "execution_count": 95,
     "metadata": {},
     "output_type": "execute_result"
    },
    {
     "name": "stdout",
     "output_type": "stream",
     "text": [
      "Number of Clusters: 10\n",
      "Inertia: 1674742.682074067\n",
      "Homogeneity score: 0.4653325697528783\n",
      "Accuracy: 0.5580668257756564\n",
      "\n"
     ]
    },
    {
     "data": {
      "text/plain": [
       "MiniBatchKMeans(n_clusters=16)"
      ]
     },
     "execution_count": 95,
     "metadata": {},
     "output_type": "execute_result"
    },
    {
     "name": "stdout",
     "output_type": "stream",
     "text": [
      "Number of Clusters: 16\n",
      "Inertia: 1535997.1763716624\n",
      "Homogeneity score: 0.5855907801295434\n",
      "Accuracy: 0.679618138424821\n",
      "\n"
     ]
    },
    {
     "data": {
      "text/plain": [
       "MiniBatchKMeans(n_clusters=36)"
      ]
     },
     "execution_count": 95,
     "metadata": {},
     "output_type": "execute_result"
    },
    {
     "name": "stdout",
     "output_type": "stream",
     "text": [
      "Number of Clusters: 36\n",
      "Inertia: 1372322.5310020307\n",
      "Homogeneity score: 0.6907230733016712\n",
      "Accuracy: 0.7642959427207637\n",
      "\n"
     ]
    },
    {
     "data": {
      "text/plain": [
       "MiniBatchKMeans(n_clusters=64)"
      ]
     },
     "execution_count": 95,
     "metadata": {},
     "output_type": "execute_result"
    },
    {
     "name": "stdout",
     "output_type": "stream",
     "text": [
      "Number of Clusters: 64\n",
      "Inertia: 1268566.4158208342\n",
      "Homogeneity score: 0.7368643587436916\n",
      "Accuracy: 0.8092601431980907\n",
      "\n"
     ]
    },
    {
     "data": {
      "text/plain": [
       "MiniBatchKMeans(n_clusters=144)"
      ]
     },
     "execution_count": 95,
     "metadata": {},
     "output_type": "execute_result"
    },
    {
     "name": "stdout",
     "output_type": "stream",
     "text": [
      "Number of Clusters: 144\n",
      "Inertia: 1143946.927184738\n",
      "Homogeneity score: 0.8056284654966033\n",
      "Accuracy: 0.8633412887828162\n",
      "\n"
     ]
    },
    {
     "data": {
      "text/plain": [
       "MiniBatchKMeans(n_clusters=256)"
      ]
     },
     "execution_count": 95,
     "metadata": {},
     "output_type": "execute_result"
    },
    {
     "name": "stdout",
     "output_type": "stream",
     "text": [
      "Number of Clusters: 256\n",
      "Inertia: 1059643.7438796326\n",
      "Homogeneity score: 0.8464180133548039\n",
      "Accuracy: 0.8959665871121718\n",
      "\n"
     ]
    }
   ],
   "source": [
    "from sklearn.metrics import accuracy_score\n",
    "\n",
    "clusters = [10, 16, 36, 64, 144, 256]\n",
    "iner_list = []\n",
    "homo_list = []\n",
    "acc_list = []\n",
    "\n",
    "for n_clusters in clusters:\n",
    "    estimator = MiniBatchKMeans(n_clusters=n_clusters)\n",
    "    estimator.fit(X)\n",
    "    \n",
    "    inertia, homo = calc_metrics(estimator, X, y)\n",
    "    iner_list.append(inertia)\n",
    "    homo_list.append(homo)\n",
    "    \n",
    "    # Determine predicted labels\n",
    "    cluster_labels = infer_cluster_labels(estimator, y)\n",
    "    prediction = infer_data_labels(estimator.labels_, cluster_labels)\n",
    "    \n",
    "    acc = accuracy_score(y, prediction)\n",
    "    acc_list.append(acc)\n",
    "    print('Accuracy: {}\\n'.format(acc))"
   ]
  },
  {
   "cell_type": "markdown",
   "id": "4faca64a",
   "metadata": {},
   "source": [
    "The clustering algorithm was evaluated here and it was determined that K = 256 had the highest accuracy and the lowest inertia out of all the other number of clusters tested. As a result, as the K-value is increased, the accuracy and homogeneity is also increased and the inertia is decreased."
   ]
  },
  {
   "cell_type": "code",
   "execution_count": 97,
   "id": "4d95cac7",
   "metadata": {},
   "outputs": [
    {
     "data": {
      "text/plain": [
       "MiniBatchKMeans(n_clusters=36)"
      ]
     },
     "execution_count": 97,
     "metadata": {},
     "output_type": "execute_result"
    },
    {
     "data": {
      "text/plain": [
       "Text(0.5, 1.0, 'Inferred Label: 9')"
      ]
     },
     "execution_count": 97,
     "metadata": {},
     "output_type": "execute_result"
    },
    {
     "data": {
      "text/plain": [
       "<matplotlib.image.AxesImage at 0x7f867feb3130>"
      ]
     },
     "execution_count": 97,
     "metadata": {},
     "output_type": "execute_result"
    },
    {
     "data": {
      "text/plain": [
       "(-0.5, 27.5, 27.5, -0.5)"
      ]
     },
     "execution_count": 97,
     "metadata": {},
     "output_type": "execute_result"
    },
    {
     "data": {
      "text/plain": [
       "Text(0.5, 1.0, 'Inferred Label: 3')"
      ]
     },
     "execution_count": 97,
     "metadata": {},
     "output_type": "execute_result"
    },
    {
     "data": {
      "text/plain": [
       "<matplotlib.image.AxesImage at 0x7f867febfb20>"
      ]
     },
     "execution_count": 97,
     "metadata": {},
     "output_type": "execute_result"
    },
    {
     "data": {
      "text/plain": [
       "(-0.5, 27.5, 27.5, -0.5)"
      ]
     },
     "execution_count": 97,
     "metadata": {},
     "output_type": "execute_result"
    },
    {
     "data": {
      "text/plain": [
       "Text(0.5, 1.0, 'Inferred Label: 8')"
      ]
     },
     "execution_count": 97,
     "metadata": {},
     "output_type": "execute_result"
    },
    {
     "data": {
      "text/plain": [
       "<matplotlib.image.AxesImage at 0x7f867febf790>"
      ]
     },
     "execution_count": 97,
     "metadata": {},
     "output_type": "execute_result"
    },
    {
     "data": {
      "text/plain": [
       "(-0.5, 27.5, 27.5, -0.5)"
      ]
     },
     "execution_count": 97,
     "metadata": {},
     "output_type": "execute_result"
    },
    {
     "data": {
      "text/plain": [
       "Text(0.5, 1.0, 'Inferred Label: 9')"
      ]
     },
     "execution_count": 97,
     "metadata": {},
     "output_type": "execute_result"
    },
    {
     "data": {
      "text/plain": [
       "<matplotlib.image.AxesImage at 0x7f867febfa00>"
      ]
     },
     "execution_count": 97,
     "metadata": {},
     "output_type": "execute_result"
    },
    {
     "data": {
      "text/plain": [
       "(-0.5, 27.5, 27.5, -0.5)"
      ]
     },
     "execution_count": 97,
     "metadata": {},
     "output_type": "execute_result"
    },
    {
     "data": {
      "text/plain": [
       "Text(0.5, 1.0, 'Inferred Label: 0')"
      ]
     },
     "execution_count": 97,
     "metadata": {},
     "output_type": "execute_result"
    },
    {
     "data": {
      "text/plain": [
       "<matplotlib.image.AxesImage at 0x7f867febfac0>"
      ]
     },
     "execution_count": 97,
     "metadata": {},
     "output_type": "execute_result"
    },
    {
     "data": {
      "text/plain": [
       "(-0.5, 27.5, 27.5, -0.5)"
      ]
     },
     "execution_count": 97,
     "metadata": {},
     "output_type": "execute_result"
    },
    {
     "data": {
      "text/plain": [
       "Text(0.5, 1.0, 'Inferred Label: 5')"
      ]
     },
     "execution_count": 97,
     "metadata": {},
     "output_type": "execute_result"
    },
    {
     "data": {
      "text/plain": [
       "<matplotlib.image.AxesImage at 0x7f867fed8730>"
      ]
     },
     "execution_count": 97,
     "metadata": {},
     "output_type": "execute_result"
    },
    {
     "data": {
      "text/plain": [
       "(-0.5, 27.5, 27.5, -0.5)"
      ]
     },
     "execution_count": 97,
     "metadata": {},
     "output_type": "execute_result"
    },
    {
     "data": {
      "text/plain": [
       "Text(0.5, 1.0, 'Inferred Label: 9')"
      ]
     },
     "execution_count": 97,
     "metadata": {},
     "output_type": "execute_result"
    },
    {
     "data": {
      "text/plain": [
       "<matplotlib.image.AxesImage at 0x7f867fed8760>"
      ]
     },
     "execution_count": 97,
     "metadata": {},
     "output_type": "execute_result"
    },
    {
     "data": {
      "text/plain": [
       "(-0.5, 27.5, 27.5, -0.5)"
      ]
     },
     "execution_count": 97,
     "metadata": {},
     "output_type": "execute_result"
    },
    {
     "data": {
      "text/plain": [
       "Text(0.5, 1.0, 'Inferred Label: 3')"
      ]
     },
     "execution_count": 97,
     "metadata": {},
     "output_type": "execute_result"
    },
    {
     "data": {
      "text/plain": [
       "<matplotlib.image.AxesImage at 0x7f867fed8790>"
      ]
     },
     "execution_count": 97,
     "metadata": {},
     "output_type": "execute_result"
    },
    {
     "data": {
      "text/plain": [
       "(-0.5, 27.5, 27.5, -0.5)"
      ]
     },
     "execution_count": 97,
     "metadata": {},
     "output_type": "execute_result"
    },
    {
     "data": {
      "text/plain": [
       "Text(0.5, 1.0, 'Inferred Label: 1')"
      ]
     },
     "execution_count": 97,
     "metadata": {},
     "output_type": "execute_result"
    },
    {
     "data": {
      "text/plain": [
       "<matplotlib.image.AxesImage at 0x7f867fed8a90>"
      ]
     },
     "execution_count": 97,
     "metadata": {},
     "output_type": "execute_result"
    },
    {
     "data": {
      "text/plain": [
       "(-0.5, 27.5, 27.5, -0.5)"
      ]
     },
     "execution_count": 97,
     "metadata": {},
     "output_type": "execute_result"
    },
    {
     "data": {
      "text/plain": [
       "Text(0.5, 1.0, 'Inferred Label: 2')"
      ]
     },
     "execution_count": 97,
     "metadata": {},
     "output_type": "execute_result"
    },
    {
     "data": {
      "text/plain": [
       "<matplotlib.image.AxesImage at 0x7f867fed82b0>"
      ]
     },
     "execution_count": 97,
     "metadata": {},
     "output_type": "execute_result"
    },
    {
     "data": {
      "text/plain": [
       "(-0.5, 27.5, 27.5, -0.5)"
      ]
     },
     "execution_count": 97,
     "metadata": {},
     "output_type": "execute_result"
    },
    {
     "data": {
      "text/plain": [
       "Text(0.5, 1.0, 'Inferred Label: 0')"
      ]
     },
     "execution_count": 97,
     "metadata": {},
     "output_type": "execute_result"
    },
    {
     "data": {
      "text/plain": [
       "<matplotlib.image.AxesImage at 0x7f865cc2f2e0>"
      ]
     },
     "execution_count": 97,
     "metadata": {},
     "output_type": "execute_result"
    },
    {
     "data": {
      "text/plain": [
       "(-0.5, 27.5, 27.5, -0.5)"
      ]
     },
     "execution_count": 97,
     "metadata": {},
     "output_type": "execute_result"
    },
    {
     "data": {
      "text/plain": [
       "Text(0.5, 1.0, 'Inferred Label: 7')"
      ]
     },
     "execution_count": 97,
     "metadata": {},
     "output_type": "execute_result"
    },
    {
     "data": {
      "text/plain": [
       "<matplotlib.image.AxesImage at 0x7f867fee99d0>"
      ]
     },
     "execution_count": 97,
     "metadata": {},
     "output_type": "execute_result"
    },
    {
     "data": {
      "text/plain": [
       "(-0.5, 27.5, 27.5, -0.5)"
      ]
     },
     "execution_count": 97,
     "metadata": {},
     "output_type": "execute_result"
    },
    {
     "data": {
      "text/plain": [
       "Text(0.5, 1.0, 'Inferred Label: 8')"
      ]
     },
     "execution_count": 97,
     "metadata": {},
     "output_type": "execute_result"
    },
    {
     "data": {
      "text/plain": [
       "<matplotlib.image.AxesImage at 0x7f867fee9ca0>"
      ]
     },
     "execution_count": 97,
     "metadata": {},
     "output_type": "execute_result"
    },
    {
     "data": {
      "text/plain": [
       "(-0.5, 27.5, 27.5, -0.5)"
      ]
     },
     "execution_count": 97,
     "metadata": {},
     "output_type": "execute_result"
    },
    {
     "data": {
      "text/plain": [
       "Text(0.5, 1.0, 'Inferred Label: 1')"
      ]
     },
     "execution_count": 97,
     "metadata": {},
     "output_type": "execute_result"
    },
    {
     "data": {
      "text/plain": [
       "<matplotlib.image.AxesImage at 0x7f867fee9fd0>"
      ]
     },
     "execution_count": 97,
     "metadata": {},
     "output_type": "execute_result"
    },
    {
     "data": {
      "text/plain": [
       "(-0.5, 27.5, 27.5, -0.5)"
      ]
     },
     "execution_count": 97,
     "metadata": {},
     "output_type": "execute_result"
    },
    {
     "data": {
      "text/plain": [
       "Text(0.5, 1.0, 'Inferred Label: 4')"
      ]
     },
     "execution_count": 97,
     "metadata": {},
     "output_type": "execute_result"
    },
    {
     "data": {
      "text/plain": [
       "<matplotlib.image.AxesImage at 0x7f867fee9d90>"
      ]
     },
     "execution_count": 97,
     "metadata": {},
     "output_type": "execute_result"
    },
    {
     "data": {
      "text/plain": [
       "(-0.5, 27.5, 27.5, -0.5)"
      ]
     },
     "execution_count": 97,
     "metadata": {},
     "output_type": "execute_result"
    },
    {
     "data": {
      "text/plain": [
       "Text(0.5, 1.0, 'Inferred Label: 0')"
      ]
     },
     "execution_count": 97,
     "metadata": {},
     "output_type": "execute_result"
    },
    {
     "data": {
      "text/plain": [
       "<matplotlib.image.AxesImage at 0x7f867feee520>"
      ]
     },
     "execution_count": 97,
     "metadata": {},
     "output_type": "execute_result"
    },
    {
     "data": {
      "text/plain": [
       "(-0.5, 27.5, 27.5, -0.5)"
      ]
     },
     "execution_count": 97,
     "metadata": {},
     "output_type": "execute_result"
    },
    {
     "data": {
      "text/plain": [
       "Text(0.5, 1.0, 'Inferred Label: 4')"
      ]
     },
     "execution_count": 97,
     "metadata": {},
     "output_type": "execute_result"
    },
    {
     "data": {
      "text/plain": [
       "<matplotlib.image.AxesImage at 0x7f86600e1c40>"
      ]
     },
     "execution_count": 97,
     "metadata": {},
     "output_type": "execute_result"
    },
    {
     "data": {
      "text/plain": [
       "(-0.5, 27.5, 27.5, -0.5)"
      ]
     },
     "execution_count": 97,
     "metadata": {},
     "output_type": "execute_result"
    },
    {
     "data": {
      "text/plain": [
       "Text(0.5, 1.0, 'Inferred Label: 0')"
      ]
     },
     "execution_count": 97,
     "metadata": {},
     "output_type": "execute_result"
    },
    {
     "data": {
      "text/plain": [
       "<matplotlib.image.AxesImage at 0x7f867feee640>"
      ]
     },
     "execution_count": 97,
     "metadata": {},
     "output_type": "execute_result"
    },
    {
     "data": {
      "text/plain": [
       "(-0.5, 27.5, 27.5, -0.5)"
      ]
     },
     "execution_count": 97,
     "metadata": {},
     "output_type": "execute_result"
    },
    {
     "data": {
      "text/plain": [
       "Text(0.5, 1.0, 'Inferred Label: 2')"
      ]
     },
     "execution_count": 97,
     "metadata": {},
     "output_type": "execute_result"
    },
    {
     "data": {
      "text/plain": [
       "<matplotlib.image.AxesImage at 0x7f867feeeb50>"
      ]
     },
     "execution_count": 97,
     "metadata": {},
     "output_type": "execute_result"
    },
    {
     "data": {
      "text/plain": [
       "(-0.5, 27.5, 27.5, -0.5)"
      ]
     },
     "execution_count": 97,
     "metadata": {},
     "output_type": "execute_result"
    },
    {
     "data": {
      "text/plain": [
       "Text(0.5, 1.0, 'Inferred Label: 6')"
      ]
     },
     "execution_count": 97,
     "metadata": {},
     "output_type": "execute_result"
    },
    {
     "data": {
      "text/plain": [
       "<matplotlib.image.AxesImage at 0x7f867feeef70>"
      ]
     },
     "execution_count": 97,
     "metadata": {},
     "output_type": "execute_result"
    },
    {
     "data": {
      "text/plain": [
       "(-0.5, 27.5, 27.5, -0.5)"
      ]
     },
     "execution_count": 97,
     "metadata": {},
     "output_type": "execute_result"
    },
    {
     "data": {
      "text/plain": [
       "Text(0.5, 1.0, 'Inferred Label: 1')"
      ]
     },
     "execution_count": 97,
     "metadata": {},
     "output_type": "execute_result"
    },
    {
     "data": {
      "text/plain": [
       "<matplotlib.image.AxesImage at 0x7f867fb3ea30>"
      ]
     },
     "execution_count": 97,
     "metadata": {},
     "output_type": "execute_result"
    },
    {
     "data": {
      "text/plain": [
       "(-0.5, 27.5, 27.5, -0.5)"
      ]
     },
     "execution_count": 97,
     "metadata": {},
     "output_type": "execute_result"
    },
    {
     "data": {
      "text/plain": [
       "Text(0.5, 1.0, 'Inferred Label: 0')"
      ]
     },
     "execution_count": 97,
     "metadata": {},
     "output_type": "execute_result"
    },
    {
     "data": {
      "text/plain": [
       "<matplotlib.image.AxesImage at 0x7f867fefe220>"
      ]
     },
     "execution_count": 97,
     "metadata": {},
     "output_type": "execute_result"
    },
    {
     "data": {
      "text/plain": [
       "(-0.5, 27.5, 27.5, -0.5)"
      ]
     },
     "execution_count": 97,
     "metadata": {},
     "output_type": "execute_result"
    },
    {
     "data": {
      "text/plain": [
       "Text(0.5, 1.0, 'Inferred Label: 1')"
      ]
     },
     "execution_count": 97,
     "metadata": {},
     "output_type": "execute_result"
    },
    {
     "data": {
      "text/plain": [
       "<matplotlib.image.AxesImage at 0x7f867fefe520>"
      ]
     },
     "execution_count": 97,
     "metadata": {},
     "output_type": "execute_result"
    },
    {
     "data": {
      "text/plain": [
       "(-0.5, 27.5, 27.5, -0.5)"
      ]
     },
     "execution_count": 97,
     "metadata": {},
     "output_type": "execute_result"
    },
    {
     "data": {
      "text/plain": [
       "Text(0.5, 1.0, 'Inferred Label: 3')"
      ]
     },
     "execution_count": 97,
     "metadata": {},
     "output_type": "execute_result"
    },
    {
     "data": {
      "text/plain": [
       "<matplotlib.image.AxesImage at 0x7f867fefe7c0>"
      ]
     },
     "execution_count": 97,
     "metadata": {},
     "output_type": "execute_result"
    },
    {
     "data": {
      "text/plain": [
       "(-0.5, 27.5, 27.5, -0.5)"
      ]
     },
     "execution_count": 97,
     "metadata": {},
     "output_type": "execute_result"
    },
    {
     "data": {
      "text/plain": [
       "Text(0.5, 1.0, 'Inferred Label: 3')"
      ]
     },
     "execution_count": 97,
     "metadata": {},
     "output_type": "execute_result"
    },
    {
     "data": {
      "text/plain": [
       "<matplotlib.image.AxesImage at 0x7f867fefe280>"
      ]
     },
     "execution_count": 97,
     "metadata": {},
     "output_type": "execute_result"
    },
    {
     "data": {
      "text/plain": [
       "(-0.5, 27.5, 27.5, -0.5)"
      ]
     },
     "execution_count": 97,
     "metadata": {},
     "output_type": "execute_result"
    },
    {
     "data": {
      "text/plain": [
       "Text(0.5, 1.0, 'Inferred Label: 5')"
      ]
     },
     "execution_count": 97,
     "metadata": {},
     "output_type": "execute_result"
    },
    {
     "data": {
      "text/plain": [
       "<matplotlib.image.AxesImage at 0x7f867fefea60>"
      ]
     },
     "execution_count": 97,
     "metadata": {},
     "output_type": "execute_result"
    },
    {
     "data": {
      "text/plain": [
       "(-0.5, 27.5, 27.5, -0.5)"
      ]
     },
     "execution_count": 97,
     "metadata": {},
     "output_type": "execute_result"
    },
    {
     "data": {
      "text/plain": [
       "Text(0.5, 1.0, 'Inferred Label: 2')"
      ]
     },
     "execution_count": 97,
     "metadata": {},
     "output_type": "execute_result"
    },
    {
     "data": {
      "text/plain": [
       "<matplotlib.image.AxesImage at 0x7f867fefe700>"
      ]
     },
     "execution_count": 97,
     "metadata": {},
     "output_type": "execute_result"
    },
    {
     "data": {
      "text/plain": [
       "(-0.5, 27.5, 27.5, -0.5)"
      ]
     },
     "execution_count": 97,
     "metadata": {},
     "output_type": "execute_result"
    },
    {
     "data": {
      "text/plain": [
       "Text(0.5, 1.0, 'Inferred Label: 6')"
      ]
     },
     "execution_count": 97,
     "metadata": {},
     "output_type": "execute_result"
    },
    {
     "data": {
      "text/plain": [
       "<matplotlib.image.AxesImage at 0x7f867fcd62b0>"
      ]
     },
     "execution_count": 97,
     "metadata": {},
     "output_type": "execute_result"
    },
    {
     "data": {
      "text/plain": [
       "(-0.5, 27.5, 27.5, -0.5)"
      ]
     },
     "execution_count": 97,
     "metadata": {},
     "output_type": "execute_result"
    },
    {
     "data": {
      "text/plain": [
       "Text(0.5, 1.0, 'Inferred Label: 9')"
      ]
     },
     "execution_count": 97,
     "metadata": {},
     "output_type": "execute_result"
    },
    {
     "data": {
      "text/plain": [
       "<matplotlib.image.AxesImage at 0x7f867ff12820>"
      ]
     },
     "execution_count": 97,
     "metadata": {},
     "output_type": "execute_result"
    },
    {
     "data": {
      "text/plain": [
       "(-0.5, 27.5, 27.5, -0.5)"
      ]
     },
     "execution_count": 97,
     "metadata": {},
     "output_type": "execute_result"
    },
    {
     "data": {
      "text/plain": [
       "Text(0.5, 1.0, 'Inferred Label: 6')"
      ]
     },
     "execution_count": 97,
     "metadata": {},
     "output_type": "execute_result"
    },
    {
     "data": {
      "text/plain": [
       "<matplotlib.image.AxesImage at 0x7f867ff12a30>"
      ]
     },
     "execution_count": 97,
     "metadata": {},
     "output_type": "execute_result"
    },
    {
     "data": {
      "text/plain": [
       "(-0.5, 27.5, 27.5, -0.5)"
      ]
     },
     "execution_count": 97,
     "metadata": {},
     "output_type": "execute_result"
    },
    {
     "data": {
      "text/plain": [
       "Text(0.5, 1.0, 'Inferred Label: 3')"
      ]
     },
     "execution_count": 97,
     "metadata": {},
     "output_type": "execute_result"
    },
    {
     "data": {
      "text/plain": [
       "<matplotlib.image.AxesImage at 0x7f867ff12eb0>"
      ]
     },
     "execution_count": 97,
     "metadata": {},
     "output_type": "execute_result"
    },
    {
     "data": {
      "text/plain": [
       "(-0.5, 27.5, 27.5, -0.5)"
      ]
     },
     "execution_count": 97,
     "metadata": {},
     "output_type": "execute_result"
    },
    {
     "data": {
      "text/plain": [
       "Text(0.5, 1.0, 'Inferred Label: 3')"
      ]
     },
     "execution_count": 97,
     "metadata": {},
     "output_type": "execute_result"
    },
    {
     "data": {
      "text/plain": [
       "<matplotlib.image.AxesImage at 0x7f867ff12e20>"
      ]
     },
     "execution_count": 97,
     "metadata": {},
     "output_type": "execute_result"
    },
    {
     "data": {
      "text/plain": [
       "(-0.5, 27.5, 27.5, -0.5)"
      ]
     },
     "execution_count": 97,
     "metadata": {},
     "output_type": "execute_result"
    },
    {
     "data": {
      "text/plain": [
       "Text(0.5, 1.0, 'Inferred Label: 7')"
      ]
     },
     "execution_count": 97,
     "metadata": {},
     "output_type": "execute_result"
    },
    {
     "data": {
      "text/plain": [
       "<matplotlib.image.AxesImage at 0x7f867ff17460>"
      ]
     },
     "execution_count": 97,
     "metadata": {},
     "output_type": "execute_result"
    },
    {
     "data": {
      "text/plain": [
       "(-0.5, 27.5, 27.5, -0.5)"
      ]
     },
     "execution_count": 97,
     "metadata": {},
     "output_type": "execute_result"
    },
    {
     "data": {
      "text/plain": [
       "Text(0.5, 1.0, 'Inferred Label: 8')"
      ]
     },
     "execution_count": 97,
     "metadata": {},
     "output_type": "execute_result"
    },
    {
     "data": {
      "text/plain": [
       "<matplotlib.image.AxesImage at 0x7f867ff17310>"
      ]
     },
     "execution_count": 97,
     "metadata": {},
     "output_type": "execute_result"
    },
    {
     "data": {
      "text/plain": [
       "(-0.5, 27.5, 27.5, -0.5)"
      ]
     },
     "execution_count": 97,
     "metadata": {},
     "output_type": "execute_result"
    },
    {
     "data": {
      "text/plain": [
       "Text(0.5, 1.0, 'Inferred Label: 5')"
      ]
     },
     "execution_count": 97,
     "metadata": {},
     "output_type": "execute_result"
    },
    {
     "data": {
      "text/plain": [
       "<matplotlib.image.AxesImage at 0x7f867ff17d30>"
      ]
     },
     "execution_count": 97,
     "metadata": {},
     "output_type": "execute_result"
    },
    {
     "data": {
      "text/plain": [
       "(-0.5, 27.5, 27.5, -0.5)"
      ]
     },
     "execution_count": 97,
     "metadata": {},
     "output_type": "execute_result"
    },
    {
     "data": {
      "text/plain": [
       "Text(0.5, 1.0, 'Inferred Label: 7')"
      ]
     },
     "execution_count": 97,
     "metadata": {},
     "output_type": "execute_result"
    },
    {
     "data": {
      "text/plain": [
       "<matplotlib.image.AxesImage at 0x7f867ff17eb0>"
      ]
     },
     "execution_count": 97,
     "metadata": {},
     "output_type": "execute_result"
    },
    {
     "data": {
      "text/plain": [
       "(-0.5, 27.5, 27.5, -0.5)"
      ]
     },
     "execution_count": 97,
     "metadata": {},
     "output_type": "execute_result"
    },
    {
     "data": {
      "image/png": "[encoded data removed]",
      "text/plain": [
       "<Figure size 1440x1440 with 36 Axes>"
      ]
     },
     "metadata": {
      "needs_background": "light"
     },
     "output_type": "display_data"
    }
   ],
   "source": [
    "# Initialize and fit KMeans algorithm\n",
    "kmeans = MiniBatchKMeans(n_clusters = 36)\n",
    "kmeans.fit(X)\n",
    "\n",
    "# record centroid values\n",
    "centroids = kmeans.cluster_centers_\n",
    "\n",
    "# reshape centroids into images\n",
    "images = centroids.reshape(36, 28, 28)\n",
    "images *= 255\n",
    "images = images.astype(np.uint8)\n",
    "\n",
    "# determine cluster labels\n",
    "cluster_labels = infer_cluster_labels(kmeans, y)\n",
    "prediction = infer_data_labels(kmeans.predict(X), cluster_labels)\n",
    "\n",
    "# create figure with subplots using matplotlib.pyplot\n",
    "fig, axs = plt.subplots(6, 6, figsize = (20, 20))\n",
    "plt.gray()\n",
    "\n",
    "# loop through subplots and add centroid images\n",
    "for i, ax in enumerate(axs.flat):\n",
    "    \n",
    "    # determine inferred label using cluster_labels dictionary\n",
    "    for key, value in cluster_labels.items():        \n",
    "        if i in value:\n",
    "            ax.set_title('Inferred Label: {}'.format(key), color='blue')\n",
    "    \n",
    "    # add image to subplot\n",
    "    ax.matshow(images[i])\n",
    "    ax.axis('off')\n",
    "    \n",
    "# display the figure\n",
    "plt.show()"
   ]
  },
  {
   "cell_type": "markdown",
   "id": "2a20a0ec",
   "metadata": {},
   "source": [
    "The real images are visualized here."
   ]
  }
 ],
 "metadata": {
  "kernelspec": {
   "display_name": "Python 3 (ipykernel)",
   "language": "python",
   "name": "python3"
  },
  "language_info": {
   "codemirror_mode": {
    "name": "ipython",
    "version": 3
   },
   "file_extension": ".py",
   "mimetype": "text/x-python",
   "name": "python",
   "nbconvert_exporter": "python",
   "pygments_lexer": "ipython3",
   "version": "3.9.7"
  }
 },
 "nbformat": 4,
 "nbformat_minor": 5
}
