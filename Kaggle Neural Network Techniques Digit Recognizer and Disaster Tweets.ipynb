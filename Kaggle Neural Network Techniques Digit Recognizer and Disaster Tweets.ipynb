{
 "cells": [
  {
   "cell_type": "code",
   "execution_count": 1,
   "id": "d3998a93",
   "metadata": {},
   "outputs": [],
   "source": [
    "from IPython.display import HTML\n",
    "from IPython.core.interactiveshell import InteractiveShell\n",
    "InteractiveShell.ast_node_interactivity = \"all\""
   ]
  },
  {
   "cell_type": "markdown",
   "id": "ac817249",
   "metadata": {},
   "source": [
    "# Assignment 4 Part 1"
   ]
  },
  {
   "cell_type": "markdown",
   "id": "b06aceb4",
   "metadata": {},
   "source": [
    "# Libraries"
   ]
  },
  {
   "cell_type": "code",
   "execution_count": 62,
   "id": "2fb92e00",
   "metadata": {},
   "outputs": [],
   "source": [
    "import os\n",
    "import numpy as np\n",
    "import pandas as pd\n",
    "import tensorflow as tf\n",
    "from tensorflow.keras import layers\n",
    "from tensorflow.keras import models\n",
    "from tensorflow.keras import optimizers\n",
    "from keras.models import load_model, save_model\n",
    "from sklearn.model_selection import train_test_split\n",
    "import matplotlib.pyplot as plt\n",
    "import seaborn as sns\n",
    "from plot_keras_history import show_history, plot_history\n",
    "import scikitplot as skplt\n",
    "import glob\n",
    "from IPython.utils import io\n",
    "from tensorflow.keras.preprocessing.text import Tokenizer\n",
    "from tensorflow.keras.preprocessing.sequence import pad_sequences\n",
    "from numpy import save, load\n",
    "from pickleshare import PickleShareDB\n",
    "%matplotlib inline"
   ]
  },
  {
   "cell_type": "markdown",
   "id": "5960cf9c",
   "metadata": {},
   "source": [
    "# 1A"
   ]
  },
  {
   "cell_type": "code",
   "execution_count": 3,
   "id": "4d281365",
   "metadata": {},
   "outputs": [],
   "source": [
    "trainDat = pd.read_csv('train_digital.csv')\n",
    "testDat =  pd.read_csv('test_digital.csv')"
   ]
  },
  {
   "cell_type": "code",
   "execution_count": 4,
   "id": "06f6b718",
   "metadata": {},
   "outputs": [],
   "source": [
    "np.random.seed(11)\n",
    "X = trainDat.loc[:,trainDat.columns!='label'].to_numpy(copy = True)\n",
    "y = trainDat.label.to_numpy(copy = True)\n",
    "TrainX, TestX, Trainy, Testy = train_test_split(X,y,\n",
    "                                      stratify=y,\n",
    "                                      shuffle=True,\n",
    "                                      test_size=0.10,\n",
    "                                      random_state=3)"
   ]
  },
  {
   "cell_type": "code",
   "execution_count": 54,
   "id": "2f57034c",
   "metadata": {},
   "outputs": [
    {
     "data": {
      "text/plain": [
       "(37800, 784)"
      ]
     },
     "execution_count": 54,
     "metadata": {},
     "output_type": "execute_result"
    },
    {
     "data": {
      "text/plain": [
       "(4200, 784)"
      ]
     },
     "execution_count": 54,
     "metadata": {},
     "output_type": "execute_result"
    },
    {
     "data": {
      "text/plain": [
       "(37800, 10)"
      ]
     },
     "execution_count": 54,
     "metadata": {},
     "output_type": "execute_result"
    },
    {
     "data": {
      "text/plain": [
       "(4200, 10)"
      ]
     },
     "execution_count": 54,
     "metadata": {},
     "output_type": "execute_result"
    }
   ],
   "source": [
    "TrainX.shape\n",
    "TestX.shape\n",
    "Trainy.shape\n",
    "Testy.shape"
   ]
  },
  {
   "cell_type": "code",
   "execution_count": 6,
   "id": "17e1882b",
   "metadata": {},
   "outputs": [],
   "source": [
    "TrainX = TrainX/255\n",
    "TestX = TestX/255"
   ]
  },
  {
   "cell_type": "markdown",
   "id": "38d32247",
   "metadata": {},
   "source": [
    "The dataset is read in and the training data is randomly split off and 10% is set aside to use in final testing of the model. They are converted to numpy arrays and standardized. "
   ]
  },
  {
   "cell_type": "code",
   "execution_count": 7,
   "id": "451b8339",
   "metadata": {},
   "outputs": [],
   "source": [
    "Trainy = tf.keras.utils.to_categorical(Trainy, num_classes=10)\n",
    "Testy = tf.keras.utils.to_categorical(Testy, num_classes=10)"
   ]
  },
  {
   "cell_type": "markdown",
   "id": "d86cde45",
   "metadata": {},
   "source": [
    "The training y and testing y data are converted to binary variables for the MLP and CNN models."
   ]
  },
  {
   "cell_type": "code",
   "execution_count": 8,
   "id": "ec2dfce9",
   "metadata": {},
   "outputs": [],
   "source": [
    "tf.keras.backend.clear_session()\n",
    "tf.keras.utils.set_random_seed(9)"
   ]
  },
  {
   "cell_type": "code",
   "execution_count": 9,
   "id": "6a1a075f",
   "metadata": {
    "scrolled": true
   },
   "outputs": [
    {
     "name": "stdout",
     "output_type": "stream",
     "text": [
      "Model: \"sequential\"\n",
      "_________________________________________________________________\n",
      " Layer (type)                Output Shape              Param #   \n",
      "=================================================================\n",
      " dense (Dense)               (None, 32)                25120     \n",
      "                                                                 \n",
      " dense_1 (Dense)             (None, 32)                1056      \n",
      "                                                                 \n",
      " dense_2 (Dense)             (None, 32)                1056      \n",
      "                                                                 \n",
      " dense_3 (Dense)             (None, 32)                1056      \n",
      "                                                                 \n",
      " dense_4 (Dense)             (None, 10)                330       \n",
      "                                                                 \n",
      "=================================================================\n",
      "Total params: 28,618\n",
      "Trainable params: 28,618\n",
      "Non-trainable params: 0\n",
      "_________________________________________________________________\n"
     ]
    },
    {
     "name": "stderr",
     "output_type": "stream",
     "text": [
      "2022-03-04 04:53:42.544591: I tensorflow/core/platform/cpu_feature_guard.cc:151] This TensorFlow binary is optimized with oneAPI Deep Neural Network Library (oneDNN) to use the following CPU instructions in performance-critical operations:  AVX2 FMA\n",
      "To enable them in other operations, rebuild TensorFlow with the appropriate compiler flags.\n"
     ]
    }
   ],
   "source": [
    "mlp1 = tf.keras.Sequential()\n",
    "mlp1.add(tf.keras.Input(shape=(784,)))\n",
    "mlp1.add(layers.Dense(32,activation='relu'))\n",
    "mlp1.add(layers.Dense(32,activation='relu'))\n",
    "mlp1.add(layers.Dense(32,activation='relu'))\n",
    "mlp1.add(layers.Dense(32,activation='relu'))\n",
    "mlp1.add(layers.Dense(10,activation='relu'))\n",
    "mlp1.summary()"
   ]
  },
  {
   "cell_type": "markdown",
   "id": "ee60b182",
   "metadata": {},
   "source": [
    "The first MLP was created here with 4 hidden layers, relu activation, and 32 units/layer. Three more MLP's will be created that consist of 4 hidden layers with relu activation, 2 hidden layers with sigmoid activation, and 4 hidden layers with sigmoid activation."
   ]
  },
  {
   "cell_type": "code",
   "execution_count": 10,
   "id": "79f6e1d1",
   "metadata": {},
   "outputs": [],
   "source": [
    "mlp1.compile(loss='binary_crossentropy',\n",
    "             optimizer=optimizers.RMSprop(learning_rate=1e-4),\n",
    "             metrics=['acc'])"
   ]
  },
  {
   "cell_type": "code",
   "execution_count": 11,
   "id": "b5658f77",
   "metadata": {},
   "outputs": [
    {
     "name": "stdout",
     "output_type": "stream",
     "text": [
      "CPU times: user 55.4 s, sys: 7.15 s, total: 1min 2s\n",
      "Wall time: 36.4 s\n"
     ]
    }
   ],
   "source": [
    "%%time\n",
    "mlp1_history=mlp1.fit(TrainX, Trainy,\n",
    "        epochs=25,\n",
    "        batch_size=32,\n",
    "        validation_data=(TestX,Testy),\n",
    "        verbose=0)"
   ]
  },
  {
   "cell_type": "markdown",
   "id": "9f2ea3d7",
   "metadata": {},
   "source": [
    "The MLP was compiled using binary cross entropy as the loss. The MLP was then trained and validated using the training data that was split earlier with 25 epochs and 32 batch size. These will stay constant in all networks."
   ]
  },
  {
   "cell_type": "code",
   "execution_count": 12,
   "id": "0c717ccb",
   "metadata": {},
   "outputs": [
    {
     "data": {
      "text/html": [
       "<div>\n",
       "<style scoped>\n",
       "    .dataframe tbody tr th:only-of-type {\n",
       "        vertical-align: middle;\n",
       "    }\n",
       "\n",
       "    .dataframe tbody tr th {\n",
       "        vertical-align: top;\n",
       "    }\n",
       "\n",
       "    .dataframe thead th {\n",
       "        text-align: right;\n",
       "    }\n",
       "</style>\n",
       "<table border=\"1\" class=\"dataframe\">\n",
       "  <thead>\n",
       "    <tr style=\"text-align: right;\">\n",
       "      <th></th>\n",
       "      <th>loss</th>\n",
       "      <th>acc</th>\n",
       "      <th>val_loss</th>\n",
       "      <th>val_acc</th>\n",
       "    </tr>\n",
       "  </thead>\n",
       "  <tbody>\n",
       "    <tr>\n",
       "      <th>24</th>\n",
       "      <td>0.043927</td>\n",
       "      <td>0.970238</td>\n",
       "      <td>0.066685</td>\n",
       "      <td>0.954524</td>\n",
       "    </tr>\n",
       "    <tr>\n",
       "      <th>20</th>\n",
       "      <td>0.046634</td>\n",
       "      <td>0.966693</td>\n",
       "      <td>0.066907</td>\n",
       "      <td>0.952857</td>\n",
       "    </tr>\n",
       "    <tr>\n",
       "      <th>22</th>\n",
       "      <td>0.043860</td>\n",
       "      <td>0.968280</td>\n",
       "      <td>0.065636</td>\n",
       "      <td>0.951905</td>\n",
       "    </tr>\n",
       "    <tr>\n",
       "      <th>21</th>\n",
       "      <td>0.045113</td>\n",
       "      <td>0.967725</td>\n",
       "      <td>0.066272</td>\n",
       "      <td>0.951905</td>\n",
       "    </tr>\n",
       "    <tr>\n",
       "      <th>19</th>\n",
       "      <td>0.046919</td>\n",
       "      <td>0.966323</td>\n",
       "      <td>0.065710</td>\n",
       "      <td>0.951190</td>\n",
       "    </tr>\n",
       "    <tr>\n",
       "      <th>23</th>\n",
       "      <td>0.043511</td>\n",
       "      <td>0.969921</td>\n",
       "      <td>0.064261</td>\n",
       "      <td>0.950714</td>\n",
       "    </tr>\n",
       "    <tr>\n",
       "      <th>18</th>\n",
       "      <td>0.048323</td>\n",
       "      <td>0.965503</td>\n",
       "      <td>0.069600</td>\n",
       "      <td>0.950476</td>\n",
       "    </tr>\n",
       "    <tr>\n",
       "      <th>16</th>\n",
       "      <td>0.050647</td>\n",
       "      <td>0.961534</td>\n",
       "      <td>0.068618</td>\n",
       "      <td>0.950000</td>\n",
       "    </tr>\n",
       "    <tr>\n",
       "      <th>14</th>\n",
       "      <td>0.053450</td>\n",
       "      <td>0.959021</td>\n",
       "      <td>0.070593</td>\n",
       "      <td>0.950000</td>\n",
       "    </tr>\n",
       "    <tr>\n",
       "      <th>17</th>\n",
       "      <td>0.049233</td>\n",
       "      <td>0.963492</td>\n",
       "      <td>0.068700</td>\n",
       "      <td>0.949286</td>\n",
       "    </tr>\n",
       "    <tr>\n",
       "      <th>13</th>\n",
       "      <td>0.054892</td>\n",
       "      <td>0.957540</td>\n",
       "      <td>0.072454</td>\n",
       "      <td>0.947857</td>\n",
       "    </tr>\n",
       "    <tr>\n",
       "      <th>15</th>\n",
       "      <td>0.052030</td>\n",
       "      <td>0.960159</td>\n",
       "      <td>0.069554</td>\n",
       "      <td>0.947619</td>\n",
       "    </tr>\n",
       "    <tr>\n",
       "      <th>12</th>\n",
       "      <td>0.056300</td>\n",
       "      <td>0.955688</td>\n",
       "      <td>0.073984</td>\n",
       "      <td>0.945238</td>\n",
       "    </tr>\n",
       "    <tr>\n",
       "      <th>11</th>\n",
       "      <td>0.057751</td>\n",
       "      <td>0.953360</td>\n",
       "      <td>0.070587</td>\n",
       "      <td>0.944762</td>\n",
       "    </tr>\n",
       "    <tr>\n",
       "      <th>10</th>\n",
       "      <td>0.059433</td>\n",
       "      <td>0.950979</td>\n",
       "      <td>0.074796</td>\n",
       "      <td>0.943810</td>\n",
       "    </tr>\n",
       "    <tr>\n",
       "      <th>9</th>\n",
       "      <td>0.061283</td>\n",
       "      <td>0.948360</td>\n",
       "      <td>0.074604</td>\n",
       "      <td>0.940952</td>\n",
       "    </tr>\n",
       "    <tr>\n",
       "      <th>8</th>\n",
       "      <td>0.064525</td>\n",
       "      <td>0.945397</td>\n",
       "      <td>0.075461</td>\n",
       "      <td>0.939762</td>\n",
       "    </tr>\n",
       "    <tr>\n",
       "      <th>7</th>\n",
       "      <td>0.067256</td>\n",
       "      <td>0.941508</td>\n",
       "      <td>0.080444</td>\n",
       "      <td>0.936190</td>\n",
       "    </tr>\n",
       "    <tr>\n",
       "      <th>6</th>\n",
       "      <td>0.071029</td>\n",
       "      <td>0.937116</td>\n",
       "      <td>0.082655</td>\n",
       "      <td>0.931667</td>\n",
       "    </tr>\n",
       "    <tr>\n",
       "      <th>5</th>\n",
       "      <td>0.075424</td>\n",
       "      <td>0.930000</td>\n",
       "      <td>0.085011</td>\n",
       "      <td>0.925714</td>\n",
       "    </tr>\n",
       "    <tr>\n",
       "      <th>4</th>\n",
       "      <td>0.082011</td>\n",
       "      <td>0.921508</td>\n",
       "      <td>0.091887</td>\n",
       "      <td>0.919762</td>\n",
       "    </tr>\n",
       "    <tr>\n",
       "      <th>3</th>\n",
       "      <td>0.091328</td>\n",
       "      <td>0.908095</td>\n",
       "      <td>0.095914</td>\n",
       "      <td>0.909762</td>\n",
       "    </tr>\n",
       "    <tr>\n",
       "      <th>2</th>\n",
       "      <td>0.108425</td>\n",
       "      <td>0.881852</td>\n",
       "      <td>0.108213</td>\n",
       "      <td>0.896190</td>\n",
       "    </tr>\n",
       "    <tr>\n",
       "      <th>1</th>\n",
       "      <td>0.176238</td>\n",
       "      <td>0.794550</td>\n",
       "      <td>0.136238</td>\n",
       "      <td>0.855000</td>\n",
       "    </tr>\n",
       "    <tr>\n",
       "      <th>0</th>\n",
       "      <td>0.425662</td>\n",
       "      <td>0.464233</td>\n",
       "      <td>0.307938</td>\n",
       "      <td>0.705714</td>\n",
       "    </tr>\n",
       "  </tbody>\n",
       "</table>\n",
       "</div>"
      ],
      "text/plain": [
       "        loss       acc  val_loss   val_acc\n",
       "24  0.043927  0.970238  0.066685  0.954524\n",
       "20  0.046634  0.966693  0.066907  0.952857\n",
       "22  0.043860  0.968280  0.065636  0.951905\n",
       "21  0.045113  0.967725  0.066272  0.951905\n",
       "19  0.046919  0.966323  0.065710  0.951190\n",
       "23  0.043511  0.969921  0.064261  0.950714\n",
       "18  0.048323  0.965503  0.069600  0.950476\n",
       "16  0.050647  0.961534  0.068618  0.950000\n",
       "14  0.053450  0.959021  0.070593  0.950000\n",
       "17  0.049233  0.963492  0.068700  0.949286\n",
       "13  0.054892  0.957540  0.072454  0.947857\n",
       "15  0.052030  0.960159  0.069554  0.947619\n",
       "12  0.056300  0.955688  0.073984  0.945238\n",
       "11  0.057751  0.953360  0.070587  0.944762\n",
       "10  0.059433  0.950979  0.074796  0.943810\n",
       "9   0.061283  0.948360  0.074604  0.940952\n",
       "8   0.064525  0.945397  0.075461  0.939762\n",
       "7   0.067256  0.941508  0.080444  0.936190\n",
       "6   0.071029  0.937116  0.082655  0.931667\n",
       "5   0.075424  0.930000  0.085011  0.925714\n",
       "4   0.082011  0.921508  0.091887  0.919762\n",
       "3   0.091328  0.908095  0.095914  0.909762\n",
       "2   0.108425  0.881852  0.108213  0.896190\n",
       "1   0.176238  0.794550  0.136238  0.855000\n",
       "0   0.425662  0.464233  0.307938  0.705714"
      ]
     },
     "execution_count": 12,
     "metadata": {},
     "output_type": "execute_result"
    }
   ],
   "source": [
    "pd.DataFrame(mlp1_history.history).sort_values(['val_acc'],ascending=False)"
   ]
  },
  {
   "cell_type": "code",
   "execution_count": 13,
   "id": "a3d98117",
   "metadata": {
    "scrolled": true
   },
   "outputs": [
    {
     "data": {
      "image/png": "[encoded data removed]",
      "text/plain": [
       "<Figure size 720x360 with 2 Axes>"
      ]
     },
     "metadata": {
      "needs_background": "light"
     },
     "output_type": "display_data"
    }
   ],
   "source": [
    "show_history(mlp1_history.history,interpolate=True)"
   ]
  },
  {
   "cell_type": "markdown",
   "id": "9c812e63",
   "metadata": {},
   "source": [
    "The MLP evaluation results were sorted into a pandas dataframe and visualized on a graph. The training time was 36.4 seconds for the network and final test accuracy was 0.9545. "
   ]
  },
  {
   "cell_type": "code",
   "execution_count": 14,
   "id": "337b6849",
   "metadata": {
    "scrolled": true
   },
   "outputs": [
    {
     "name": "stdout",
     "output_type": "stream",
     "text": [
      "Model: \"sequential_1\"\n",
      "_________________________________________________________________\n",
      " Layer (type)                Output Shape              Param #   \n",
      "=================================================================\n",
      " dense_5 (Dense)             (None, 32)                25120     \n",
      "                                                                 \n",
      " dense_6 (Dense)             (None, 32)                1056      \n",
      "                                                                 \n",
      " dense_7 (Dense)             (None, 10)                330       \n",
      "                                                                 \n",
      "=================================================================\n",
      "Total params: 26,506\n",
      "Trainable params: 26,506\n",
      "Non-trainable params: 0\n",
      "_________________________________________________________________\n"
     ]
    }
   ],
   "source": [
    "mlp2 = tf.keras.Sequential()\n",
    "mlp2.add(tf.keras.Input(shape=(784,)))\n",
    "mlp2.add(layers.Dense(32,activation='relu'))\n",
    "mlp2.add(layers.Dense(32,activation='relu'))\n",
    "mlp2.add(layers.Dense(10,activation='relu'))\n",
    "mlp2.summary()"
   ]
  },
  {
   "cell_type": "markdown",
   "id": "b43cdd84",
   "metadata": {},
   "source": [
    "This MLP consists of 2 hidden layers with relu activation."
   ]
  },
  {
   "cell_type": "code",
   "execution_count": 15,
   "id": "a145046f",
   "metadata": {},
   "outputs": [],
   "source": [
    "mlp2.compile(loss='binary_crossentropy',\n",
    "             optimizer=optimizers.RMSprop(learning_rate=1e-4),\n",
    "             metrics=['acc'])"
   ]
  },
  {
   "cell_type": "code",
   "execution_count": 16,
   "id": "476f7d7c",
   "metadata": {},
   "outputs": [
    {
     "name": "stdout",
     "output_type": "stream",
     "text": [
      "CPU times: user 51.5 s, sys: 7.19 s, total: 58.7 s\n",
      "Wall time: 35 s\n"
     ]
    }
   ],
   "source": [
    "%%time\n",
    "mlp2_history=mlp2.fit(TrainX, Trainy,\n",
    "        epochs=25,\n",
    "        batch_size=32,\n",
    "        validation_data=(TestX,Testy),\n",
    "        verbose=0)"
   ]
  },
  {
   "cell_type": "code",
   "execution_count": 17,
   "id": "19620ee8",
   "metadata": {},
   "outputs": [
    {
     "data": {
      "text/html": [
       "<div>\n",
       "<style scoped>\n",
       "    .dataframe tbody tr th:only-of-type {\n",
       "        vertical-align: middle;\n",
       "    }\n",
       "\n",
       "    .dataframe tbody tr th {\n",
       "        vertical-align: top;\n",
       "    }\n",
       "\n",
       "    .dataframe thead th {\n",
       "        text-align: right;\n",
       "    }\n",
       "</style>\n",
       "<table border=\"1\" class=\"dataframe\">\n",
       "  <thead>\n",
       "    <tr style=\"text-align: right;\">\n",
       "      <th></th>\n",
       "      <th>loss</th>\n",
       "      <th>acc</th>\n",
       "      <th>val_loss</th>\n",
       "      <th>val_acc</th>\n",
       "    </tr>\n",
       "  </thead>\n",
       "  <tbody>\n",
       "    <tr>\n",
       "      <th>24</th>\n",
       "      <td>0.200292</td>\n",
       "      <td>0.868942</td>\n",
       "      <td>0.219238</td>\n",
       "      <td>0.859048</td>\n",
       "    </tr>\n",
       "    <tr>\n",
       "      <th>20</th>\n",
       "      <td>0.203254</td>\n",
       "      <td>0.866852</td>\n",
       "      <td>0.220860</td>\n",
       "      <td>0.858571</td>\n",
       "    </tr>\n",
       "    <tr>\n",
       "      <th>21</th>\n",
       "      <td>0.202368</td>\n",
       "      <td>0.867328</td>\n",
       "      <td>0.223853</td>\n",
       "      <td>0.858095</td>\n",
       "    </tr>\n",
       "    <tr>\n",
       "      <th>22</th>\n",
       "      <td>0.201679</td>\n",
       "      <td>0.867725</td>\n",
       "      <td>0.222302</td>\n",
       "      <td>0.857857</td>\n",
       "    </tr>\n",
       "    <tr>\n",
       "      <th>18</th>\n",
       "      <td>0.206106</td>\n",
       "      <td>0.865026</td>\n",
       "      <td>0.221095</td>\n",
       "      <td>0.857857</td>\n",
       "    </tr>\n",
       "    <tr>\n",
       "      <th>23</th>\n",
       "      <td>0.201608</td>\n",
       "      <td>0.868413</td>\n",
       "      <td>0.222139</td>\n",
       "      <td>0.857143</td>\n",
       "    </tr>\n",
       "    <tr>\n",
       "      <th>16</th>\n",
       "      <td>0.207803</td>\n",
       "      <td>0.862963</td>\n",
       "      <td>0.221862</td>\n",
       "      <td>0.856667</td>\n",
       "    </tr>\n",
       "    <tr>\n",
       "      <th>17</th>\n",
       "      <td>0.206286</td>\n",
       "      <td>0.863439</td>\n",
       "      <td>0.223918</td>\n",
       "      <td>0.856429</td>\n",
       "    </tr>\n",
       "    <tr>\n",
       "      <th>14</th>\n",
       "      <td>0.210370</td>\n",
       "      <td>0.860503</td>\n",
       "      <td>0.223343</td>\n",
       "      <td>0.855238</td>\n",
       "    </tr>\n",
       "    <tr>\n",
       "      <th>19</th>\n",
       "      <td>0.204887</td>\n",
       "      <td>0.865476</td>\n",
       "      <td>0.223359</td>\n",
       "      <td>0.854762</td>\n",
       "    </tr>\n",
       "    <tr>\n",
       "      <th>12</th>\n",
       "      <td>0.212824</td>\n",
       "      <td>0.857751</td>\n",
       "      <td>0.223360</td>\n",
       "      <td>0.854286</td>\n",
       "    </tr>\n",
       "    <tr>\n",
       "      <th>13</th>\n",
       "      <td>0.212076</td>\n",
       "      <td>0.859101</td>\n",
       "      <td>0.225739</td>\n",
       "      <td>0.853095</td>\n",
       "    </tr>\n",
       "    <tr>\n",
       "      <th>15</th>\n",
       "      <td>0.209090</td>\n",
       "      <td>0.861772</td>\n",
       "      <td>0.226007</td>\n",
       "      <td>0.853095</td>\n",
       "    </tr>\n",
       "    <tr>\n",
       "      <th>11</th>\n",
       "      <td>0.214831</td>\n",
       "      <td>0.855344</td>\n",
       "      <td>0.225372</td>\n",
       "      <td>0.852381</td>\n",
       "    </tr>\n",
       "    <tr>\n",
       "      <th>10</th>\n",
       "      <td>0.216052</td>\n",
       "      <td>0.854577</td>\n",
       "      <td>0.228572</td>\n",
       "      <td>0.847857</td>\n",
       "    </tr>\n",
       "    <tr>\n",
       "      <th>9</th>\n",
       "      <td>0.217526</td>\n",
       "      <td>0.852169</td>\n",
       "      <td>0.227956</td>\n",
       "      <td>0.847143</td>\n",
       "    </tr>\n",
       "    <tr>\n",
       "      <th>8</th>\n",
       "      <td>0.220172</td>\n",
       "      <td>0.850132</td>\n",
       "      <td>0.228523</td>\n",
       "      <td>0.846667</td>\n",
       "    </tr>\n",
       "    <tr>\n",
       "      <th>6</th>\n",
       "      <td>0.225064</td>\n",
       "      <td>0.843624</td>\n",
       "      <td>0.231629</td>\n",
       "      <td>0.842143</td>\n",
       "    </tr>\n",
       "    <tr>\n",
       "      <th>7</th>\n",
       "      <td>0.222092</td>\n",
       "      <td>0.846799</td>\n",
       "      <td>0.231031</td>\n",
       "      <td>0.841905</td>\n",
       "    </tr>\n",
       "    <tr>\n",
       "      <th>4</th>\n",
       "      <td>0.233566</td>\n",
       "      <td>0.834603</td>\n",
       "      <td>0.237366</td>\n",
       "      <td>0.835476</td>\n",
       "    </tr>\n",
       "    <tr>\n",
       "      <th>5</th>\n",
       "      <td>0.229652</td>\n",
       "      <td>0.840503</td>\n",
       "      <td>0.235019</td>\n",
       "      <td>0.835238</td>\n",
       "    </tr>\n",
       "    <tr>\n",
       "      <th>3</th>\n",
       "      <td>0.239651</td>\n",
       "      <td>0.827566</td>\n",
       "      <td>0.242127</td>\n",
       "      <td>0.826667</td>\n",
       "    </tr>\n",
       "    <tr>\n",
       "      <th>2</th>\n",
       "      <td>0.249200</td>\n",
       "      <td>0.814841</td>\n",
       "      <td>0.244909</td>\n",
       "      <td>0.818810</td>\n",
       "    </tr>\n",
       "    <tr>\n",
       "      <th>1</th>\n",
       "      <td>0.280397</td>\n",
       "      <td>0.780265</td>\n",
       "      <td>0.259726</td>\n",
       "      <td>0.799762</td>\n",
       "    </tr>\n",
       "    <tr>\n",
       "      <th>0</th>\n",
       "      <td>0.450620</td>\n",
       "      <td>0.540450</td>\n",
       "      <td>0.313680</td>\n",
       "      <td>0.735476</td>\n",
       "    </tr>\n",
       "  </tbody>\n",
       "</table>\n",
       "</div>"
      ],
      "text/plain": [
       "        loss       acc  val_loss   val_acc\n",
       "24  0.200292  0.868942  0.219238  0.859048\n",
       "20  0.203254  0.866852  0.220860  0.858571\n",
       "21  0.202368  0.867328  0.223853  0.858095\n",
       "22  0.201679  0.867725  0.222302  0.857857\n",
       "18  0.206106  0.865026  0.221095  0.857857\n",
       "23  0.201608  0.868413  0.222139  0.857143\n",
       "16  0.207803  0.862963  0.221862  0.856667\n",
       "17  0.206286  0.863439  0.223918  0.856429\n",
       "14  0.210370  0.860503  0.223343  0.855238\n",
       "19  0.204887  0.865476  0.223359  0.854762\n",
       "12  0.212824  0.857751  0.223360  0.854286\n",
       "13  0.212076  0.859101  0.225739  0.853095\n",
       "15  0.209090  0.861772  0.226007  0.853095\n",
       "11  0.214831  0.855344  0.225372  0.852381\n",
       "10  0.216052  0.854577  0.228572  0.847857\n",
       "9   0.217526  0.852169  0.227956  0.847143\n",
       "8   0.220172  0.850132  0.228523  0.846667\n",
       "6   0.225064  0.843624  0.231629  0.842143\n",
       "7   0.222092  0.846799  0.231031  0.841905\n",
       "4   0.233566  0.834603  0.237366  0.835476\n",
       "5   0.229652  0.840503  0.235019  0.835238\n",
       "3   0.239651  0.827566  0.242127  0.826667\n",
       "2   0.249200  0.814841  0.244909  0.818810\n",
       "1   0.280397  0.780265  0.259726  0.799762\n",
       "0   0.450620  0.540450  0.313680  0.735476"
      ]
     },
     "execution_count": 17,
     "metadata": {},
     "output_type": "execute_result"
    }
   ],
   "source": [
    "pd.DataFrame(mlp2_history.history).sort_values(['val_acc'],ascending=False)"
   ]
  },
  {
   "cell_type": "code",
   "execution_count": 18,
   "id": "f9b8c662",
   "metadata": {
    "scrolled": true
   },
   "outputs": [
    {
     "data": {
      "image/png": "[encoded data removed]",
      "text/plain": [
       "<Figure size 720x360 with 2 Axes>"
      ]
     },
     "metadata": {
      "needs_background": "light"
     },
     "output_type": "display_data"
    }
   ],
   "source": [
    "show_history(mlp2_history.history,interpolate=True)"
   ]
  },
  {
   "cell_type": "markdown",
   "id": "49d85812",
   "metadata": {},
   "source": [
    "The training time of this network was 35 seconds and the final test accuracy was 0.8590."
   ]
  },
  {
   "cell_type": "code",
   "execution_count": 19,
   "id": "3af8d6fc",
   "metadata": {},
   "outputs": [
    {
     "name": "stdout",
     "output_type": "stream",
     "text": [
      "Model: \"sequential_2\"\n",
      "_________________________________________________________________\n",
      " Layer (type)                Output Shape              Param #   \n",
      "=================================================================\n",
      " dense_8 (Dense)             (None, 32)                25120     \n",
      "                                                                 \n",
      " dense_9 (Dense)             (None, 32)                1056      \n",
      "                                                                 \n",
      " dense_10 (Dense)            (None, 32)                1056      \n",
      "                                                                 \n",
      " dense_11 (Dense)            (None, 32)                1056      \n",
      "                                                                 \n",
      " dense_12 (Dense)            (None, 10)                330       \n",
      "                                                                 \n",
      "=================================================================\n",
      "Total params: 28,618\n",
      "Trainable params: 28,618\n",
      "Non-trainable params: 0\n",
      "_________________________________________________________________\n"
     ]
    }
   ],
   "source": [
    "mlp3 = tf.keras.Sequential()\n",
    "mlp3.add(tf.keras.Input(shape=(784,)))\n",
    "mlp3.add(layers.Dense(32,activation='sigmoid'))\n",
    "mlp3.add(layers.Dense(32,activation='sigmoid'))\n",
    "mlp3.add(layers.Dense(32,activation='sigmoid'))\n",
    "mlp3.add(layers.Dense(32,activation='sigmoid'))\n",
    "mlp3.add(layers.Dense(10,activation='sigmoid'))\n",
    "mlp3.summary()"
   ]
  },
  {
   "cell_type": "markdown",
   "id": "72edba2c",
   "metadata": {},
   "source": [
    "This MLP consists of 4 hidden layers with sigmoid activation."
   ]
  },
  {
   "cell_type": "code",
   "execution_count": 20,
   "id": "da20aab3",
   "metadata": {},
   "outputs": [],
   "source": [
    "mlp3.compile(loss='binary_crossentropy',\n",
    "             optimizer=optimizers.RMSprop(learning_rate=1e-4),\n",
    "             metrics=['acc'])"
   ]
  },
  {
   "cell_type": "code",
   "execution_count": 21,
   "id": "64f6f0cd",
   "metadata": {},
   "outputs": [
    {
     "name": "stdout",
     "output_type": "stream",
     "text": [
      "CPU times: user 59.9 s, sys: 8.02 s, total: 1min 7s\n",
      "Wall time: 40.5 s\n"
     ]
    }
   ],
   "source": [
    "%%time\n",
    "mlp3_history=mlp3.fit(TrainX, Trainy,\n",
    "        epochs=25,\n",
    "        batch_size=32,\n",
    "        validation_data=(TestX,Testy),\n",
    "        verbose=0)"
   ]
  },
  {
   "cell_type": "code",
   "execution_count": 22,
   "id": "52ad1e38",
   "metadata": {},
   "outputs": [
    {
     "data": {
      "text/html": [
       "<div>\n",
       "<style scoped>\n",
       "    .dataframe tbody tr th:only-of-type {\n",
       "        vertical-align: middle;\n",
       "    }\n",
       "\n",
       "    .dataframe tbody tr th {\n",
       "        vertical-align: top;\n",
       "    }\n",
       "\n",
       "    .dataframe thead th {\n",
       "        text-align: right;\n",
       "    }\n",
       "</style>\n",
       "<table border=\"1\" class=\"dataframe\">\n",
       "  <thead>\n",
       "    <tr style=\"text-align: right;\">\n",
       "      <th></th>\n",
       "      <th>loss</th>\n",
       "      <th>acc</th>\n",
       "      <th>val_loss</th>\n",
       "      <th>val_acc</th>\n",
       "    </tr>\n",
       "  </thead>\n",
       "  <tbody>\n",
       "    <tr>\n",
       "      <th>24</th>\n",
       "      <td>0.091826</td>\n",
       "      <td>0.878783</td>\n",
       "      <td>0.091829</td>\n",
       "      <td>0.885238</td>\n",
       "    </tr>\n",
       "    <tr>\n",
       "      <th>23</th>\n",
       "      <td>0.096665</td>\n",
       "      <td>0.871852</td>\n",
       "      <td>0.096370</td>\n",
       "      <td>0.878095</td>\n",
       "    </tr>\n",
       "    <tr>\n",
       "      <th>22</th>\n",
       "      <td>0.101775</td>\n",
       "      <td>0.862989</td>\n",
       "      <td>0.101206</td>\n",
       "      <td>0.872381</td>\n",
       "    </tr>\n",
       "    <tr>\n",
       "      <th>21</th>\n",
       "      <td>0.107087</td>\n",
       "      <td>0.848042</td>\n",
       "      <td>0.106196</td>\n",
       "      <td>0.858810</td>\n",
       "    </tr>\n",
       "    <tr>\n",
       "      <th>20</th>\n",
       "      <td>0.112567</td>\n",
       "      <td>0.828651</td>\n",
       "      <td>0.111346</td>\n",
       "      <td>0.837619</td>\n",
       "    </tr>\n",
       "    <tr>\n",
       "      <th>19</th>\n",
       "      <td>0.118128</td>\n",
       "      <td>0.804735</td>\n",
       "      <td>0.116707</td>\n",
       "      <td>0.813571</td>\n",
       "    </tr>\n",
       "    <tr>\n",
       "      <th>18</th>\n",
       "      <td>0.123846</td>\n",
       "      <td>0.785344</td>\n",
       "      <td>0.122105</td>\n",
       "      <td>0.786429</td>\n",
       "    </tr>\n",
       "    <tr>\n",
       "      <th>17</th>\n",
       "      <td>0.129928</td>\n",
       "      <td>0.762011</td>\n",
       "      <td>0.127824</td>\n",
       "      <td>0.768095</td>\n",
       "    </tr>\n",
       "    <tr>\n",
       "      <th>16</th>\n",
       "      <td>0.136642</td>\n",
       "      <td>0.737381</td>\n",
       "      <td>0.134094</td>\n",
       "      <td>0.750238</td>\n",
       "    </tr>\n",
       "    <tr>\n",
       "      <th>15</th>\n",
       "      <td>0.144139</td>\n",
       "      <td>0.710159</td>\n",
       "      <td>0.141027</td>\n",
       "      <td>0.725000</td>\n",
       "    </tr>\n",
       "    <tr>\n",
       "      <th>14</th>\n",
       "      <td>0.152131</td>\n",
       "      <td>0.683413</td>\n",
       "      <td>0.148794</td>\n",
       "      <td>0.690000</td>\n",
       "    </tr>\n",
       "    <tr>\n",
       "      <th>13</th>\n",
       "      <td>0.160183</td>\n",
       "      <td>0.653492</td>\n",
       "      <td>0.156829</td>\n",
       "      <td>0.666429</td>\n",
       "    </tr>\n",
       "    <tr>\n",
       "      <th>12</th>\n",
       "      <td>0.167938</td>\n",
       "      <td>0.622936</td>\n",
       "      <td>0.164652</td>\n",
       "      <td>0.638571</td>\n",
       "    </tr>\n",
       "    <tr>\n",
       "      <th>11</th>\n",
       "      <td>0.175228</td>\n",
       "      <td>0.586349</td>\n",
       "      <td>0.172192</td>\n",
       "      <td>0.603095</td>\n",
       "    </tr>\n",
       "    <tr>\n",
       "      <th>10</th>\n",
       "      <td>0.182165</td>\n",
       "      <td>0.550476</td>\n",
       "      <td>0.179369</td>\n",
       "      <td>0.570000</td>\n",
       "    </tr>\n",
       "    <tr>\n",
       "      <th>9</th>\n",
       "      <td>0.189449</td>\n",
       "      <td>0.517513</td>\n",
       "      <td>0.186271</td>\n",
       "      <td>0.528333</td>\n",
       "    </tr>\n",
       "    <tr>\n",
       "      <th>8</th>\n",
       "      <td>0.197845</td>\n",
       "      <td>0.497593</td>\n",
       "      <td>0.193968</td>\n",
       "      <td>0.501667</td>\n",
       "    </tr>\n",
       "    <tr>\n",
       "      <th>7</th>\n",
       "      <td>0.207387</td>\n",
       "      <td>0.486455</td>\n",
       "      <td>0.202894</td>\n",
       "      <td>0.486667</td>\n",
       "    </tr>\n",
       "    <tr>\n",
       "      <th>6</th>\n",
       "      <td>0.218789</td>\n",
       "      <td>0.467963</td>\n",
       "      <td>0.213041</td>\n",
       "      <td>0.482857</td>\n",
       "    </tr>\n",
       "    <tr>\n",
       "      <th>5</th>\n",
       "      <td>0.234795</td>\n",
       "      <td>0.454841</td>\n",
       "      <td>0.226202</td>\n",
       "      <td>0.464524</td>\n",
       "    </tr>\n",
       "    <tr>\n",
       "      <th>4</th>\n",
       "      <td>0.256505</td>\n",
       "      <td>0.453360</td>\n",
       "      <td>0.245348</td>\n",
       "      <td>0.463810</td>\n",
       "    </tr>\n",
       "    <tr>\n",
       "      <th>3</th>\n",
       "      <td>0.281187</td>\n",
       "      <td>0.414788</td>\n",
       "      <td>0.268478</td>\n",
       "      <td>0.462381</td>\n",
       "    </tr>\n",
       "    <tr>\n",
       "      <th>2</th>\n",
       "      <td>0.308892</td>\n",
       "      <td>0.339418</td>\n",
       "      <td>0.295306</td>\n",
       "      <td>0.364762</td>\n",
       "    </tr>\n",
       "    <tr>\n",
       "      <th>1</th>\n",
       "      <td>0.322534</td>\n",
       "      <td>0.178942</td>\n",
       "      <td>0.318889</td>\n",
       "      <td>0.210476</td>\n",
       "    </tr>\n",
       "    <tr>\n",
       "      <th>0</th>\n",
       "      <td>0.390710</td>\n",
       "      <td>0.104788</td>\n",
       "      <td>0.324604</td>\n",
       "      <td>0.104762</td>\n",
       "    </tr>\n",
       "  </tbody>\n",
       "</table>\n",
       "</div>"
      ],
      "text/plain": [
       "        loss       acc  val_loss   val_acc\n",
       "24  0.091826  0.878783  0.091829  0.885238\n",
       "23  0.096665  0.871852  0.096370  0.878095\n",
       "22  0.101775  0.862989  0.101206  0.872381\n",
       "21  0.107087  0.848042  0.106196  0.858810\n",
       "20  0.112567  0.828651  0.111346  0.837619\n",
       "19  0.118128  0.804735  0.116707  0.813571\n",
       "18  0.123846  0.785344  0.122105  0.786429\n",
       "17  0.129928  0.762011  0.127824  0.768095\n",
       "16  0.136642  0.737381  0.134094  0.750238\n",
       "15  0.144139  0.710159  0.141027  0.725000\n",
       "14  0.152131  0.683413  0.148794  0.690000\n",
       "13  0.160183  0.653492  0.156829  0.666429\n",
       "12  0.167938  0.622936  0.164652  0.638571\n",
       "11  0.175228  0.586349  0.172192  0.603095\n",
       "10  0.182165  0.550476  0.179369  0.570000\n",
       "9   0.189449  0.517513  0.186271  0.528333\n",
       "8   0.197845  0.497593  0.193968  0.501667\n",
       "7   0.207387  0.486455  0.202894  0.486667\n",
       "6   0.218789  0.467963  0.213041  0.482857\n",
       "5   0.234795  0.454841  0.226202  0.464524\n",
       "4   0.256505  0.453360  0.245348  0.463810\n",
       "3   0.281187  0.414788  0.268478  0.462381\n",
       "2   0.308892  0.339418  0.295306  0.364762\n",
       "1   0.322534  0.178942  0.318889  0.210476\n",
       "0   0.390710  0.104788  0.324604  0.104762"
      ]
     },
     "execution_count": 22,
     "metadata": {},
     "output_type": "execute_result"
    }
   ],
   "source": [
    "pd.DataFrame(mlp3_history.history).sort_values(['val_acc'],ascending=False)"
   ]
  },
  {
   "cell_type": "code",
   "execution_count": 23,
   "id": "27398564",
   "metadata": {
    "scrolled": true
   },
   "outputs": [
    {
     "data": {
      "image/png": "[encoded data removed]",
      "text/plain": [
       "<Figure size 720x360 with 2 Axes>"
      ]
     },
     "metadata": {
      "needs_background": "light"
     },
     "output_type": "display_data"
    }
   ],
   "source": [
    "show_history(mlp3_history.history,interpolate=True)"
   ]
  },
  {
   "cell_type": "markdown",
   "id": "6ab28d97",
   "metadata": {},
   "source": [
    "The training time of this network was 40.5 seconds and the final test accuracy was 0.8852."
   ]
  },
  {
   "cell_type": "code",
   "execution_count": 24,
   "id": "bc230c56",
   "metadata": {},
   "outputs": [
    {
     "name": "stdout",
     "output_type": "stream",
     "text": [
      "Model: \"sequential_3\"\n",
      "_________________________________________________________________\n",
      " Layer (type)                Output Shape              Param #   \n",
      "=================================================================\n",
      " dense_13 (Dense)            (None, 32)                25120     \n",
      "                                                                 \n",
      " dense_14 (Dense)            (None, 32)                1056      \n",
      "                                                                 \n",
      " dense_15 (Dense)            (None, 10)                330       \n",
      "                                                                 \n",
      "=================================================================\n",
      "Total params: 26,506\n",
      "Trainable params: 26,506\n",
      "Non-trainable params: 0\n",
      "_________________________________________________________________\n"
     ]
    }
   ],
   "source": [
    "mlp4 = tf.keras.Sequential()\n",
    "mlp4.add(tf.keras.Input(shape=(784,)))\n",
    "mlp4.add(layers.Dense(32,activation='sigmoid'))\n",
    "mlp4.add(layers.Dense(32,activation='sigmoid'))\n",
    "mlp4.add(layers.Dense(10,activation='sigmoid'))\n",
    "mlp4.summary()"
   ]
  },
  {
   "cell_type": "markdown",
   "id": "726dcd93",
   "metadata": {},
   "source": [
    "This MLP consists of 2 hidden layers with sigmoid activation."
   ]
  },
  {
   "cell_type": "code",
   "execution_count": 25,
   "id": "6607c47e",
   "metadata": {},
   "outputs": [],
   "source": [
    "mlp4.compile(loss='binary_crossentropy',\n",
    "             optimizer=optimizers.RMSprop(learning_rate=1e-4),\n",
    "             metrics=['acc'])"
   ]
  },
  {
   "cell_type": "code",
   "execution_count": 26,
   "id": "83f54b7b",
   "metadata": {},
   "outputs": [
    {
     "name": "stdout",
     "output_type": "stream",
     "text": [
      "CPU times: user 51.5 s, sys: 7.1 s, total: 58.6 s\n",
      "Wall time: 41.6 s\n"
     ]
    }
   ],
   "source": [
    "%%time\n",
    "mlp4_history=mlp4.fit(TrainX, Trainy,\n",
    "        epochs=25,\n",
    "        batch_size=32,\n",
    "        validation_data=(TestX,Testy),\n",
    "        verbose=0)"
   ]
  },
  {
   "cell_type": "code",
   "execution_count": 27,
   "id": "4c081e60",
   "metadata": {},
   "outputs": [
    {
     "data": {
      "text/html": [
       "<div>\n",
       "<style scoped>\n",
       "    .dataframe tbody tr th:only-of-type {\n",
       "        vertical-align: middle;\n",
       "    }\n",
       "\n",
       "    .dataframe tbody tr th {\n",
       "        vertical-align: top;\n",
       "    }\n",
       "\n",
       "    .dataframe thead th {\n",
       "        text-align: right;\n",
       "    }\n",
       "</style>\n",
       "<table border=\"1\" class=\"dataframe\">\n",
       "  <thead>\n",
       "    <tr style=\"text-align: right;\">\n",
       "      <th></th>\n",
       "      <th>loss</th>\n",
       "      <th>acc</th>\n",
       "      <th>val_loss</th>\n",
       "      <th>val_acc</th>\n",
       "    </tr>\n",
       "  </thead>\n",
       "  <tbody>\n",
       "    <tr>\n",
       "      <th>24</th>\n",
       "      <td>0.050166</td>\n",
       "      <td>0.922460</td>\n",
       "      <td>0.052066</td>\n",
       "      <td>0.917857</td>\n",
       "    </tr>\n",
       "    <tr>\n",
       "      <th>23</th>\n",
       "      <td>0.051301</td>\n",
       "      <td>0.921032</td>\n",
       "      <td>0.053186</td>\n",
       "      <td>0.915476</td>\n",
       "    </tr>\n",
       "    <tr>\n",
       "      <th>22</th>\n",
       "      <td>0.052543</td>\n",
       "      <td>0.919418</td>\n",
       "      <td>0.054285</td>\n",
       "      <td>0.915238</td>\n",
       "    </tr>\n",
       "    <tr>\n",
       "      <th>21</th>\n",
       "      <td>0.053895</td>\n",
       "      <td>0.918042</td>\n",
       "      <td>0.055435</td>\n",
       "      <td>0.913810</td>\n",
       "    </tr>\n",
       "    <tr>\n",
       "      <th>20</th>\n",
       "      <td>0.055378</td>\n",
       "      <td>0.916296</td>\n",
       "      <td>0.056697</td>\n",
       "      <td>0.912619</td>\n",
       "    </tr>\n",
       "    <tr>\n",
       "      <th>19</th>\n",
       "      <td>0.057018</td>\n",
       "      <td>0.914815</td>\n",
       "      <td>0.058177</td>\n",
       "      <td>0.911190</td>\n",
       "    </tr>\n",
       "    <tr>\n",
       "      <th>18</th>\n",
       "      <td>0.058842</td>\n",
       "      <td>0.912937</td>\n",
       "      <td>0.059844</td>\n",
       "      <td>0.909286</td>\n",
       "    </tr>\n",
       "    <tr>\n",
       "      <th>17</th>\n",
       "      <td>0.060899</td>\n",
       "      <td>0.910952</td>\n",
       "      <td>0.061726</td>\n",
       "      <td>0.906905</td>\n",
       "    </tr>\n",
       "    <tr>\n",
       "      <th>16</th>\n",
       "      <td>0.063264</td>\n",
       "      <td>0.909392</td>\n",
       "      <td>0.063822</td>\n",
       "      <td>0.905476</td>\n",
       "    </tr>\n",
       "    <tr>\n",
       "      <th>15</th>\n",
       "      <td>0.065978</td>\n",
       "      <td>0.906825</td>\n",
       "      <td>0.066267</td>\n",
       "      <td>0.904524</td>\n",
       "    </tr>\n",
       "    <tr>\n",
       "      <th>14</th>\n",
       "      <td>0.069167</td>\n",
       "      <td>0.904339</td>\n",
       "      <td>0.069047</td>\n",
       "      <td>0.900476</td>\n",
       "    </tr>\n",
       "    <tr>\n",
       "      <th>13</th>\n",
       "      <td>0.072942</td>\n",
       "      <td>0.901296</td>\n",
       "      <td>0.072516</td>\n",
       "      <td>0.896667</td>\n",
       "    </tr>\n",
       "    <tr>\n",
       "      <th>12</th>\n",
       "      <td>0.077454</td>\n",
       "      <td>0.897989</td>\n",
       "      <td>0.076592</td>\n",
       "      <td>0.894762</td>\n",
       "    </tr>\n",
       "    <tr>\n",
       "      <th>11</th>\n",
       "      <td>0.082880</td>\n",
       "      <td>0.893942</td>\n",
       "      <td>0.081432</td>\n",
       "      <td>0.890714</td>\n",
       "    </tr>\n",
       "    <tr>\n",
       "      <th>10</th>\n",
       "      <td>0.089500</td>\n",
       "      <td>0.888466</td>\n",
       "      <td>0.087459</td>\n",
       "      <td>0.882381</td>\n",
       "    </tr>\n",
       "    <tr>\n",
       "      <th>9</th>\n",
       "      <td>0.097524</td>\n",
       "      <td>0.882143</td>\n",
       "      <td>0.094740</td>\n",
       "      <td>0.880000</td>\n",
       "    </tr>\n",
       "    <tr>\n",
       "      <th>8</th>\n",
       "      <td>0.107281</td>\n",
       "      <td>0.872460</td>\n",
       "      <td>0.103519</td>\n",
       "      <td>0.872619</td>\n",
       "    </tr>\n",
       "    <tr>\n",
       "      <th>7</th>\n",
       "      <td>0.119208</td>\n",
       "      <td>0.854974</td>\n",
       "      <td>0.114266</td>\n",
       "      <td>0.860952</td>\n",
       "    </tr>\n",
       "    <tr>\n",
       "      <th>6</th>\n",
       "      <td>0.134067</td>\n",
       "      <td>0.835794</td>\n",
       "      <td>0.127458</td>\n",
       "      <td>0.840238</td>\n",
       "    </tr>\n",
       "    <tr>\n",
       "      <th>5</th>\n",
       "      <td>0.152825</td>\n",
       "      <td>0.807328</td>\n",
       "      <td>0.144070</td>\n",
       "      <td>0.823571</td>\n",
       "    </tr>\n",
       "    <tr>\n",
       "      <th>4</th>\n",
       "      <td>0.176444</td>\n",
       "      <td>0.782778</td>\n",
       "      <td>0.165042</td>\n",
       "      <td>0.798571</td>\n",
       "    </tr>\n",
       "    <tr>\n",
       "      <th>3</th>\n",
       "      <td>0.205775</td>\n",
       "      <td>0.744392</td>\n",
       "      <td>0.191112</td>\n",
       "      <td>0.763333</td>\n",
       "    </tr>\n",
       "    <tr>\n",
       "      <th>2</th>\n",
       "      <td>0.241010</td>\n",
       "      <td>0.682725</td>\n",
       "      <td>0.223135</td>\n",
       "      <td>0.716667</td>\n",
       "    </tr>\n",
       "    <tr>\n",
       "      <th>1</th>\n",
       "      <td>0.280275</td>\n",
       "      <td>0.614392</td>\n",
       "      <td>0.260676</td>\n",
       "      <td>0.642381</td>\n",
       "    </tr>\n",
       "    <tr>\n",
       "      <th>0</th>\n",
       "      <td>0.357015</td>\n",
       "      <td>0.221455</td>\n",
       "      <td>0.300748</td>\n",
       "      <td>0.592143</td>\n",
       "    </tr>\n",
       "  </tbody>\n",
       "</table>\n",
       "</div>"
      ],
      "text/plain": [
       "        loss       acc  val_loss   val_acc\n",
       "24  0.050166  0.922460  0.052066  0.917857\n",
       "23  0.051301  0.921032  0.053186  0.915476\n",
       "22  0.052543  0.919418  0.054285  0.915238\n",
       "21  0.053895  0.918042  0.055435  0.913810\n",
       "20  0.055378  0.916296  0.056697  0.912619\n",
       "19  0.057018  0.914815  0.058177  0.911190\n",
       "18  0.058842  0.912937  0.059844  0.909286\n",
       "17  0.060899  0.910952  0.061726  0.906905\n",
       "16  0.063264  0.909392  0.063822  0.905476\n",
       "15  0.065978  0.906825  0.066267  0.904524\n",
       "14  0.069167  0.904339  0.069047  0.900476\n",
       "13  0.072942  0.901296  0.072516  0.896667\n",
       "12  0.077454  0.897989  0.076592  0.894762\n",
       "11  0.082880  0.893942  0.081432  0.890714\n",
       "10  0.089500  0.888466  0.087459  0.882381\n",
       "9   0.097524  0.882143  0.094740  0.880000\n",
       "8   0.107281  0.872460  0.103519  0.872619\n",
       "7   0.119208  0.854974  0.114266  0.860952\n",
       "6   0.134067  0.835794  0.127458  0.840238\n",
       "5   0.152825  0.807328  0.144070  0.823571\n",
       "4   0.176444  0.782778  0.165042  0.798571\n",
       "3   0.205775  0.744392  0.191112  0.763333\n",
       "2   0.241010  0.682725  0.223135  0.716667\n",
       "1   0.280275  0.614392  0.260676  0.642381\n",
       "0   0.357015  0.221455  0.300748  0.592143"
      ]
     },
     "execution_count": 27,
     "metadata": {},
     "output_type": "execute_result"
    }
   ],
   "source": [
    "pd.DataFrame(mlp4_history.history).sort_values(['val_acc'],ascending=False)"
   ]
  },
  {
   "cell_type": "code",
   "execution_count": 28,
   "id": "107e5c06",
   "metadata": {
    "scrolled": true
   },
   "outputs": [
    {
     "data": {
      "image/png": "[encoded data removed]",
      "text/plain": [
       "<Figure size 720x360 with 2 Axes>"
      ]
     },
     "metadata": {
      "needs_background": "light"
     },
     "output_type": "display_data"
    }
   ],
   "source": [
    "show_history(mlp4_history.history,interpolate=True)"
   ]
  },
  {
   "cell_type": "markdown",
   "id": "28ae2a4b",
   "metadata": {},
   "source": [
    "The training time of this network was 41.6 seconds and the final test accuracy was 0.9179."
   ]
  },
  {
   "cell_type": "markdown",
   "id": "79908d4f",
   "metadata": {},
   "source": [
    "# 1B"
   ]
  },
  {
   "cell_type": "code",
   "execution_count": 29,
   "id": "aba18f0f",
   "metadata": {},
   "outputs": [
    {
     "data": {
      "text/plain": [
       "(4200, 28, 28, 1)"
      ]
     },
     "execution_count": 29,
     "metadata": {},
     "output_type": "execute_result"
    }
   ],
   "source": [
    "TrainXRS = TrainX.reshape(-1,28,28,1)\n",
    "TestXRS = TestX.reshape(-1,28,28,1)\n",
    "TestXRS.shape"
   ]
  },
  {
   "cell_type": "markdown",
   "id": "58bd4607",
   "metadata": {},
   "source": [
    "The training and validation data are reshaped here to fit into the CNN model."
   ]
  },
  {
   "cell_type": "code",
   "execution_count": 30,
   "id": "4a99c22a",
   "metadata": {},
   "outputs": [],
   "source": [
    "tf.keras.utils.set_random_seed(9)\n",
    "tf.keras.backend.clear_session()"
   ]
  },
  {
   "cell_type": "code",
   "execution_count": 31,
   "id": "5544013f",
   "metadata": {
    "scrolled": true
   },
   "outputs": [
    {
     "name": "stdout",
     "output_type": "stream",
     "text": [
      "Model: \"model\"\n",
      "_________________________________________________________________\n",
      " Layer (type)                Output Shape              Param #   \n",
      "=================================================================\n",
      " input_1 (InputLayer)        [(None, 28, 28, 1)]       0         \n",
      "                                                                 \n",
      " conv2d (Conv2D)             (None, 26, 26, 32)        320       \n",
      "                                                                 \n",
      " max_pooling2d (MaxPooling2D  (None, 13, 13, 32)       0         \n",
      " )                                                               \n",
      "                                                                 \n",
      " conv2d_1 (Conv2D)           (None, 11, 11, 32)        9248      \n",
      "                                                                 \n",
      " max_pooling2d_1 (MaxPooling  (None, 5, 5, 32)         0         \n",
      " 2D)                                                             \n",
      "                                                                 \n",
      " flatten (Flatten)           (None, 800)               0         \n",
      "                                                                 \n",
      " dense (Dense)               (None, 10)                8010      \n",
      "                                                                 \n",
      "=================================================================\n",
      "Total params: 17,578\n",
      "Trainable params: 17,578\n",
      "Non-trainable params: 0\n",
      "_________________________________________________________________\n"
     ]
    }
   ],
   "source": [
    "inputs = tf.keras.Input(shape=(28,28,1))\n",
    "x=layers.Conv2D(filters=32,\n",
    "                kernel_size=3,\n",
    "                activation='relu')(inputs)\n",
    "x=layers.MaxPooling2D()(x)\n",
    "x=layers.Conv2D(filters=32,\n",
    "                kernel_size=3,\n",
    "                activation='relu')(x)\n",
    "x=layers.MaxPooling2D()(x)\n",
    "x=layers.Flatten()(x)\n",
    "outputs=layers.Dense(10,activation='relu')(x)\n",
    "convModel1=models.Model(inputs=inputs,outputs=outputs)\n",
    "convModel1.summary()"
   ]
  },
  {
   "cell_type": "markdown",
   "id": "99de3c2d",
   "metadata": {},
   "source": [
    "The first CNN model consists of 5 hidden layers (2 Conv2D, 2 MaxPooling 2D, and 1 Flatten), relu activation, 32 filters and 3 kernel size. Three more CNN models will be created that consists of 5 hidden layers with sigmoid activation, 3 hidden layers with relu activation, and 3 hidden layers with sigmoid activation."
   ]
  },
  {
   "cell_type": "code",
   "execution_count": 32,
   "id": "7f33cc66",
   "metadata": {},
   "outputs": [],
   "source": [
    "convModel1.compile(\n",
    "    loss=tf.keras.losses.BinaryCrossentropy(),\n",
    "    optimizer=tf.keras.optimizers.RMSprop(learning_rate=1e-4),\n",
    "    metrics=['acc'])"
   ]
  },
  {
   "cell_type": "code",
   "execution_count": 33,
   "id": "7f951266",
   "metadata": {},
   "outputs": [
    {
     "name": "stdout",
     "output_type": "stream",
     "text": [
      "CPU times: user 10min 24s, sys: 3min 21s, total: 13min 46s\n",
      "Wall time: 5min 23s\n"
     ]
    }
   ],
   "source": [
    "%%time\n",
    "convModel1_history=convModel1.fit(TrainXRS,Trainy,\n",
    "                                 batch_size=32,\n",
    "                                 epochs=25,\n",
    "                                validation_data=(TestXRS,Testy),\n",
    "        verbose=0)"
   ]
  },
  {
   "cell_type": "code",
   "execution_count": 34,
   "id": "f81d84bc",
   "metadata": {},
   "outputs": [
    {
     "data": {
      "text/html": [
       "<div>\n",
       "<style scoped>\n",
       "    .dataframe tbody tr th:only-of-type {\n",
       "        vertical-align: middle;\n",
       "    }\n",
       "\n",
       "    .dataframe tbody tr th {\n",
       "        vertical-align: top;\n",
       "    }\n",
       "\n",
       "    .dataframe thead th {\n",
       "        text-align: right;\n",
       "    }\n",
       "</style>\n",
       "<table border=\"1\" class=\"dataframe\">\n",
       "  <thead>\n",
       "    <tr style=\"text-align: right;\">\n",
       "      <th></th>\n",
       "      <th>loss</th>\n",
       "      <th>acc</th>\n",
       "      <th>val_loss</th>\n",
       "      <th>val_acc</th>\n",
       "    </tr>\n",
       "  </thead>\n",
       "  <tbody>\n",
       "    <tr>\n",
       "      <th>24</th>\n",
       "      <td>0.629242</td>\n",
       "      <td>0.689418</td>\n",
       "      <td>0.635679</td>\n",
       "      <td>0.688095</td>\n",
       "    </tr>\n",
       "    <tr>\n",
       "      <th>23</th>\n",
       "      <td>0.629685</td>\n",
       "      <td>0.689153</td>\n",
       "      <td>0.634870</td>\n",
       "      <td>0.688095</td>\n",
       "    </tr>\n",
       "    <tr>\n",
       "      <th>21</th>\n",
       "      <td>0.629655</td>\n",
       "      <td>0.688730</td>\n",
       "      <td>0.635296</td>\n",
       "      <td>0.687857</td>\n",
       "    </tr>\n",
       "    <tr>\n",
       "      <th>20</th>\n",
       "      <td>0.629939</td>\n",
       "      <td>0.688810</td>\n",
       "      <td>0.635347</td>\n",
       "      <td>0.687381</td>\n",
       "    </tr>\n",
       "    <tr>\n",
       "      <th>22</th>\n",
       "      <td>0.629570</td>\n",
       "      <td>0.689656</td>\n",
       "      <td>0.634740</td>\n",
       "      <td>0.687143</td>\n",
       "    </tr>\n",
       "    <tr>\n",
       "      <th>18</th>\n",
       "      <td>0.629959</td>\n",
       "      <td>0.688492</td>\n",
       "      <td>0.634923</td>\n",
       "      <td>0.687143</td>\n",
       "    </tr>\n",
       "    <tr>\n",
       "      <th>19</th>\n",
       "      <td>0.629895</td>\n",
       "      <td>0.688677</td>\n",
       "      <td>0.635734</td>\n",
       "      <td>0.686905</td>\n",
       "    </tr>\n",
       "    <tr>\n",
       "      <th>13</th>\n",
       "      <td>0.632149</td>\n",
       "      <td>0.686561</td>\n",
       "      <td>0.635794</td>\n",
       "      <td>0.686190</td>\n",
       "    </tr>\n",
       "    <tr>\n",
       "      <th>17</th>\n",
       "      <td>0.630256</td>\n",
       "      <td>0.688280</td>\n",
       "      <td>0.635057</td>\n",
       "      <td>0.686190</td>\n",
       "    </tr>\n",
       "    <tr>\n",
       "      <th>16</th>\n",
       "      <td>0.631208</td>\n",
       "      <td>0.687963</td>\n",
       "      <td>0.635717</td>\n",
       "      <td>0.686190</td>\n",
       "    </tr>\n",
       "    <tr>\n",
       "      <th>14</th>\n",
       "      <td>0.631728</td>\n",
       "      <td>0.686852</td>\n",
       "      <td>0.635933</td>\n",
       "      <td>0.685952</td>\n",
       "    </tr>\n",
       "    <tr>\n",
       "      <th>12</th>\n",
       "      <td>0.632038</td>\n",
       "      <td>0.686085</td>\n",
       "      <td>0.634938</td>\n",
       "      <td>0.685000</td>\n",
       "    </tr>\n",
       "    <tr>\n",
       "      <th>15</th>\n",
       "      <td>0.631049</td>\n",
       "      <td>0.687143</td>\n",
       "      <td>0.635137</td>\n",
       "      <td>0.684524</td>\n",
       "    </tr>\n",
       "    <tr>\n",
       "      <th>10</th>\n",
       "      <td>0.633181</td>\n",
       "      <td>0.684471</td>\n",
       "      <td>0.635423</td>\n",
       "      <td>0.683810</td>\n",
       "    </tr>\n",
       "    <tr>\n",
       "      <th>8</th>\n",
       "      <td>0.634753</td>\n",
       "      <td>0.683386</td>\n",
       "      <td>0.636306</td>\n",
       "      <td>0.681905</td>\n",
       "    </tr>\n",
       "    <tr>\n",
       "      <th>11</th>\n",
       "      <td>0.632553</td>\n",
       "      <td>0.685873</td>\n",
       "      <td>0.636195</td>\n",
       "      <td>0.681190</td>\n",
       "    </tr>\n",
       "    <tr>\n",
       "      <th>6</th>\n",
       "      <td>0.636149</td>\n",
       "      <td>0.680820</td>\n",
       "      <td>0.636780</td>\n",
       "      <td>0.679762</td>\n",
       "    </tr>\n",
       "    <tr>\n",
       "      <th>7</th>\n",
       "      <td>0.635378</td>\n",
       "      <td>0.682434</td>\n",
       "      <td>0.637789</td>\n",
       "      <td>0.679524</td>\n",
       "    </tr>\n",
       "    <tr>\n",
       "      <th>5</th>\n",
       "      <td>0.638140</td>\n",
       "      <td>0.679206</td>\n",
       "      <td>0.637247</td>\n",
       "      <td>0.676905</td>\n",
       "    </tr>\n",
       "    <tr>\n",
       "      <th>3</th>\n",
       "      <td>0.643471</td>\n",
       "      <td>0.674259</td>\n",
       "      <td>0.641481</td>\n",
       "      <td>0.674762</td>\n",
       "    </tr>\n",
       "    <tr>\n",
       "      <th>9</th>\n",
       "      <td>0.634271</td>\n",
       "      <td>0.684444</td>\n",
       "      <td>0.637209</td>\n",
       "      <td>0.674048</td>\n",
       "    </tr>\n",
       "    <tr>\n",
       "      <th>2</th>\n",
       "      <td>0.647145</td>\n",
       "      <td>0.666402</td>\n",
       "      <td>0.646699</td>\n",
       "      <td>0.672619</td>\n",
       "    </tr>\n",
       "    <tr>\n",
       "      <th>4</th>\n",
       "      <td>0.639818</td>\n",
       "      <td>0.676958</td>\n",
       "      <td>0.640346</td>\n",
       "      <td>0.670952</td>\n",
       "    </tr>\n",
       "    <tr>\n",
       "      <th>1</th>\n",
       "      <td>0.655792</td>\n",
       "      <td>0.653677</td>\n",
       "      <td>0.652392</td>\n",
       "      <td>0.664286</td>\n",
       "    </tr>\n",
       "    <tr>\n",
       "      <th>0</th>\n",
       "      <td>0.709666</td>\n",
       "      <td>0.546587</td>\n",
       "      <td>0.664686</td>\n",
       "      <td>0.636667</td>\n",
       "    </tr>\n",
       "  </tbody>\n",
       "</table>\n",
       "</div>"
      ],
      "text/plain": [
       "        loss       acc  val_loss   val_acc\n",
       "24  0.629242  0.689418  0.635679  0.688095\n",
       "23  0.629685  0.689153  0.634870  0.688095\n",
       "21  0.629655  0.688730  0.635296  0.687857\n",
       "20  0.629939  0.688810  0.635347  0.687381\n",
       "22  0.629570  0.689656  0.634740  0.687143\n",
       "18  0.629959  0.688492  0.634923  0.687143\n",
       "19  0.629895  0.688677  0.635734  0.686905\n",
       "13  0.632149  0.686561  0.635794  0.686190\n",
       "17  0.630256  0.688280  0.635057  0.686190\n",
       "16  0.631208  0.687963  0.635717  0.686190\n",
       "14  0.631728  0.686852  0.635933  0.685952\n",
       "12  0.632038  0.686085  0.634938  0.685000\n",
       "15  0.631049  0.687143  0.635137  0.684524\n",
       "10  0.633181  0.684471  0.635423  0.683810\n",
       "8   0.634753  0.683386  0.636306  0.681905\n",
       "11  0.632553  0.685873  0.636195  0.681190\n",
       "6   0.636149  0.680820  0.636780  0.679762\n",
       "7   0.635378  0.682434  0.637789  0.679524\n",
       "5   0.638140  0.679206  0.637247  0.676905\n",
       "3   0.643471  0.674259  0.641481  0.674762\n",
       "9   0.634271  0.684444  0.637209  0.674048\n",
       "2   0.647145  0.666402  0.646699  0.672619\n",
       "4   0.639818  0.676958  0.640346  0.670952\n",
       "1   0.655792  0.653677  0.652392  0.664286\n",
       "0   0.709666  0.546587  0.664686  0.636667"
      ]
     },
     "execution_count": 34,
     "metadata": {},
     "output_type": "execute_result"
    }
   ],
   "source": [
    "pd.DataFrame(convModel1_history.history).sort_values(['val_acc'],\n",
    "                                                     ascending=False)"
   ]
  },
  {
   "cell_type": "code",
   "execution_count": 35,
   "id": "054e3acb",
   "metadata": {
    "scrolled": true
   },
   "outputs": [
    {
     "data": {
      "image/png": "[encoded data removed]",
      "text/plain": [
       "<Figure size 720x360 with 2 Axes>"
      ]
     },
     "metadata": {
      "needs_background": "light"
     },
     "output_type": "display_data"
    }
   ],
   "source": [
    "show_history(convModel1_history.history,interpolate=True)"
   ]
  },
  {
   "cell_type": "markdown",
   "id": "979de815",
   "metadata": {},
   "source": [
    "The training time of this network was 5 minutes and 23 seconds and the final test accuracy was 0.6881."
   ]
  },
  {
   "cell_type": "code",
   "execution_count": 36,
   "id": "689f2e50",
   "metadata": {},
   "outputs": [
    {
     "name": "stdout",
     "output_type": "stream",
     "text": [
      "Model: \"model_1\"\n",
      "_________________________________________________________________\n",
      " Layer (type)                Output Shape              Param #   \n",
      "=================================================================\n",
      " input_2 (InputLayer)        [(None, 28, 28, 1)]       0         \n",
      "                                                                 \n",
      " conv2d_2 (Conv2D)           (None, 26, 26, 32)        320       \n",
      "                                                                 \n",
      " max_pooling2d_2 (MaxPooling  (None, 13, 13, 32)       0         \n",
      " 2D)                                                             \n",
      "                                                                 \n",
      " conv2d_3 (Conv2D)           (None, 11, 11, 32)        9248      \n",
      "                                                                 \n",
      " max_pooling2d_3 (MaxPooling  (None, 5, 5, 32)         0         \n",
      " 2D)                                                             \n",
      "                                                                 \n",
      " flatten_1 (Flatten)         (None, 800)               0         \n",
      "                                                                 \n",
      " dense_1 (Dense)             (None, 10)                8010      \n",
      "                                                                 \n",
      "=================================================================\n",
      "Total params: 17,578\n",
      "Trainable params: 17,578\n",
      "Non-trainable params: 0\n",
      "_________________________________________________________________\n"
     ]
    }
   ],
   "source": [
    "inputs = tf.keras.Input(shape=(28,28,1))\n",
    "x=layers.Conv2D(filters=32,\n",
    "                kernel_size=3,\n",
    "                activation='sigmoid')(inputs)\n",
    "x=layers.MaxPooling2D()(x)\n",
    "x=layers.Conv2D(filters=32,\n",
    "                kernel_size=3,\n",
    "                activation='sigmoid')(x)\n",
    "x=layers.MaxPooling2D()(x)\n",
    "x=layers.Flatten()(x)\n",
    "outputs=layers.Dense(10,activation='sigmoid')(x)\n",
    "convModel2=models.Model(inputs=inputs,outputs=outputs)\n",
    "convModel2.summary()"
   ]
  },
  {
   "cell_type": "markdown",
   "id": "b9adc1a8",
   "metadata": {},
   "source": [
    "This CNN consists of 5 hidden layers(2 Conv2D, 2 MaxPooling2D, and 1 Flatten) with sigmoid activation."
   ]
  },
  {
   "cell_type": "code",
   "execution_count": 37,
   "id": "bb054eea",
   "metadata": {},
   "outputs": [],
   "source": [
    "convModel2.compile(\n",
    "    loss=tf.keras.losses.BinaryCrossentropy(),\n",
    "    optimizer=tf.keras.optimizers.RMSprop(learning_rate=1e-4),\n",
    "    metrics=['acc'])"
   ]
  },
  {
   "cell_type": "code",
   "execution_count": 38,
   "id": "1c80aebd",
   "metadata": {},
   "outputs": [
    {
     "name": "stdout",
     "output_type": "stream",
     "text": [
      "CPU times: user 11min 14s, sys: 3min 23s, total: 14min 38s\n",
      "Wall time: 5min 36s\n"
     ]
    }
   ],
   "source": [
    "%%time\n",
    "convModel2_history=convModel2.fit(TrainXRS,Trainy,\n",
    "                                 batch_size=32,\n",
    "                                 epochs=25,\n",
    "                                validation_data=(TestXRS,Testy),\n",
    "        verbose=0)"
   ]
  },
  {
   "cell_type": "code",
   "execution_count": 39,
   "id": "eb1a31ba",
   "metadata": {},
   "outputs": [
    {
     "data": {
      "text/html": [
       "<div>\n",
       "<style scoped>\n",
       "    .dataframe tbody tr th:only-of-type {\n",
       "        vertical-align: middle;\n",
       "    }\n",
       "\n",
       "    .dataframe tbody tr th {\n",
       "        vertical-align: top;\n",
       "    }\n",
       "\n",
       "    .dataframe thead th {\n",
       "        text-align: right;\n",
       "    }\n",
       "</style>\n",
       "<table border=\"1\" class=\"dataframe\">\n",
       "  <thead>\n",
       "    <tr style=\"text-align: right;\">\n",
       "      <th></th>\n",
       "      <th>loss</th>\n",
       "      <th>acc</th>\n",
       "      <th>val_loss</th>\n",
       "      <th>val_acc</th>\n",
       "    </tr>\n",
       "  </thead>\n",
       "  <tbody>\n",
       "    <tr>\n",
       "      <th>24</th>\n",
       "      <td>0.028935</td>\n",
       "      <td>0.963677</td>\n",
       "      <td>0.030745</td>\n",
       "      <td>0.959524</td>\n",
       "    </tr>\n",
       "    <tr>\n",
       "      <th>23</th>\n",
       "      <td>0.029776</td>\n",
       "      <td>0.962460</td>\n",
       "      <td>0.031525</td>\n",
       "      <td>0.957619</td>\n",
       "    </tr>\n",
       "    <tr>\n",
       "      <th>22</th>\n",
       "      <td>0.030628</td>\n",
       "      <td>0.961878</td>\n",
       "      <td>0.032375</td>\n",
       "      <td>0.957381</td>\n",
       "    </tr>\n",
       "    <tr>\n",
       "      <th>21</th>\n",
       "      <td>0.031611</td>\n",
       "      <td>0.959815</td>\n",
       "      <td>0.033323</td>\n",
       "      <td>0.955952</td>\n",
       "    </tr>\n",
       "    <tr>\n",
       "      <th>20</th>\n",
       "      <td>0.032675</td>\n",
       "      <td>0.958624</td>\n",
       "      <td>0.034375</td>\n",
       "      <td>0.955714</td>\n",
       "    </tr>\n",
       "    <tr>\n",
       "      <th>19</th>\n",
       "      <td>0.033864</td>\n",
       "      <td>0.956931</td>\n",
       "      <td>0.035434</td>\n",
       "      <td>0.953809</td>\n",
       "    </tr>\n",
       "    <tr>\n",
       "      <th>18</th>\n",
       "      <td>0.035179</td>\n",
       "      <td>0.955635</td>\n",
       "      <td>0.036616</td>\n",
       "      <td>0.951429</td>\n",
       "    </tr>\n",
       "    <tr>\n",
       "      <th>17</th>\n",
       "      <td>0.036624</td>\n",
       "      <td>0.953968</td>\n",
       "      <td>0.038177</td>\n",
       "      <td>0.949048</td>\n",
       "    </tr>\n",
       "    <tr>\n",
       "      <th>16</th>\n",
       "      <td>0.038283</td>\n",
       "      <td>0.951587</td>\n",
       "      <td>0.039647</td>\n",
       "      <td>0.947857</td>\n",
       "    </tr>\n",
       "    <tr>\n",
       "      <th>15</th>\n",
       "      <td>0.040099</td>\n",
       "      <td>0.948862</td>\n",
       "      <td>0.041643</td>\n",
       "      <td>0.944286</td>\n",
       "    </tr>\n",
       "    <tr>\n",
       "      <th>14</th>\n",
       "      <td>0.042208</td>\n",
       "      <td>0.945185</td>\n",
       "      <td>0.043188</td>\n",
       "      <td>0.941190</td>\n",
       "    </tr>\n",
       "    <tr>\n",
       "      <th>13</th>\n",
       "      <td>0.044542</td>\n",
       "      <td>0.942116</td>\n",
       "      <td>0.045597</td>\n",
       "      <td>0.939762</td>\n",
       "    </tr>\n",
       "    <tr>\n",
       "      <th>12</th>\n",
       "      <td>0.047293</td>\n",
       "      <td>0.937037</td>\n",
       "      <td>0.048125</td>\n",
       "      <td>0.933333</td>\n",
       "    </tr>\n",
       "    <tr>\n",
       "      <th>11</th>\n",
       "      <td>0.050449</td>\n",
       "      <td>0.933122</td>\n",
       "      <td>0.051226</td>\n",
       "      <td>0.929048</td>\n",
       "    </tr>\n",
       "    <tr>\n",
       "      <th>10</th>\n",
       "      <td>0.054219</td>\n",
       "      <td>0.927566</td>\n",
       "      <td>0.054841</td>\n",
       "      <td>0.926429</td>\n",
       "    </tr>\n",
       "    <tr>\n",
       "      <th>9</th>\n",
       "      <td>0.058674</td>\n",
       "      <td>0.920767</td>\n",
       "      <td>0.058939</td>\n",
       "      <td>0.922619</td>\n",
       "    </tr>\n",
       "    <tr>\n",
       "      <th>8</th>\n",
       "      <td>0.064077</td>\n",
       "      <td>0.912460</td>\n",
       "      <td>0.063650</td>\n",
       "      <td>0.913810</td>\n",
       "    </tr>\n",
       "    <tr>\n",
       "      <th>7</th>\n",
       "      <td>0.070842</td>\n",
       "      <td>0.902037</td>\n",
       "      <td>0.070059</td>\n",
       "      <td>0.905000</td>\n",
       "    </tr>\n",
       "    <tr>\n",
       "      <th>6</th>\n",
       "      <td>0.079483</td>\n",
       "      <td>0.889180</td>\n",
       "      <td>0.077691</td>\n",
       "      <td>0.890714</td>\n",
       "    </tr>\n",
       "    <tr>\n",
       "      <th>5</th>\n",
       "      <td>0.090955</td>\n",
       "      <td>0.871825</td>\n",
       "      <td>0.087916</td>\n",
       "      <td>0.875714</td>\n",
       "    </tr>\n",
       "    <tr>\n",
       "      <th>4</th>\n",
       "      <td>0.108256</td>\n",
       "      <td>0.846852</td>\n",
       "      <td>0.101540</td>\n",
       "      <td>0.852619</td>\n",
       "    </tr>\n",
       "    <tr>\n",
       "      <th>3</th>\n",
       "      <td>0.146534</td>\n",
       "      <td>0.797646</td>\n",
       "      <td>0.124279</td>\n",
       "      <td>0.821905</td>\n",
       "    </tr>\n",
       "    <tr>\n",
       "      <th>2</th>\n",
       "      <td>0.245877</td>\n",
       "      <td>0.654735</td>\n",
       "      <td>0.185610</td>\n",
       "      <td>0.755476</td>\n",
       "    </tr>\n",
       "    <tr>\n",
       "      <th>1</th>\n",
       "      <td>0.315617</td>\n",
       "      <td>0.291825</td>\n",
       "      <td>0.299302</td>\n",
       "      <td>0.496667</td>\n",
       "    </tr>\n",
       "    <tr>\n",
       "      <th>0</th>\n",
       "      <td>0.331276</td>\n",
       "      <td>0.119286</td>\n",
       "      <td>0.322948</td>\n",
       "      <td>0.163095</td>\n",
       "    </tr>\n",
       "  </tbody>\n",
       "</table>\n",
       "</div>"
      ],
      "text/plain": [
       "        loss       acc  val_loss   val_acc\n",
       "24  0.028935  0.963677  0.030745  0.959524\n",
       "23  0.029776  0.962460  0.031525  0.957619\n",
       "22  0.030628  0.961878  0.032375  0.957381\n",
       "21  0.031611  0.959815  0.033323  0.955952\n",
       "20  0.032675  0.958624  0.034375  0.955714\n",
       "19  0.033864  0.956931  0.035434  0.953809\n",
       "18  0.035179  0.955635  0.036616  0.951429\n",
       "17  0.036624  0.953968  0.038177  0.949048\n",
       "16  0.038283  0.951587  0.039647  0.947857\n",
       "15  0.040099  0.948862  0.041643  0.944286\n",
       "14  0.042208  0.945185  0.043188  0.941190\n",
       "13  0.044542  0.942116  0.045597  0.939762\n",
       "12  0.047293  0.937037  0.048125  0.933333\n",
       "11  0.050449  0.933122  0.051226  0.929048\n",
       "10  0.054219  0.927566  0.054841  0.926429\n",
       "9   0.058674  0.920767  0.058939  0.922619\n",
       "8   0.064077  0.912460  0.063650  0.913810\n",
       "7   0.070842  0.902037  0.070059  0.905000\n",
       "6   0.079483  0.889180  0.077691  0.890714\n",
       "5   0.090955  0.871825  0.087916  0.875714\n",
       "4   0.108256  0.846852  0.101540  0.852619\n",
       "3   0.146534  0.797646  0.124279  0.821905\n",
       "2   0.245877  0.654735  0.185610  0.755476\n",
       "1   0.315617  0.291825  0.299302  0.496667\n",
       "0   0.331276  0.119286  0.322948  0.163095"
      ]
     },
     "execution_count": 39,
     "metadata": {},
     "output_type": "execute_result"
    }
   ],
   "source": [
    "pd.DataFrame(convModel2_history.history).sort_values(['val_acc'],\n",
    "                                                     ascending=False)"
   ]
  },
  {
   "cell_type": "code",
   "execution_count": 40,
   "id": "8e6bde85",
   "metadata": {
    "scrolled": true
   },
   "outputs": [
    {
     "data": {
      "image/png": "[encoded data removed]",
      "text/plain": [
       "<Figure size 720x360 with 2 Axes>"
      ]
     },
     "metadata": {
      "needs_background": "light"
     },
     "output_type": "display_data"
    }
   ],
   "source": [
    "show_history(convModel2_history.history,interpolate=True)"
   ]
  },
  {
   "cell_type": "markdown",
   "id": "b92d5408",
   "metadata": {},
   "source": [
    "The training time of this network was 5 minutes and 36 seconds and the final test accuracy was 0.9595."
   ]
  },
  {
   "cell_type": "code",
   "execution_count": 41,
   "id": "13da755c",
   "metadata": {},
   "outputs": [
    {
     "name": "stdout",
     "output_type": "stream",
     "text": [
      "Model: \"model_2\"\n",
      "_________________________________________________________________\n",
      " Layer (type)                Output Shape              Param #   \n",
      "=================================================================\n",
      " input_3 (InputLayer)        [(None, 28, 28, 1)]       0         \n",
      "                                                                 \n",
      " conv2d_4 (Conv2D)           (None, 26, 26, 32)        320       \n",
      "                                                                 \n",
      " max_pooling2d_4 (MaxPooling  (None, 13, 13, 32)       0         \n",
      " 2D)                                                             \n",
      "                                                                 \n",
      " flatten_2 (Flatten)         (None, 5408)              0         \n",
      "                                                                 \n",
      " dense_2 (Dense)             (None, 10)                54090     \n",
      "                                                                 \n",
      "=================================================================\n",
      "Total params: 54,410\n",
      "Trainable params: 54,410\n",
      "Non-trainable params: 0\n",
      "_________________________________________________________________\n"
     ]
    }
   ],
   "source": [
    "inputs = tf.keras.Input(shape=(28,28,1))\n",
    "x=layers.Conv2D(filters=32,\n",
    "                kernel_size=3,\n",
    "                activation='relu')(inputs)\n",
    "x=layers.MaxPooling2D()(x)\n",
    "x=layers.Flatten()(x)\n",
    "outputs=layers.Dense(10,activation='relu')(x)\n",
    "convModel3=models.Model(inputs=inputs,outputs=outputs)\n",
    "convModel3.summary()"
   ]
  },
  {
   "cell_type": "markdown",
   "id": "5efdcfa0",
   "metadata": {},
   "source": [
    "This CNN consists of 3 hidden layers(1 Conv2D, 1 MaxPooling2D, and 1 Flatten) with relu activation."
   ]
  },
  {
   "cell_type": "code",
   "execution_count": 42,
   "id": "674ac2a1",
   "metadata": {},
   "outputs": [],
   "source": [
    "convModel3.compile(\n",
    "    loss=tf.keras.losses.BinaryCrossentropy(),\n",
    "    optimizer=tf.keras.optimizers.RMSprop(learning_rate=1e-4),\n",
    "    metrics=['acc'])"
   ]
  },
  {
   "cell_type": "code",
   "execution_count": 43,
   "id": "6f02d0d1",
   "metadata": {},
   "outputs": [
    {
     "name": "stdout",
     "output_type": "stream",
     "text": [
      "CPU times: user 6min 1s, sys: 38.7 s, total: 6min 40s\n",
      "Wall time: 2min 48s\n"
     ]
    }
   ],
   "source": [
    "%%time\n",
    "convModel3_history=convModel3.fit(TrainXRS,Trainy,\n",
    "                                 batch_size=32,\n",
    "                                 epochs=25,\n",
    "                                validation_data=(TestXRS,Testy),\n",
    "        verbose=0)"
   ]
  },
  {
   "cell_type": "code",
   "execution_count": 44,
   "id": "827b535a",
   "metadata": {},
   "outputs": [
    {
     "data": {
      "text/html": [
       "<div>\n",
       "<style scoped>\n",
       "    .dataframe tbody tr th:only-of-type {\n",
       "        vertical-align: middle;\n",
       "    }\n",
       "\n",
       "    .dataframe tbody tr th {\n",
       "        vertical-align: top;\n",
       "    }\n",
       "\n",
       "    .dataframe thead th {\n",
       "        text-align: right;\n",
       "    }\n",
       "</style>\n",
       "<table border=\"1\" class=\"dataframe\">\n",
       "  <thead>\n",
       "    <tr style=\"text-align: right;\">\n",
       "      <th></th>\n",
       "      <th>loss</th>\n",
       "      <th>acc</th>\n",
       "      <th>val_loss</th>\n",
       "      <th>val_acc</th>\n",
       "    </tr>\n",
       "  </thead>\n",
       "  <tbody>\n",
       "    <tr>\n",
       "      <th>20</th>\n",
       "      <td>1.087092</td>\n",
       "      <td>0.394021</td>\n",
       "      <td>1.088004</td>\n",
       "      <td>0.392857</td>\n",
       "    </tr>\n",
       "    <tr>\n",
       "      <th>24</th>\n",
       "      <td>1.086653</td>\n",
       "      <td>0.394153</td>\n",
       "      <td>1.088771</td>\n",
       "      <td>0.392619</td>\n",
       "    </tr>\n",
       "    <tr>\n",
       "      <th>21</th>\n",
       "      <td>1.086940</td>\n",
       "      <td>0.393995</td>\n",
       "      <td>1.089233</td>\n",
       "      <td>0.392619</td>\n",
       "    </tr>\n",
       "    <tr>\n",
       "      <th>18</th>\n",
       "      <td>1.087541</td>\n",
       "      <td>0.393492</td>\n",
       "      <td>1.088405</td>\n",
       "      <td>0.392619</td>\n",
       "    </tr>\n",
       "    <tr>\n",
       "      <th>23</th>\n",
       "      <td>1.086798</td>\n",
       "      <td>0.394180</td>\n",
       "      <td>1.088451</td>\n",
       "      <td>0.392143</td>\n",
       "    </tr>\n",
       "    <tr>\n",
       "      <th>19</th>\n",
       "      <td>1.087318</td>\n",
       "      <td>0.393571</td>\n",
       "      <td>1.088713</td>\n",
       "      <td>0.392143</td>\n",
       "    </tr>\n",
       "    <tr>\n",
       "      <th>22</th>\n",
       "      <td>1.086719</td>\n",
       "      <td>0.394101</td>\n",
       "      <td>1.088160</td>\n",
       "      <td>0.391905</td>\n",
       "    </tr>\n",
       "    <tr>\n",
       "      <th>11</th>\n",
       "      <td>1.089133</td>\n",
       "      <td>0.391772</td>\n",
       "      <td>1.089865</td>\n",
       "      <td>0.391190</td>\n",
       "    </tr>\n",
       "    <tr>\n",
       "      <th>17</th>\n",
       "      <td>1.087419</td>\n",
       "      <td>0.393386</td>\n",
       "      <td>1.088791</td>\n",
       "      <td>0.391190</td>\n",
       "    </tr>\n",
       "    <tr>\n",
       "      <th>15</th>\n",
       "      <td>1.088117</td>\n",
       "      <td>0.393095</td>\n",
       "      <td>1.089146</td>\n",
       "      <td>0.391190</td>\n",
       "    </tr>\n",
       "    <tr>\n",
       "      <th>13</th>\n",
       "      <td>1.088415</td>\n",
       "      <td>0.392725</td>\n",
       "      <td>1.089871</td>\n",
       "      <td>0.390952</td>\n",
       "    </tr>\n",
       "    <tr>\n",
       "      <th>12</th>\n",
       "      <td>1.088580</td>\n",
       "      <td>0.392275</td>\n",
       "      <td>1.089165</td>\n",
       "      <td>0.390952</td>\n",
       "    </tr>\n",
       "    <tr>\n",
       "      <th>14</th>\n",
       "      <td>1.088145</td>\n",
       "      <td>0.392804</td>\n",
       "      <td>1.088342</td>\n",
       "      <td>0.390714</td>\n",
       "    </tr>\n",
       "    <tr>\n",
       "      <th>10</th>\n",
       "      <td>1.089174</td>\n",
       "      <td>0.391878</td>\n",
       "      <td>1.090538</td>\n",
       "      <td>0.390476</td>\n",
       "    </tr>\n",
       "    <tr>\n",
       "      <th>16</th>\n",
       "      <td>1.087724</td>\n",
       "      <td>0.393175</td>\n",
       "      <td>1.089114</td>\n",
       "      <td>0.390238</td>\n",
       "    </tr>\n",
       "    <tr>\n",
       "      <th>9</th>\n",
       "      <td>1.089837</td>\n",
       "      <td>0.391349</td>\n",
       "      <td>1.090270</td>\n",
       "      <td>0.389762</td>\n",
       "    </tr>\n",
       "    <tr>\n",
       "      <th>5</th>\n",
       "      <td>1.092261</td>\n",
       "      <td>0.389603</td>\n",
       "      <td>1.092489</td>\n",
       "      <td>0.388810</td>\n",
       "    </tr>\n",
       "    <tr>\n",
       "      <th>8</th>\n",
       "      <td>1.090065</td>\n",
       "      <td>0.390847</td>\n",
       "      <td>1.091850</td>\n",
       "      <td>0.388571</td>\n",
       "    </tr>\n",
       "    <tr>\n",
       "      <th>7</th>\n",
       "      <td>1.090513</td>\n",
       "      <td>0.390450</td>\n",
       "      <td>1.091621</td>\n",
       "      <td>0.388095</td>\n",
       "    </tr>\n",
       "    <tr>\n",
       "      <th>6</th>\n",
       "      <td>1.090988</td>\n",
       "      <td>0.389921</td>\n",
       "      <td>1.092301</td>\n",
       "      <td>0.387143</td>\n",
       "    </tr>\n",
       "    <tr>\n",
       "      <th>4</th>\n",
       "      <td>1.093247</td>\n",
       "      <td>0.388651</td>\n",
       "      <td>1.093581</td>\n",
       "      <td>0.387143</td>\n",
       "    </tr>\n",
       "    <tr>\n",
       "      <th>3</th>\n",
       "      <td>1.094738</td>\n",
       "      <td>0.387989</td>\n",
       "      <td>1.095673</td>\n",
       "      <td>0.385952</td>\n",
       "    </tr>\n",
       "    <tr>\n",
       "      <th>2</th>\n",
       "      <td>1.096520</td>\n",
       "      <td>0.386561</td>\n",
       "      <td>1.096859</td>\n",
       "      <td>0.385476</td>\n",
       "    </tr>\n",
       "    <tr>\n",
       "      <th>1</th>\n",
       "      <td>1.098931</td>\n",
       "      <td>0.384339</td>\n",
       "      <td>1.101503</td>\n",
       "      <td>0.384762</td>\n",
       "    </tr>\n",
       "    <tr>\n",
       "      <th>0</th>\n",
       "      <td>1.119877</td>\n",
       "      <td>0.352513</td>\n",
       "      <td>1.102219</td>\n",
       "      <td>0.379048</td>\n",
       "    </tr>\n",
       "  </tbody>\n",
       "</table>\n",
       "</div>"
      ],
      "text/plain": [
       "        loss       acc  val_loss   val_acc\n",
       "20  1.087092  0.394021  1.088004  0.392857\n",
       "24  1.086653  0.394153  1.088771  0.392619\n",
       "21  1.086940  0.393995  1.089233  0.392619\n",
       "18  1.087541  0.393492  1.088405  0.392619\n",
       "23  1.086798  0.394180  1.088451  0.392143\n",
       "19  1.087318  0.393571  1.088713  0.392143\n",
       "22  1.086719  0.394101  1.088160  0.391905\n",
       "11  1.089133  0.391772  1.089865  0.391190\n",
       "17  1.087419  0.393386  1.088791  0.391190\n",
       "15  1.088117  0.393095  1.089146  0.391190\n",
       "13  1.088415  0.392725  1.089871  0.390952\n",
       "12  1.088580  0.392275  1.089165  0.390952\n",
       "14  1.088145  0.392804  1.088342  0.390714\n",
       "10  1.089174  0.391878  1.090538  0.390476\n",
       "16  1.087724  0.393175  1.089114  0.390238\n",
       "9   1.089837  0.391349  1.090270  0.389762\n",
       "5   1.092261  0.389603  1.092489  0.388810\n",
       "8   1.090065  0.390847  1.091850  0.388571\n",
       "7   1.090513  0.390450  1.091621  0.388095\n",
       "6   1.090988  0.389921  1.092301  0.387143\n",
       "4   1.093247  0.388651  1.093581  0.387143\n",
       "3   1.094738  0.387989  1.095673  0.385952\n",
       "2   1.096520  0.386561  1.096859  0.385476\n",
       "1   1.098931  0.384339  1.101503  0.384762\n",
       "0   1.119877  0.352513  1.102219  0.379048"
      ]
     },
     "execution_count": 44,
     "metadata": {},
     "output_type": "execute_result"
    }
   ],
   "source": [
    "pd.DataFrame(convModel3_history.history).sort_values(['val_acc'],\n",
    "                                                     ascending=False)"
   ]
  },
  {
   "cell_type": "code",
   "execution_count": 45,
   "id": "74991982",
   "metadata": {
    "scrolled": true
   },
   "outputs": [
    {
     "data": {
      "image/png": "[encoded data removed]",
      "text/plain": [
       "<Figure size 720x360 with 2 Axes>"
      ]
     },
     "metadata": {
      "needs_background": "light"
     },
     "output_type": "display_data"
    }
   ],
   "source": [
    "show_history(convModel3_history.history,interpolate=True)"
   ]
  },
  {
   "cell_type": "markdown",
   "id": "29af4464",
   "metadata": {},
   "source": [
    "The training time of this network was 2 minutes and 48 seconds and the final test accuracy was 0.3929."
   ]
  },
  {
   "cell_type": "code",
   "execution_count": 46,
   "id": "d9914a0c",
   "metadata": {
    "scrolled": true
   },
   "outputs": [
    {
     "name": "stdout",
     "output_type": "stream",
     "text": [
      "Model: \"model_3\"\n",
      "_________________________________________________________________\n",
      " Layer (type)                Output Shape              Param #   \n",
      "=================================================================\n",
      " input_4 (InputLayer)        [(None, 28, 28, 1)]       0         \n",
      "                                                                 \n",
      " conv2d_5 (Conv2D)           (None, 26, 26, 32)        320       \n",
      "                                                                 \n",
      " max_pooling2d_5 (MaxPooling  (None, 13, 13, 32)       0         \n",
      " 2D)                                                             \n",
      "                                                                 \n",
      " flatten_3 (Flatten)         (None, 5408)              0         \n",
      "                                                                 \n",
      " dense_3 (Dense)             (None, 10)                54090     \n",
      "                                                                 \n",
      "=================================================================\n",
      "Total params: 54,410\n",
      "Trainable params: 54,410\n",
      "Non-trainable params: 0\n",
      "_________________________________________________________________\n"
     ]
    }
   ],
   "source": [
    "inputs = tf.keras.Input(shape=(28,28,1))\n",
    "x=layers.Conv2D(filters=32,\n",
    "                kernel_size=3,\n",
    "                activation='sigmoid')(inputs)\n",
    "x=layers.MaxPooling2D()(x)\n",
    "x=layers.Flatten()(x)\n",
    "outputs=layers.Dense(10,activation='sigmoid')(x)\n",
    "convModel4=models.Model(inputs=inputs,outputs=outputs)\n",
    "convModel4.summary()"
   ]
  },
  {
   "cell_type": "markdown",
   "id": "3d941e86",
   "metadata": {},
   "source": [
    "This CNN consists of 3 hidden layers(1 Conv2D, 1 MaxPooling2D, and 1 Flatten) with sigmoid activation."
   ]
  },
  {
   "cell_type": "code",
   "execution_count": 47,
   "id": "fc17382a",
   "metadata": {},
   "outputs": [],
   "source": [
    "convModel4.compile(\n",
    "    loss=tf.keras.losses.BinaryCrossentropy(),\n",
    "    optimizer=tf.keras.optimizers.RMSprop(learning_rate=1e-4),\n",
    "    metrics=['acc'])"
   ]
  },
  {
   "cell_type": "code",
   "execution_count": 48,
   "id": "cce8205b",
   "metadata": {},
   "outputs": [
    {
     "name": "stdout",
     "output_type": "stream",
     "text": [
      "CPU times: user 6min 42s, sys: 42.2 s, total: 7min 24s\n",
      "Wall time: 3min 6s\n"
     ]
    }
   ],
   "source": [
    "%%time\n",
    "convModel4_history=convModel4.fit(TrainXRS,Trainy,\n",
    "                                 batch_size=32,\n",
    "                                 epochs=25,\n",
    "                                validation_data=(TestXRS,Testy),\n",
    "        verbose=0)"
   ]
  },
  {
   "cell_type": "code",
   "execution_count": 49,
   "id": "c1ce980a",
   "metadata": {},
   "outputs": [
    {
     "data": {
      "text/html": [
       "<div>\n",
       "<style scoped>\n",
       "    .dataframe tbody tr th:only-of-type {\n",
       "        vertical-align: middle;\n",
       "    }\n",
       "\n",
       "    .dataframe tbody tr th {\n",
       "        vertical-align: top;\n",
       "    }\n",
       "\n",
       "    .dataframe thead th {\n",
       "        text-align: right;\n",
       "    }\n",
       "</style>\n",
       "<table border=\"1\" class=\"dataframe\">\n",
       "  <thead>\n",
       "    <tr style=\"text-align: right;\">\n",
       "      <th></th>\n",
       "      <th>loss</th>\n",
       "      <th>acc</th>\n",
       "      <th>val_loss</th>\n",
       "      <th>val_acc</th>\n",
       "    </tr>\n",
       "  </thead>\n",
       "  <tbody>\n",
       "    <tr>\n",
       "      <th>24</th>\n",
       "      <td>0.054150</td>\n",
       "      <td>0.928016</td>\n",
       "      <td>0.058022</td>\n",
       "      <td>0.920952</td>\n",
       "    </tr>\n",
       "    <tr>\n",
       "      <th>22</th>\n",
       "      <td>0.055531</td>\n",
       "      <td>0.925608</td>\n",
       "      <td>0.059235</td>\n",
       "      <td>0.920476</td>\n",
       "    </tr>\n",
       "    <tr>\n",
       "      <th>23</th>\n",
       "      <td>0.054825</td>\n",
       "      <td>0.926323</td>\n",
       "      <td>0.058926</td>\n",
       "      <td>0.917143</td>\n",
       "    </tr>\n",
       "    <tr>\n",
       "      <th>21</th>\n",
       "      <td>0.056371</td>\n",
       "      <td>0.923624</td>\n",
       "      <td>0.059453</td>\n",
       "      <td>0.916905</td>\n",
       "    </tr>\n",
       "    <tr>\n",
       "      <th>19</th>\n",
       "      <td>0.058135</td>\n",
       "      <td>0.922222</td>\n",
       "      <td>0.063020</td>\n",
       "      <td>0.915238</td>\n",
       "    </tr>\n",
       "    <tr>\n",
       "      <th>20</th>\n",
       "      <td>0.057364</td>\n",
       "      <td>0.923175</td>\n",
       "      <td>0.060496</td>\n",
       "      <td>0.914762</td>\n",
       "    </tr>\n",
       "    <tr>\n",
       "      <th>18</th>\n",
       "      <td>0.059041</td>\n",
       "      <td>0.919894</td>\n",
       "      <td>0.063989</td>\n",
       "      <td>0.911667</td>\n",
       "    </tr>\n",
       "    <tr>\n",
       "      <th>17</th>\n",
       "      <td>0.060014</td>\n",
       "      <td>0.918122</td>\n",
       "      <td>0.063690</td>\n",
       "      <td>0.911667</td>\n",
       "    </tr>\n",
       "    <tr>\n",
       "      <th>13</th>\n",
       "      <td>0.063985</td>\n",
       "      <td>0.911667</td>\n",
       "      <td>0.067065</td>\n",
       "      <td>0.909524</td>\n",
       "    </tr>\n",
       "    <tr>\n",
       "      <th>14</th>\n",
       "      <td>0.062996</td>\n",
       "      <td>0.913677</td>\n",
       "      <td>0.066549</td>\n",
       "      <td>0.908810</td>\n",
       "    </tr>\n",
       "    <tr>\n",
       "      <th>15</th>\n",
       "      <td>0.061954</td>\n",
       "      <td>0.915794</td>\n",
       "      <td>0.065846</td>\n",
       "      <td>0.905952</td>\n",
       "    </tr>\n",
       "    <tr>\n",
       "      <th>16</th>\n",
       "      <td>0.060937</td>\n",
       "      <td>0.916799</td>\n",
       "      <td>0.067676</td>\n",
       "      <td>0.904762</td>\n",
       "    </tr>\n",
       "    <tr>\n",
       "      <th>12</th>\n",
       "      <td>0.065165</td>\n",
       "      <td>0.910265</td>\n",
       "      <td>0.069749</td>\n",
       "      <td>0.903095</td>\n",
       "    </tr>\n",
       "    <tr>\n",
       "      <th>11</th>\n",
       "      <td>0.066472</td>\n",
       "      <td>0.908333</td>\n",
       "      <td>0.070761</td>\n",
       "      <td>0.902381</td>\n",
       "    </tr>\n",
       "    <tr>\n",
       "      <th>10</th>\n",
       "      <td>0.067895</td>\n",
       "      <td>0.906005</td>\n",
       "      <td>0.071130</td>\n",
       "      <td>0.902381</td>\n",
       "    </tr>\n",
       "    <tr>\n",
       "      <th>8</th>\n",
       "      <td>0.071362</td>\n",
       "      <td>0.900397</td>\n",
       "      <td>0.074230</td>\n",
       "      <td>0.898810</td>\n",
       "    </tr>\n",
       "    <tr>\n",
       "      <th>9</th>\n",
       "      <td>0.069484</td>\n",
       "      <td>0.904021</td>\n",
       "      <td>0.075058</td>\n",
       "      <td>0.895476</td>\n",
       "    </tr>\n",
       "    <tr>\n",
       "      <th>7</th>\n",
       "      <td>0.073727</td>\n",
       "      <td>0.895952</td>\n",
       "      <td>0.075510</td>\n",
       "      <td>0.892381</td>\n",
       "    </tr>\n",
       "    <tr>\n",
       "      <th>6</th>\n",
       "      <td>0.076707</td>\n",
       "      <td>0.891058</td>\n",
       "      <td>0.077862</td>\n",
       "      <td>0.891190</td>\n",
       "    </tr>\n",
       "    <tr>\n",
       "      <th>5</th>\n",
       "      <td>0.080921</td>\n",
       "      <td>0.886217</td>\n",
       "      <td>0.084039</td>\n",
       "      <td>0.878810</td>\n",
       "    </tr>\n",
       "    <tr>\n",
       "      <th>4</th>\n",
       "      <td>0.087522</td>\n",
       "      <td>0.876455</td>\n",
       "      <td>0.088726</td>\n",
       "      <td>0.874762</td>\n",
       "    </tr>\n",
       "    <tr>\n",
       "      <th>3</th>\n",
       "      <td>0.099870</td>\n",
       "      <td>0.863915</td>\n",
       "      <td>0.098122</td>\n",
       "      <td>0.851190</td>\n",
       "    </tr>\n",
       "    <tr>\n",
       "      <th>2</th>\n",
       "      <td>0.128406</td>\n",
       "      <td>0.828783</td>\n",
       "      <td>0.114517</td>\n",
       "      <td>0.838095</td>\n",
       "    </tr>\n",
       "    <tr>\n",
       "      <th>1</th>\n",
       "      <td>0.207954</td>\n",
       "      <td>0.716005</td>\n",
       "      <td>0.160667</td>\n",
       "      <td>0.762857</td>\n",
       "    </tr>\n",
       "    <tr>\n",
       "      <th>0</th>\n",
       "      <td>0.309453</td>\n",
       "      <td>0.259841</td>\n",
       "      <td>0.270644</td>\n",
       "      <td>0.624048</td>\n",
       "    </tr>\n",
       "  </tbody>\n",
       "</table>\n",
       "</div>"
      ],
      "text/plain": [
       "        loss       acc  val_loss   val_acc\n",
       "24  0.054150  0.928016  0.058022  0.920952\n",
       "22  0.055531  0.925608  0.059235  0.920476\n",
       "23  0.054825  0.926323  0.058926  0.917143\n",
       "21  0.056371  0.923624  0.059453  0.916905\n",
       "19  0.058135  0.922222  0.063020  0.915238\n",
       "20  0.057364  0.923175  0.060496  0.914762\n",
       "18  0.059041  0.919894  0.063989  0.911667\n",
       "17  0.060014  0.918122  0.063690  0.911667\n",
       "13  0.063985  0.911667  0.067065  0.909524\n",
       "14  0.062996  0.913677  0.066549  0.908810\n",
       "15  0.061954  0.915794  0.065846  0.905952\n",
       "16  0.060937  0.916799  0.067676  0.904762\n",
       "12  0.065165  0.910265  0.069749  0.903095\n",
       "11  0.066472  0.908333  0.070761  0.902381\n",
       "10  0.067895  0.906005  0.071130  0.902381\n",
       "8   0.071362  0.900397  0.074230  0.898810\n",
       "9   0.069484  0.904021  0.075058  0.895476\n",
       "7   0.073727  0.895952  0.075510  0.892381\n",
       "6   0.076707  0.891058  0.077862  0.891190\n",
       "5   0.080921  0.886217  0.084039  0.878810\n",
       "4   0.087522  0.876455  0.088726  0.874762\n",
       "3   0.099870  0.863915  0.098122  0.851190\n",
       "2   0.128406  0.828783  0.114517  0.838095\n",
       "1   0.207954  0.716005  0.160667  0.762857\n",
       "0   0.309453  0.259841  0.270644  0.624048"
      ]
     },
     "execution_count": 49,
     "metadata": {},
     "output_type": "execute_result"
    }
   ],
   "source": [
    "pd.DataFrame(convModel4_history.history).sort_values(['val_acc'],\n",
    "                                                     ascending=False)"
   ]
  },
  {
   "cell_type": "code",
   "execution_count": 50,
   "id": "859f8d4e",
   "metadata": {
    "scrolled": true
   },
   "outputs": [
    {
     "data": {
      "image/png": "[encoded data removed]",
      "text/plain": [
       "<Figure size 720x360 with 2 Axes>"
      ]
     },
     "metadata": {
      "needs_background": "light"
     },
     "output_type": "display_data"
    }
   ],
   "source": [
    "show_history(convModel4_history.history,interpolate=True)"
   ]
  },
  {
   "cell_type": "markdown",
   "id": "f765218b",
   "metadata": {},
   "source": [
    "The training time of this network was 3 minutes and 6 seconds and the final test accuracy was 0.9210."
   ]
  },
  {
   "cell_type": "markdown",
   "id": "9223cd8a",
   "metadata": {},
   "source": [
    "The 2nd CNN that consists of 5 hidden layers(2 Conv2D, 2 MaxPooling2D, and 1 Flatten) with sigmoid activation was determined to have the best final test accuracy out of all the networks. This network will be utilized on the test data for submission."
   ]
  },
  {
   "cell_type": "code",
   "execution_count": 59,
   "id": "8b884117",
   "metadata": {},
   "outputs": [],
   "source": [
    "testDat2 = testDat.to_numpy(copy = True)\n",
    "testDat2 = testDat2/255\n",
    "testDatRS = testDat2.reshape(-1,28,28,1)\n",
    "predy = np.argmax(convModel2.predict(testDatRS), axis=-1)"
   ]
  },
  {
   "cell_type": "code",
   "execution_count": 61,
   "id": "cf75cf9d",
   "metadata": {},
   "outputs": [],
   "source": [
    "submission = pd.DataFrame({'ImageId':pd.Series(list(range(1, len(predy)+1))),\n",
    "                                   'Label':pd.Series(predy)})\n",
    "submission.to_csv(\"Submission_Digit.csv\", index=False)"
   ]
  },
  {
   "cell_type": "markdown",
   "id": "66d274ac",
   "metadata": {},
   "source": [
    "The test data was converted to numpy, standardized, and reshaped, and it was put into CNN model 2 to predict the labels. The ImageId's and labels were then put together in a pandas series for submission."
   ]
  },
  {
   "cell_type": "markdown",
   "id": "ecf3e594",
   "metadata": {},
   "source": [
    "# Assigment 4 Part 2"
   ]
  },
  {
   "cell_type": "markdown",
   "id": "e7e0bc14",
   "metadata": {},
   "source": [
    "# 2A"
   ]
  },
  {
   "cell_type": "code",
   "execution_count": 102,
   "id": "9e779965",
   "metadata": {},
   "outputs": [],
   "source": [
    "train_disaster = pd.read_csv('train_disaster.csv')\n",
    "test_disaster =  pd.read_csv('test_disaster.csv')"
   ]
  },
  {
   "cell_type": "code",
   "execution_count": 103,
   "id": "dfc79339",
   "metadata": {},
   "outputs": [],
   "source": [
    "maxLen = 80 # maximum tweet length\n",
    "trainDatNbr = 7000 # number of tweets that will be used for training\n",
    "valDatNbr = 200 # tweets for validation\n",
    "maxWords = 10000 # max number of words to use"
   ]
  },
  {
   "cell_type": "markdown",
   "id": "ae060765",
   "metadata": {},
   "source": [
    "The parameters for the RNN model were set here. The max tweet length was set to 80 tokens, the number of tweets used in the training set was set to 7000, the number of tweets for the validation set was 200, and the max number of words to use was 10000. "
   ]
  },
  {
   "cell_type": "code",
   "execution_count": 104,
   "id": "65cc4b14",
   "metadata": {},
   "outputs": [],
   "source": [
    "tokenizer = Tokenizer(num_words=maxWords) # split into words, no more than 10k\n",
    "# The tokenizer will by default remove punctuation\n",
    "\n",
    "tokenizer.fit_on_texts(train_disaster[\"text\"]) \n",
    "sequences = tokenizer.texts_to_sequences(train_disaster[\"text\"])\n",
    "paddedSeqs = pad_sequences(sequences,maxLen) # A np array\n",
    "targets = np.asarray(train_disaster[\"target\"]) # Another np array"
   ]
  },
  {
   "cell_type": "markdown",
   "id": "b8d97a56",
   "metadata": {},
   "source": [
    "The tokenizer was created her and fit, sequenced, and padded using the text column in the train dataset. This created a numpy array and another numpy array was created for our target variable."
   ]
  },
  {
   "cell_type": "code",
   "execution_count": 105,
   "id": "9df651cd",
   "metadata": {},
   "outputs": [
    {
     "data": {
      "text/plain": [
       "dict"
      ]
     },
     "execution_count": 105,
     "metadata": {},
     "output_type": "execute_result"
    }
   ],
   "source": [
    "wordIndx=tokenizer.word_index\n",
    "type(wordIndx)"
   ]
  },
  {
   "cell_type": "code",
   "execution_count": 106,
   "id": "28f40379",
   "metadata": {
    "scrolled": true
   },
   "outputs": [],
   "source": [
    "np.random.seed(55)\n",
    "Indx = np.arange(len(paddedSeqs))\n",
    "np.random.shuffle(Indx)\n",
    "targets=targets[Indx]\n",
    "paddedSeqs=paddedSeqs[Indx]"
   ]
  },
  {
   "cell_type": "code",
   "execution_count": 107,
   "id": "66acb32e",
   "metadata": {},
   "outputs": [],
   "source": [
    "XTrain = paddedSeqs[:trainDatNbr] # training data\n",
    "yTrain = targets[:trainDatNbr] # training targets\n",
    "XVal = paddedSeqs[trainDatNbr:trainDatNbr+valDatNbr]\n",
    "yVal = targets[trainDatNbr:trainDatNbr+valDatNbr]"
   ]
  },
  {
   "cell_type": "markdown",
   "id": "fefbb9fa",
   "metadata": {},
   "source": [
    "The training data was randomly shuffled to create the x and y training data and the x and y validation data."
   ]
  },
  {
   "cell_type": "code",
   "execution_count": 108,
   "id": "6685f9f8",
   "metadata": {},
   "outputs": [
    {
     "data": {
      "text/plain": [
       "(7000, 80)"
      ]
     },
     "execution_count": 108,
     "metadata": {},
     "output_type": "execute_result"
    },
    {
     "data": {
      "text/plain": [
       "(7000,)"
      ]
     },
     "execution_count": 108,
     "metadata": {},
     "output_type": "execute_result"
    },
    {
     "data": {
      "text/plain": [
       "(200, 80)"
      ]
     },
     "execution_count": 108,
     "metadata": {},
     "output_type": "execute_result"
    },
    {
     "data": {
      "text/plain": [
       "(200,)"
      ]
     },
     "execution_count": 108,
     "metadata": {},
     "output_type": "execute_result"
    }
   ],
   "source": [
    "XTrain.shape\n",
    "yTrain.shape\n",
    "XVal.shape\n",
    "yVal.shape"
   ]
  },
  {
   "cell_type": "code",
   "execution_count": 109,
   "id": "8b22487d",
   "metadata": {
    "scrolled": true
   },
   "outputs": [
    {
     "name": "stdout",
     "output_type": "stream",
     "text": [
      "Model: \"sequential_6\"\n",
      "_________________________________________________________________\n",
      " Layer (type)                Output Shape              Param #   \n",
      "=================================================================\n",
      " embedding_4 (Embedding)     (None, 80, 100)           1000000   \n",
      "                                                                 \n",
      " flatten_7 (Flatten)         (None, 8000)              0         \n",
      "                                                                 \n",
      " dense_8 (Dense)             (None, 50)                400050    \n",
      "                                                                 \n",
      " dense_9 (Dense)             (None, 1)                 51        \n",
      "                                                                 \n",
      "=================================================================\n",
      "Total params: 1,400,101\n",
      "Trainable params: 1,400,101\n",
      "Non-trainable params: 0\n",
      "_________________________________________________________________\n"
     ]
    }
   ],
   "source": [
    "emDim = 100\n",
    "model = tf.keras.Sequential()\n",
    "model.add(layers.Embedding(maxWords,emDim,input_length=maxLen))\n",
    "model.add(layers.Flatten())\n",
    "model.add(layers.Dense(50,activation='relu'))\n",
    "model.add(layers.Dense(1,activation='sigmoid'))\n",
    "model.summary()"
   ]
  },
  {
   "cell_type": "code",
   "execution_count": 110,
   "id": "5a745c48",
   "metadata": {},
   "outputs": [],
   "source": [
    "model.layers[0].trainable=True"
   ]
  },
  {
   "cell_type": "code",
   "execution_count": 111,
   "id": "2892a02b",
   "metadata": {},
   "outputs": [],
   "source": [
    "model.compile(\n",
    "optimizer='rmsprop',\n",
    "loss='binary_crossentropy',\n",
    "metrics=['acc'],\n",
    ")"
   ]
  },
  {
   "cell_type": "code",
   "execution_count": 125,
   "id": "422229a1",
   "metadata": {},
   "outputs": [],
   "source": [
    "history=model.fit(XTrain, yTrain,\n",
    "epochs=25,\n",
    "batch_size=32,\n",
    "validation_data=(XVal,yVal),\n",
    "verbose=0)"
   ]
  },
  {
   "cell_type": "markdown",
   "id": "cb45bdee",
   "metadata": {},
   "source": [
    "The RNN model was created with 3 hidden layers (1 Flatten, 2 Dense) using the relu and sigmoid activation. The model was set to learn weights for the word embeddings while training. "
   ]
  },
  {
   "cell_type": "code",
   "execution_count": 126,
   "id": "f6830bc2",
   "metadata": {},
   "outputs": [
    {
     "data": {
      "text/html": [
       "<div>\n",
       "<style scoped>\n",
       "    .dataframe tbody tr th:only-of-type {\n",
       "        vertical-align: middle;\n",
       "    }\n",
       "\n",
       "    .dataframe tbody tr th {\n",
       "        vertical-align: top;\n",
       "    }\n",
       "\n",
       "    .dataframe thead th {\n",
       "        text-align: right;\n",
       "    }\n",
       "</style>\n",
       "<table border=\"1\" class=\"dataframe\">\n",
       "  <thead>\n",
       "    <tr style=\"text-align: right;\">\n",
       "      <th></th>\n",
       "      <th>loss</th>\n",
       "      <th>acc</th>\n",
       "      <th>val_loss</th>\n",
       "      <th>val_acc</th>\n",
       "    </tr>\n",
       "  </thead>\n",
       "  <tbody>\n",
       "    <tr>\n",
       "      <th>6</th>\n",
       "      <td>0.045296</td>\n",
       "      <td>0.985000</td>\n",
       "      <td>1.901084</td>\n",
       "      <td>0.710</td>\n",
       "    </tr>\n",
       "    <tr>\n",
       "      <th>10</th>\n",
       "      <td>0.045137</td>\n",
       "      <td>0.985571</td>\n",
       "      <td>1.991768</td>\n",
       "      <td>0.710</td>\n",
       "    </tr>\n",
       "    <tr>\n",
       "      <th>17</th>\n",
       "      <td>0.052152</td>\n",
       "      <td>0.983714</td>\n",
       "      <td>2.211473</td>\n",
       "      <td>0.705</td>\n",
       "    </tr>\n",
       "    <tr>\n",
       "      <th>22</th>\n",
       "      <td>0.051586</td>\n",
       "      <td>0.983857</td>\n",
       "      <td>2.257645</td>\n",
       "      <td>0.690</td>\n",
       "    </tr>\n",
       "    <tr>\n",
       "      <th>19</th>\n",
       "      <td>0.050616</td>\n",
       "      <td>0.983429</td>\n",
       "      <td>2.405367</td>\n",
       "      <td>0.685</td>\n",
       "    </tr>\n",
       "    <tr>\n",
       "      <th>12</th>\n",
       "      <td>0.049794</td>\n",
       "      <td>0.984143</td>\n",
       "      <td>2.302638</td>\n",
       "      <td>0.680</td>\n",
       "    </tr>\n",
       "    <tr>\n",
       "      <th>2</th>\n",
       "      <td>0.041582</td>\n",
       "      <td>0.985429</td>\n",
       "      <td>1.911360</td>\n",
       "      <td>0.680</td>\n",
       "    </tr>\n",
       "    <tr>\n",
       "      <th>4</th>\n",
       "      <td>0.044672</td>\n",
       "      <td>0.985000</td>\n",
       "      <td>1.909885</td>\n",
       "      <td>0.675</td>\n",
       "    </tr>\n",
       "    <tr>\n",
       "      <th>16</th>\n",
       "      <td>0.051749</td>\n",
       "      <td>0.984286</td>\n",
       "      <td>2.068586</td>\n",
       "      <td>0.675</td>\n",
       "    </tr>\n",
       "    <tr>\n",
       "      <th>21</th>\n",
       "      <td>0.053337</td>\n",
       "      <td>0.983286</td>\n",
       "      <td>2.363733</td>\n",
       "      <td>0.670</td>\n",
       "    </tr>\n",
       "    <tr>\n",
       "      <th>5</th>\n",
       "      <td>0.043948</td>\n",
       "      <td>0.985286</td>\n",
       "      <td>2.468251</td>\n",
       "      <td>0.665</td>\n",
       "    </tr>\n",
       "    <tr>\n",
       "      <th>20</th>\n",
       "      <td>0.056002</td>\n",
       "      <td>0.983571</td>\n",
       "      <td>2.849028</td>\n",
       "      <td>0.665</td>\n",
       "    </tr>\n",
       "    <tr>\n",
       "      <th>3</th>\n",
       "      <td>0.049601</td>\n",
       "      <td>0.984000</td>\n",
       "      <td>1.798851</td>\n",
       "      <td>0.660</td>\n",
       "    </tr>\n",
       "    <tr>\n",
       "      <th>11</th>\n",
       "      <td>0.047483</td>\n",
       "      <td>0.985143</td>\n",
       "      <td>2.188052</td>\n",
       "      <td>0.655</td>\n",
       "    </tr>\n",
       "    <tr>\n",
       "      <th>15</th>\n",
       "      <td>0.043049</td>\n",
       "      <td>0.986429</td>\n",
       "      <td>2.515149</td>\n",
       "      <td>0.655</td>\n",
       "    </tr>\n",
       "    <tr>\n",
       "      <th>7</th>\n",
       "      <td>0.049441</td>\n",
       "      <td>0.984000</td>\n",
       "      <td>2.231121</td>\n",
       "      <td>0.650</td>\n",
       "    </tr>\n",
       "    <tr>\n",
       "      <th>9</th>\n",
       "      <td>0.042547</td>\n",
       "      <td>0.984143</td>\n",
       "      <td>2.152589</td>\n",
       "      <td>0.650</td>\n",
       "    </tr>\n",
       "    <tr>\n",
       "      <th>24</th>\n",
       "      <td>0.051042</td>\n",
       "      <td>0.984429</td>\n",
       "      <td>3.031577</td>\n",
       "      <td>0.640</td>\n",
       "    </tr>\n",
       "    <tr>\n",
       "      <th>14</th>\n",
       "      <td>0.044520</td>\n",
       "      <td>0.984286</td>\n",
       "      <td>3.105449</td>\n",
       "      <td>0.640</td>\n",
       "    </tr>\n",
       "    <tr>\n",
       "      <th>1</th>\n",
       "      <td>0.042051</td>\n",
       "      <td>0.985429</td>\n",
       "      <td>1.757262</td>\n",
       "      <td>0.635</td>\n",
       "    </tr>\n",
       "    <tr>\n",
       "      <th>8</th>\n",
       "      <td>0.046081</td>\n",
       "      <td>0.985000</td>\n",
       "      <td>2.221340</td>\n",
       "      <td>0.635</td>\n",
       "    </tr>\n",
       "    <tr>\n",
       "      <th>23</th>\n",
       "      <td>0.049093</td>\n",
       "      <td>0.984429</td>\n",
       "      <td>3.177690</td>\n",
       "      <td>0.635</td>\n",
       "    </tr>\n",
       "    <tr>\n",
       "      <th>13</th>\n",
       "      <td>0.050174</td>\n",
       "      <td>0.983429</td>\n",
       "      <td>3.184056</td>\n",
       "      <td>0.595</td>\n",
       "    </tr>\n",
       "    <tr>\n",
       "      <th>0</th>\n",
       "      <td>0.042865</td>\n",
       "      <td>0.985571</td>\n",
       "      <td>2.586938</td>\n",
       "      <td>0.565</td>\n",
       "    </tr>\n",
       "    <tr>\n",
       "      <th>18</th>\n",
       "      <td>0.058473</td>\n",
       "      <td>0.983857</td>\n",
       "      <td>7.326762</td>\n",
       "      <td>0.515</td>\n",
       "    </tr>\n",
       "  </tbody>\n",
       "</table>\n",
       "</div>"
      ],
      "text/plain": [
       "        loss       acc  val_loss  val_acc\n",
       "6   0.045296  0.985000  1.901084    0.710\n",
       "10  0.045137  0.985571  1.991768    0.710\n",
       "17  0.052152  0.983714  2.211473    0.705\n",
       "22  0.051586  0.983857  2.257645    0.690\n",
       "19  0.050616  0.983429  2.405367    0.685\n",
       "12  0.049794  0.984143  2.302638    0.680\n",
       "2   0.041582  0.985429  1.911360    0.680\n",
       "4   0.044672  0.985000  1.909885    0.675\n",
       "16  0.051749  0.984286  2.068586    0.675\n",
       "21  0.053337  0.983286  2.363733    0.670\n",
       "5   0.043948  0.985286  2.468251    0.665\n",
       "20  0.056002  0.983571  2.849028    0.665\n",
       "3   0.049601  0.984000  1.798851    0.660\n",
       "11  0.047483  0.985143  2.188052    0.655\n",
       "15  0.043049  0.986429  2.515149    0.655\n",
       "7   0.049441  0.984000  2.231121    0.650\n",
       "9   0.042547  0.984143  2.152589    0.650\n",
       "24  0.051042  0.984429  3.031577    0.640\n",
       "14  0.044520  0.984286  3.105449    0.640\n",
       "1   0.042051  0.985429  1.757262    0.635\n",
       "8   0.046081  0.985000  2.221340    0.635\n",
       "23  0.049093  0.984429  3.177690    0.635\n",
       "13  0.050174  0.983429  3.184056    0.595\n",
       "0   0.042865  0.985571  2.586938    0.565\n",
       "18  0.058473  0.983857  7.326762    0.515"
      ]
     },
     "execution_count": 126,
     "metadata": {},
     "output_type": "execute_result"
    }
   ],
   "source": [
    "pd.DataFrame(history.history).sort_values(['val_acc'],ascending=False)"
   ]
  },
  {
   "cell_type": "code",
   "execution_count": 127,
   "id": "5d5381c8",
   "metadata": {
    "scrolled": true
   },
   "outputs": [
    {
     "data": {
      "image/png": "[encoded data removed]",
      "text/plain": [
       "<Figure size 720x360 with 2 Axes>"
      ]
     },
     "metadata": {
      "needs_background": "light"
     },
     "output_type": "display_data"
    }
   ],
   "source": [
    "show_history(history.history,interpolate=True)"
   ]
  },
  {
   "cell_type": "markdown",
   "id": "aa44b2de",
   "metadata": {},
   "source": [
    "The highest validation accuracy for this network was 0.710. Based on the plots, the model appears to have been overfitted as the training data has very high accuracy compared to the validation data."
   ]
  },
  {
   "cell_type": "markdown",
   "id": "d85663b4",
   "metadata": {},
   "source": [
    "# 2B"
   ]
  },
  {
   "cell_type": "code",
   "execution_count": 131,
   "id": "6757d7c5",
   "metadata": {},
   "outputs": [],
   "source": [
    "GloVeFil='/Users/jyoon/Desktop/glove.twitter.27B.100d.txt' # vector file\n",
    "emIndx=dict()\n",
    "with open(GloVeFil) as inFile:\n",
    "    emFil=inFile.readlines()\n",
    "cnt = 0\n",
    "for line in emFil: # reading line by line\n",
    "    vals = line.split()\n",
    "    word = vals[0] # word is first value in each line\n",
    "    coefs = np.asarray(vals[1:],dtype='float32') # rest of line read into \n",
    "    #nparray\n",
    "    emIndx[word]=coefs"
   ]
  },
  {
   "cell_type": "code",
   "execution_count": 132,
   "id": "20ad5978",
   "metadata": {},
   "outputs": [
    {
     "name": "stdout",
     "output_type": "stream",
     "text": [
      "number of vectors 1193515\n"
     ]
    }
   ],
   "source": [
    "print(f'number of vectors {len(emIndx)}')"
   ]
  },
  {
   "cell_type": "code",
   "execution_count": 134,
   "id": "f54b4fc6",
   "metadata": {},
   "outputs": [],
   "source": [
    "maxWords=10000\n",
    "emDim=100\n",
    "emMat=np.zeros((maxWords,emDim)) # start with all zeros\n",
    "for word, i in wordIndx.items():\n",
    "    if i < maxWords:\n",
    "        emVec = emIndx.get(word) # default is None when word is not in the \n",
    "        #index\n",
    "        if emVec is not None:\n",
    "            emMat[i]=emVec"
   ]
  },
  {
   "cell_type": "markdown",
   "id": "0bdae878",
   "metadata": {},
   "source": [
    "The matrix was created here for the pre-trained word embeddings. "
   ]
  },
  {
   "cell_type": "code",
   "execution_count": 135,
   "id": "926340eb",
   "metadata": {},
   "outputs": [
    {
     "data": {
      "text/plain": [
       "numpy.ndarray"
      ]
     },
     "execution_count": 135,
     "metadata": {},
     "output_type": "execute_result"
    },
    {
     "data": {
      "text/plain": [
       "(10000, 100)"
      ]
     },
     "execution_count": 135,
     "metadata": {},
     "output_type": "execute_result"
    }
   ],
   "source": [
    "type(emMat)\n",
    "emMat.shape"
   ]
  },
  {
   "cell_type": "code",
   "execution_count": 137,
   "id": "1024280c",
   "metadata": {},
   "outputs": [
    {
     "name": "stdout",
     "output_type": "stream",
     "text": [
      "Model: \"sequential_8\"\n",
      "_________________________________________________________________\n",
      " Layer (type)                Output Shape              Param #   \n",
      "=================================================================\n",
      " embedding_6 (Embedding)     (None, 80, 100)           1000000   \n",
      "                                                                 \n",
      " flatten_9 (Flatten)         (None, 8000)              0         \n",
      "                                                                 \n",
      " dense_12 (Dense)            (None, 50)                400050    \n",
      "                                                                 \n",
      " dense_13 (Dense)            (None, 1)                 51        \n",
      "                                                                 \n",
      "=================================================================\n",
      "Total params: 1,400,101\n",
      "Trainable params: 1,400,101\n",
      "Non-trainable params: 0\n",
      "_________________________________________________________________\n"
     ]
    }
   ],
   "source": [
    "model2 = tf.keras.Sequential()\n",
    "model2.add(layers.Embedding(maxWords,emDim,input_length=maxLen))\n",
    "model2.add(layers.Flatten())\n",
    "model2.add(layers.Dense(50,activation='relu'))\n",
    "model2.add(layers.Dense(1,activation='sigmoid'))\n",
    "model2.summary()"
   ]
  },
  {
   "cell_type": "code",
   "execution_count": 138,
   "id": "6b6f9483",
   "metadata": {},
   "outputs": [],
   "source": [
    "model2.layers[0].set_weights([emMat])\n",
    "model2.layers[0].trainable=False"
   ]
  },
  {
   "cell_type": "code",
   "execution_count": 139,
   "id": "59fd0b66",
   "metadata": {},
   "outputs": [],
   "source": [
    "model2.compile(\n",
    "optimizer='rmsprop',\n",
    "loss='binary_crossentropy',\n",
    "metrics=['acc'],\n",
    ")"
   ]
  },
  {
   "cell_type": "code",
   "execution_count": 140,
   "id": "7dc18cba",
   "metadata": {},
   "outputs": [],
   "source": [
    "history2=model2.fit(XTrain, yTrain,\n",
    "epochs=25,\n",
    "batch_size=32,\n",
    "validation_data=(XVal,yVal),\n",
    "verbose=0)"
   ]
  },
  {
   "cell_type": "markdown",
   "id": "c5418529",
   "metadata": {},
   "source": [
    "This RNN model was created similarly to the last RNN model except that this model used the pre trained word embeddings in the created matrix to predict disaster occurances."
   ]
  },
  {
   "cell_type": "code",
   "execution_count": 141,
   "id": "a9e6981e",
   "metadata": {},
   "outputs": [
    {
     "data": {
      "text/html": [
       "<div>\n",
       "<style scoped>\n",
       "    .dataframe tbody tr th:only-of-type {\n",
       "        vertical-align: middle;\n",
       "    }\n",
       "\n",
       "    .dataframe tbody tr th {\n",
       "        vertical-align: top;\n",
       "    }\n",
       "\n",
       "    .dataframe thead th {\n",
       "        text-align: right;\n",
       "    }\n",
       "</style>\n",
       "<table border=\"1\" class=\"dataframe\">\n",
       "  <thead>\n",
       "    <tr style=\"text-align: right;\">\n",
       "      <th></th>\n",
       "      <th>loss</th>\n",
       "      <th>acc</th>\n",
       "      <th>val_loss</th>\n",
       "      <th>val_acc</th>\n",
       "    </tr>\n",
       "  </thead>\n",
       "  <tbody>\n",
       "    <tr>\n",
       "      <th>2</th>\n",
       "      <td>0.311069</td>\n",
       "      <td>0.871714</td>\n",
       "      <td>0.456722</td>\n",
       "      <td>0.815</td>\n",
       "    </tr>\n",
       "    <tr>\n",
       "      <th>1</th>\n",
       "      <td>0.382689</td>\n",
       "      <td>0.831857</td>\n",
       "      <td>0.467351</td>\n",
       "      <td>0.810</td>\n",
       "    </tr>\n",
       "    <tr>\n",
       "      <th>0</th>\n",
       "      <td>0.494415</td>\n",
       "      <td>0.770571</td>\n",
       "      <td>0.457979</td>\n",
       "      <td>0.800</td>\n",
       "    </tr>\n",
       "    <tr>\n",
       "      <th>10</th>\n",
       "      <td>0.078712</td>\n",
       "      <td>0.977143</td>\n",
       "      <td>0.810569</td>\n",
       "      <td>0.800</td>\n",
       "    </tr>\n",
       "    <tr>\n",
       "      <th>20</th>\n",
       "      <td>0.064747</td>\n",
       "      <td>0.980286</td>\n",
       "      <td>0.957772</td>\n",
       "      <td>0.795</td>\n",
       "    </tr>\n",
       "    <tr>\n",
       "      <th>7</th>\n",
       "      <td>0.102316</td>\n",
       "      <td>0.970429</td>\n",
       "      <td>0.686909</td>\n",
       "      <td>0.790</td>\n",
       "    </tr>\n",
       "    <tr>\n",
       "      <th>15</th>\n",
       "      <td>0.066352</td>\n",
       "      <td>0.979714</td>\n",
       "      <td>0.911714</td>\n",
       "      <td>0.785</td>\n",
       "    </tr>\n",
       "    <tr>\n",
       "      <th>23</th>\n",
       "      <td>0.060486</td>\n",
       "      <td>0.981000</td>\n",
       "      <td>1.018119</td>\n",
       "      <td>0.780</td>\n",
       "    </tr>\n",
       "    <tr>\n",
       "      <th>6</th>\n",
       "      <td>0.120962</td>\n",
       "      <td>0.965286</td>\n",
       "      <td>0.635013</td>\n",
       "      <td>0.780</td>\n",
       "    </tr>\n",
       "    <tr>\n",
       "      <th>8</th>\n",
       "      <td>0.096759</td>\n",
       "      <td>0.973286</td>\n",
       "      <td>0.719370</td>\n",
       "      <td>0.780</td>\n",
       "    </tr>\n",
       "    <tr>\n",
       "      <th>19</th>\n",
       "      <td>0.062139</td>\n",
       "      <td>0.979857</td>\n",
       "      <td>0.996829</td>\n",
       "      <td>0.780</td>\n",
       "    </tr>\n",
       "    <tr>\n",
       "      <th>17</th>\n",
       "      <td>0.066580</td>\n",
       "      <td>0.980000</td>\n",
       "      <td>1.011993</td>\n",
       "      <td>0.780</td>\n",
       "    </tr>\n",
       "    <tr>\n",
       "      <th>16</th>\n",
       "      <td>0.067141</td>\n",
       "      <td>0.979571</td>\n",
       "      <td>1.029184</td>\n",
       "      <td>0.775</td>\n",
       "    </tr>\n",
       "    <tr>\n",
       "      <th>3</th>\n",
       "      <td>0.246252</td>\n",
       "      <td>0.904857</td>\n",
       "      <td>0.508233</td>\n",
       "      <td>0.775</td>\n",
       "    </tr>\n",
       "    <tr>\n",
       "      <th>18</th>\n",
       "      <td>0.065792</td>\n",
       "      <td>0.978429</td>\n",
       "      <td>0.935406</td>\n",
       "      <td>0.775</td>\n",
       "    </tr>\n",
       "    <tr>\n",
       "      <th>13</th>\n",
       "      <td>0.074056</td>\n",
       "      <td>0.978143</td>\n",
       "      <td>0.855256</td>\n",
       "      <td>0.775</td>\n",
       "    </tr>\n",
       "    <tr>\n",
       "      <th>24</th>\n",
       "      <td>0.057030</td>\n",
       "      <td>0.981571</td>\n",
       "      <td>1.031196</td>\n",
       "      <td>0.770</td>\n",
       "    </tr>\n",
       "    <tr>\n",
       "      <th>11</th>\n",
       "      <td>0.076873</td>\n",
       "      <td>0.978286</td>\n",
       "      <td>0.815604</td>\n",
       "      <td>0.770</td>\n",
       "    </tr>\n",
       "    <tr>\n",
       "      <th>4</th>\n",
       "      <td>0.191563</td>\n",
       "      <td>0.931714</td>\n",
       "      <td>0.577460</td>\n",
       "      <td>0.770</td>\n",
       "    </tr>\n",
       "    <tr>\n",
       "      <th>14</th>\n",
       "      <td>0.068206</td>\n",
       "      <td>0.979286</td>\n",
       "      <td>0.869910</td>\n",
       "      <td>0.765</td>\n",
       "    </tr>\n",
       "    <tr>\n",
       "      <th>5</th>\n",
       "      <td>0.154529</td>\n",
       "      <td>0.949143</td>\n",
       "      <td>0.576355</td>\n",
       "      <td>0.765</td>\n",
       "    </tr>\n",
       "    <tr>\n",
       "      <th>22</th>\n",
       "      <td>0.062036</td>\n",
       "      <td>0.980714</td>\n",
       "      <td>1.066658</td>\n",
       "      <td>0.765</td>\n",
       "    </tr>\n",
       "    <tr>\n",
       "      <th>12</th>\n",
       "      <td>0.071947</td>\n",
       "      <td>0.978714</td>\n",
       "      <td>0.926717</td>\n",
       "      <td>0.765</td>\n",
       "    </tr>\n",
       "    <tr>\n",
       "      <th>9</th>\n",
       "      <td>0.088008</td>\n",
       "      <td>0.974857</td>\n",
       "      <td>0.733921</td>\n",
       "      <td>0.760</td>\n",
       "    </tr>\n",
       "    <tr>\n",
       "      <th>21</th>\n",
       "      <td>0.060430</td>\n",
       "      <td>0.982143</td>\n",
       "      <td>1.079127</td>\n",
       "      <td>0.760</td>\n",
       "    </tr>\n",
       "  </tbody>\n",
       "</table>\n",
       "</div>"
      ],
      "text/plain": [
       "        loss       acc  val_loss  val_acc\n",
       "2   0.311069  0.871714  0.456722    0.815\n",
       "1   0.382689  0.831857  0.467351    0.810\n",
       "0   0.494415  0.770571  0.457979    0.800\n",
       "10  0.078712  0.977143  0.810569    0.800\n",
       "20  0.064747  0.980286  0.957772    0.795\n",
       "7   0.102316  0.970429  0.686909    0.790\n",
       "15  0.066352  0.979714  0.911714    0.785\n",
       "23  0.060486  0.981000  1.018119    0.780\n",
       "6   0.120962  0.965286  0.635013    0.780\n",
       "8   0.096759  0.973286  0.719370    0.780\n",
       "19  0.062139  0.979857  0.996829    0.780\n",
       "17  0.066580  0.980000  1.011993    0.780\n",
       "16  0.067141  0.979571  1.029184    0.775\n",
       "3   0.246252  0.904857  0.508233    0.775\n",
       "18  0.065792  0.978429  0.935406    0.775\n",
       "13  0.074056  0.978143  0.855256    0.775\n",
       "24  0.057030  0.981571  1.031196    0.770\n",
       "11  0.076873  0.978286  0.815604    0.770\n",
       "4   0.191563  0.931714  0.577460    0.770\n",
       "14  0.068206  0.979286  0.869910    0.765\n",
       "5   0.154529  0.949143  0.576355    0.765\n",
       "22  0.062036  0.980714  1.066658    0.765\n",
       "12  0.071947  0.978714  0.926717    0.765\n",
       "9   0.088008  0.974857  0.733921    0.760\n",
       "21  0.060430  0.982143  1.079127    0.760"
      ]
     },
     "execution_count": 141,
     "metadata": {},
     "output_type": "execute_result"
    }
   ],
   "source": [
    "pd.DataFrame(history2.history).sort_values(['val_acc'],ascending=False)"
   ]
  },
  {
   "cell_type": "code",
   "execution_count": 143,
   "id": "5c47c565",
   "metadata": {
    "scrolled": true
   },
   "outputs": [
    {
     "data": {
      "image/png": "[encoded data removed]",
      "text/plain": [
       "<Figure size 720x360 with 2 Axes>"
      ]
     },
     "metadata": {
      "needs_background": "light"
     },
     "output_type": "display_data"
    }
   ],
   "source": [
    "show_history(history2.history,interpolate=True)"
   ]
  },
  {
   "cell_type": "markdown",
   "id": "171eff42",
   "metadata": {},
   "source": [
    "The highest validation accuracy for this network was 0.815. This model appears to be more accurate and more fit compared to the other RNN model so it will be used for submission."
   ]
  },
  {
   "cell_type": "code",
   "execution_count": 185,
   "id": "d7f93ae2",
   "metadata": {},
   "outputs": [],
   "source": [
    "tokenizer = Tokenizer(num_words=maxWords) \n",
    "tokenizer.fit_on_texts(test_disaster[\"text\"]) \n",
    "sequences2 = tokenizer.texts_to_sequences(test_disaster[\"text\"])\n",
    "paddedSeqs2 = pad_sequences(sequences2,maxLen)\n",
    "predy2 =model2.predict(paddedSeqs2)\n",
    "predy2=np.round(predy2).astype(int).reshape(len(predy2))"
   ]
  },
  {
   "cell_type": "code",
   "execution_count": 186,
   "id": "c328f1b6",
   "metadata": {},
   "outputs": [],
   "source": [
    "submission = pd.DataFrame({'id':pd.Series((test_disaster['id'])),\n",
    "                                   'target':pd.Series(predy2)})\n",
    "submission.to_csv(\"Submission_Disaster.csv\", index=False)"
   ]
  },
  {
   "cell_type": "markdown",
   "id": "48502270",
   "metadata": {},
   "source": [
    "The test data was input into the network and prepared for submission."
   ]
  }
 ],
 "metadata": {
  "kernelspec": {
   "display_name": "Python 3 (ipykernel)",
   "language": "python",
   "name": "python3"
  },
  "language_info": {
   "codemirror_mode": {
    "name": "ipython",
    "version": 3
   },
   "file_extension": ".py",
   "mimetype": "text/x-python",
   "name": "python",
   "nbconvert_exporter": "python",
   "pygments_lexer": "ipython3",
   "version": "3.9.7"
  }
 },
 "nbformat": 4,
 "nbformat_minor": 5
}
