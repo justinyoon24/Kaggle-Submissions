{
 "cells": [
  {
   "cell_type": "code",
   "execution_count": 7,
   "metadata": {},
   "outputs": [],
   "source": [
    "import os\n",
    "os.getcwd()\n",
    "from IPython.display import HTML\n",
    "from IPython.core.interactiveshell import InteractiveShell\n",
    "InteractiveShell.ast_node_interactivity = \"all\""
   ]
  },
  {
   "cell_type": "markdown",
   "metadata": {},
   "source": [
    "# Assignment 2 Part 1"
   ]
  },
  {
   "cell_type": "code",
   "execution_count": 6,
   "metadata": {},
   "outputs": [],
   "source": [
    "import os\n",
    "import numpy as np\n",
    "import pandas as pd\n",
    "import math\n",
    "import matplotlib.pyplot as plt\n",
    "import seaborn as sns\n",
    "import scikitplot as skplt\n",
    "from sklearn import preprocessing\n",
    "from sklearn.compose import ColumnTransformer\n",
    "from sklearn.model_selection import train_test_split\n",
    "from sklearn.model_selection import KFold\n",
    "from sklearn import metrics\n",
    "from sklearn.linear_model import Ridge\n",
    "from sklearn.linear_model import Lasso\n",
    "from sklearn.linear_model import ElasticNet\n",
    "from sklearn.preprocessing import StandardScaler\n",
    "from sklearn.model_selection import GridSearchCV\n",
    "from sklearn.pipeline import Pipeline, make_pipeline\n",
    "from sklearn.linear_model import LogisticRegression\n",
    "from sklearn.discriminant_analysis import LinearDiscriminantAnalysis as LDA\n",
    "from sklearn.neighbors import KNeighborsClassifier as KNN\n",
    "from sklearn import datasets\n",
    "%matplotlib inline"
   ]
  },
  {
   "cell_type": "markdown",
   "metadata": {},
   "source": [
    "# 1.1"
   ]
  },
  {
   "cell_type": "code",
   "execution_count": 9,
   "metadata": {},
   "outputs": [],
   "source": [
    "trainDat = pd.read_csv('train.csv')\n",
    "testDat =  pd.read_csv('test.csv')"
   ]
  },
  {
   "cell_type": "code",
   "execution_count": 10,
   "metadata": {},
   "outputs": [
    {
     "data": {
      "text/plain": [
       "(1460, 81)"
      ]
     },
     "execution_count": 10,
     "metadata": {},
     "output_type": "execute_result"
    },
    {
     "data": {
      "text/plain": [
       "(1459, 80)"
      ]
     },
     "execution_count": 10,
     "metadata": {},
     "output_type": "execute_result"
    }
   ],
   "source": [
    "trainDat.shape\n",
    "testDat.shape"
   ]
  },
  {
   "cell_type": "code",
   "execution_count": 11,
   "metadata": {},
   "outputs": [
    {
     "data": {
      "text/plain": [
       "object     43\n",
       "int64      35\n",
       "float64     3\n",
       "dtype: int64"
      ]
     },
     "execution_count": 11,
     "metadata": {},
     "output_type": "execute_result"
    }
   ],
   "source": [
    "trainDat.dtypes.value_counts()"
   ]
  },
  {
   "cell_type": "markdown",
   "metadata": {},
   "source": [
    "The EDA and data cleaning are being continued here for all the features. "
   ]
  },
  {
   "cell_type": "code",
   "execution_count": 13,
   "metadata": {},
   "outputs": [],
   "source": [
    "train_id = trainDat['Id']\n",
    "test_id = testDat['Id']\n",
    "del trainDat['Id']\n",
    "del testDat['Id']"
   ]
  },
  {
   "cell_type": "markdown",
   "metadata": {},
   "source": [
    "The \"Id\" column was deleted from the dataframes because they serve no use in the regression models."
   ]
  },
  {
   "cell_type": "code",
   "execution_count": 14,
   "metadata": {},
   "outputs": [
    {
     "data": {
      "text/plain": [
       "PoolQC          1453\n",
       "MiscFeature     1406\n",
       "Alley           1369\n",
       "Fence           1179\n",
       "FireplaceQu      690\n",
       "LotFrontage      259\n",
       "GarageYrBlt       81\n",
       "GarageCond        81\n",
       "GarageType        81\n",
       "GarageFinish      81\n",
       "GarageQual        81\n",
       "BsmtExposure      38\n",
       "BsmtFinType2      38\n",
       "BsmtCond          37\n",
       "BsmtQual          37\n",
       "BsmtFinType1      37\n",
       "MasVnrArea         8\n",
       "MasVnrType         8\n",
       "Electrical         1\n",
       "MSSubClass         0\n",
       "dtype: int64"
      ]
     },
     "execution_count": 14,
     "metadata": {},
     "output_type": "execute_result"
    }
   ],
   "source": [
    "trainDat.isnull().sum().sort_values(ascending=False).head(20)"
   ]
  },
  {
   "cell_type": "markdown",
   "metadata": {},
   "source": [
    "Here we get a list of all the missing values in the train dataframe."
   ]
  },
  {
   "cell_type": "code",
   "execution_count": 15,
   "metadata": {},
   "outputs": [],
   "source": [
    "trainDat['PoolQC'] = trainDat['PoolQC'].fillna('None')\n",
    "trainDat['MiscFeature'] = trainDat['MiscFeature'].fillna('None')\n",
    "trainDat['Alley'] = trainDat['Alley'].fillna('None')\n",
    "trainDat['Fence'] = trainDat['Fence'].fillna('None')\n",
    "trainDat['FireplaceQu'] = trainDat['FireplaceQu'].fillna('None')\n",
    "testDat['PoolQC'] = testDat['PoolQC'].fillna('None')\n",
    "testDat['MiscFeature'] = testDat['MiscFeature'].fillna('None')\n",
    "testDat['Alley'] = testDat['Alley'].fillna('None')\n",
    "testDat['Fence'] = testDat['Fence'].fillna('None')\n",
    "testDat['FireplaceQu'] = testDat['FireplaceQu'].fillna('None')"
   ]
  },
  {
   "cell_type": "markdown",
   "metadata": {},
   "source": [
    "The data description say that houses that have NaN for all these features means that none exist for those houses so we replaced the NaN values with 'None'."
   ]
  },
  {
   "cell_type": "code",
   "execution_count": 16,
   "metadata": {},
   "outputs": [],
   "source": [
    "trainDat['LotFrontage'].fillna(trainDat['LotFrontage'].mean(), inplace=True)\n",
    "testDat['LotFrontage'].fillna(trainDat['LotFrontage'].mean(), inplace=True)"
   ]
  },
  {
   "cell_type": "markdown",
   "metadata": {},
   "source": [
    "The missing values for 'LotFrontage' were imputed with the mean for that feature. "
   ]
  },
  {
   "cell_type": "code",
   "execution_count": 17,
   "metadata": {},
   "outputs": [],
   "source": [
    "garage_cols = [col for col in trainDat if col.startswith('Garage')]\n",
    "# For the numerical features:\n",
    "for i in trainDat[garage_cols].select_dtypes(exclude='object').columns:\n",
    "    trainDat[i] = trainDat[i].fillna(0)\n",
    "\n",
    "# For the categorical features:\n",
    "for i in trainDat[garage_cols].select_dtypes(include='object').columns:\n",
    "    trainDat[i] = trainDat[i].fillna('None')\n",
    "    \n",
    "garage_cols = [col for col in testDat if col.startswith('Garage')]\n",
    "# For the numerical features:\n",
    "for i in testDat[garage_cols].select_dtypes(exclude='object').columns:\n",
    "    testDat[i] = testDat[i].fillna(0)\n",
    "\n",
    "# For the categorical features:\n",
    "for i in testDat[garage_cols].select_dtypes(include='object').columns:\n",
    "    testDat[i] = testDat[i].fillna('None')"
   ]
  },
  {
   "cell_type": "markdown",
   "metadata": {},
   "source": [
    "The missing values were imputed for features that contain 'Garage' in their name. The value 0 replaced NaN for the numerical features and \"None\" replaced NaN for the categorical features. "
   ]
  },
  {
   "cell_type": "code",
   "execution_count": 18,
   "metadata": {},
   "outputs": [],
   "source": [
    "bsmt_cols = [col for col in trainDat if col.startswith('Bsmt')]\n",
    "\n",
    "# For the numerical features:\n",
    "for i in trainDat[bsmt_cols].select_dtypes(exclude='object').columns:\n",
    "    trainDat[i] = trainDat[i].fillna(0)\n",
    "\n",
    "# For the categorical features:\n",
    "for i in trainDat[bsmt_cols].select_dtypes(include='object').columns:\n",
    "    trainDat[i] = trainDat[i].fillna('None')\n",
    "\n",
    "bsmt_cols = [col for col in testDat if col.startswith('Bsmt')]\n",
    "\n",
    "# For the numerical features:\n",
    "for i in testDat[bsmt_cols].select_dtypes(exclude='object').columns:\n",
    "    testDat[i] = testDat[i].fillna(0)\n",
    "\n",
    "# For the categorical features:\n",
    "for i in testDat[bsmt_cols].select_dtypes(include='object').columns:\n",
    "    testDat[i] = testDat[i].fillna('None')"
   ]
  },
  {
   "cell_type": "markdown",
   "metadata": {},
   "source": [
    "The missing values were imputed for features that contain 'Bsmt' in their name. The value 0 replaced NaN for the numerical features and \"None\" replaced NaN for the categorical features."
   ]
  },
  {
   "cell_type": "code",
   "execution_count": 19,
   "metadata": {},
   "outputs": [],
   "source": [
    "mas_cols = [col for col in trainDat if col.startswith('Mas')]\n",
    "\n",
    "# For the numerical features:\n",
    "for i in trainDat[mas_cols].select_dtypes(exclude='object').columns:\n",
    "    trainDat[i] = trainDat[i].fillna(0)\n",
    "\n",
    "# For the categorical features:\n",
    "for i in trainDat[mas_cols].select_dtypes(include='object').columns:\n",
    "    trainDat[i] = trainDat[i].fillna('None')\n",
    "\n",
    "mas_cols = [col for col in testDat if col.startswith('Mas')]\n",
    "\n",
    "# For the numerical features:\n",
    "for i in testDat[mas_cols].select_dtypes(exclude='object').columns:\n",
    "    testDat[i] = testDat[i].fillna(0)\n",
    "\n",
    "# For the categorical features:\n",
    "for i in testDat[mas_cols].select_dtypes(include='object').columns:\n",
    "    testDat[i] = testDat[i].fillna('None')"
   ]
  },
  {
   "cell_type": "markdown",
   "metadata": {},
   "source": [
    "The missing values were imputed for features that contain 'Mas' in their name. The value 0 replaced NaN for the numerical features and \"None\" replaced NaN for the categorical features."
   ]
  },
  {
   "cell_type": "code",
   "execution_count": 20,
   "metadata": {},
   "outputs": [
    {
     "data": {
      "text/plain": [
       "Electrical      1\n",
       "MSZoning        0\n",
       "GarageYrBlt     0\n",
       "GarageType      0\n",
       "FireplaceQu     0\n",
       "Fireplaces      0\n",
       "Functional      0\n",
       "TotRmsAbvGrd    0\n",
       "KitchenQual     0\n",
       "KitchenAbvGr    0\n",
       "dtype: int64"
      ]
     },
     "execution_count": 20,
     "metadata": {},
     "output_type": "execute_result"
    }
   ],
   "source": [
    "trainDat.isnull().sum().sort_values(ascending=False).head(10)"
   ]
  },
  {
   "cell_type": "code",
   "execution_count": 21,
   "metadata": {},
   "outputs": [],
   "source": [
    "trainDat = trainDat.fillna(trainDat.mode().iloc[0])\n",
    "testDat = testDat.fillna(trainDat.mode().iloc[0])"
   ]
  },
  {
   "cell_type": "markdown",
   "metadata": {},
   "source": [
    "The rest of the missing NaN values were transformed to the mode of the column. "
   ]
  },
  {
   "cell_type": "markdown",
   "metadata": {},
   "source": [
    "# 1.2"
   ]
  },
  {
   "cell_type": "code",
   "execution_count": 22,
   "metadata": {},
   "outputs": [
    {
     "data": {
      "text/plain": [
       "False"
      ]
     },
     "execution_count": 22,
     "metadata": {},
     "output_type": "execute_result"
    }
   ],
   "source": [
    "testDat2 = trainDat.sample(n=100,random_state=7)\n",
    "trainDat2 = trainDat[~(trainDat.index).isin(testDat2.index)]\n",
    "any(trainDat2.index.isin(testDat2.index))"
   ]
  },
  {
   "cell_type": "markdown",
   "metadata": {},
   "source": [
    "100 random data records was set aside as the final test data set. The training data was also set up to ensure that the index matched the test data and the data didn't overlap."
   ]
  },
  {
   "cell_type": "code",
   "execution_count": 23,
   "metadata": {},
   "outputs": [],
   "source": [
    "np.random.seed(9)\n",
    "newseq=np.random.permutation(len(trainDat2))\n",
    "trainDatr=trainDat2.iloc[newseq,:]"
   ]
  },
  {
   "cell_type": "markdown",
   "metadata": {},
   "source": [
    "The training data was randomly shuffled here. "
   ]
  },
  {
   "cell_type": "code",
   "execution_count": 24,
   "metadata": {},
   "outputs": [
    {
     "name": "stdout",
     "output_type": "stream",
     "text": [
      "Number of data folds: 10\n"
     ]
    }
   ],
   "source": [
    "kf=KFold(n_splits=10)\n",
    "print(f'Number of data folds: {kf.get_n_splits()}')"
   ]
  },
  {
   "cell_type": "markdown",
   "metadata": {},
   "source": [
    "10 fold cross validation is being prepared here to accurately train and test our data."
   ]
  },
  {
   "cell_type": "code",
   "execution_count": 25,
   "metadata": {},
   "outputs": [
    {
     "data": {
      "text/plain": [
       "list"
      ]
     },
     "execution_count": 25,
     "metadata": {},
     "output_type": "execute_result"
    }
   ],
   "source": [
    "alphas=[0.001,0.01,0.1,1.0,10.0]   # The sklearn default is 1.0\n",
    "type(alphas)"
   ]
  },
  {
   "cell_type": "markdown",
   "metadata": {},
   "source": [
    "The alpha values that will be tested are put together in a list here."
   ]
  },
  {
   "cell_type": "code",
   "execution_count": 26,
   "metadata": {},
   "outputs": [
    {
     "data": {
      "text/plain": [
       "Index(['MSSubClass', 'MSZoning', 'LotFrontage', 'LotArea', 'Street', 'Alley',\n",
       "       'LotShape', 'LandContour', 'Utilities', 'LotConfig', 'LandSlope',\n",
       "       'Neighborhood', 'Condition1', 'Condition2', 'BldgType', 'HouseStyle',\n",
       "       'OverallQual', 'OverallCond', 'YearBuilt', 'YearRemodAdd', 'RoofStyle',\n",
       "       'RoofMatl', 'Exterior1st', 'Exterior2nd', 'MasVnrType', 'MasVnrArea',\n",
       "       'ExterQual', 'ExterCond', 'Foundation', 'BsmtQual', 'BsmtCond',\n",
       "       'BsmtExposure', 'BsmtFinType1', 'BsmtFinSF1', 'BsmtFinType2',\n",
       "       'BsmtFinSF2', 'BsmtUnfSF', 'TotalBsmtSF', 'Heating', 'HeatingQC',\n",
       "       'CentralAir', 'Electrical', '1stFlrSF', '2ndFlrSF', 'LowQualFinSF',\n",
       "       'GrLivArea', 'BsmtFullBath', 'BsmtHalfBath', 'FullBath', 'HalfBath',\n",
       "       'BedroomAbvGr', 'KitchenAbvGr', 'KitchenQual', 'TotRmsAbvGrd',\n",
       "       'Functional', 'Fireplaces', 'FireplaceQu', 'GarageType', 'GarageYrBlt',\n",
       "       'GarageFinish', 'GarageCars', 'GarageArea', 'GarageQual', 'GarageCond',\n",
       "       'PavedDrive', 'WoodDeckSF', 'OpenPorchSF', 'EnclosedPorch', '3SsnPorch',\n",
       "       'ScreenPorch', 'PoolArea', 'PoolQC', 'Fence', 'MiscFeature', 'MiscVal',\n",
       "       'MoSold', 'YrSold', 'SaleType', 'SaleCondition', 'SalePrice'],\n",
       "      dtype='object')"
      ]
     },
     "execution_count": 26,
     "metadata": {},
     "output_type": "execute_result"
    }
   ],
   "source": [
    "trainDatr.columns"
   ]
  },
  {
   "cell_type": "code",
   "execution_count": 27,
   "metadata": {},
   "outputs": [
    {
     "data": {
      "text/plain": [
       "ColumnTransformer(transformers=[('standardized', StandardScaler(),\n",
       "                                 [0, 2, 3, 16, 17, 18, 19, 25, 33, 35, 36, 37,\n",
       "                                  42, 43, 44, 45, 46, 47, 48, 49, 50, 51, 53,\n",
       "                                  55, 58, 60, 61, 65, 66, 67, ...]),\n",
       "                                ('oneHotter',\n",
       "                                 OneHotEncoder(handle_unknown='ignore'),\n",
       "                                 [1, 4, 5, 6, 7, 8, 9, 10, 11, 12, 13, 14, 15,\n",
       "                                  20, 21, 22, 23, 24, 26, 27, 28, 29, 30, 31,\n",
       "                                  32, 34, 38, 39, 40, 41, ...])])"
      ]
     },
     "execution_count": 27,
     "metadata": {},
     "output_type": "execute_result"
    }
   ],
   "source": [
    "ct = ColumnTransformer([('standardized',preprocessing.StandardScaler(),\n",
    "                         [0,2,3,16,17,18,19,25,33,35,36,37,42,43,44,45,46,47,48,\n",
    "                          49,50,51,53,55,58,60,61,65,66,67,68,69,70,74,75,76]),\n",
    "    ('oneHotter', preprocessing.OneHotEncoder(handle_unknown='ignore'),\n",
    "     [1,4,5,6,7,8,9,10,11,12,13,14,15,20,21,22,23,24,26,27,28,29,30,31,32,34,\n",
    "      38,39,40,41,52,54,56,57,59,62,63,64,71,72,73,77,])])\n",
    "ct"
   ]
  },
  {
   "cell_type": "markdown",
   "metadata": {},
   "source": [
    "ColumnTransformer was used to standardize(mean=0,sd=1) the numerical values and to oneHot encode the categorial values."
   ]
  },
  {
   "cell_type": "code",
   "execution_count": 28,
   "metadata": {},
   "outputs": [
    {
     "data": {
      "text/plain": [
       "(1360, 79)"
      ]
     },
     "execution_count": 28,
     "metadata": {},
     "output_type": "execute_result"
    },
    {
     "data": {
      "text/plain": [
       "(1360,)"
      ]
     },
     "execution_count": 28,
     "metadata": {},
     "output_type": "execute_result"
    }
   ],
   "source": [
    "y=trainDatr.SalePrice.to_numpy(copy=True)\n",
    "X=trainDatr.loc[:,trainDatr.columns!='SalePrice'].to_numpy(copy=True)\n",
    "X.shape   \n",
    "y.shape"
   ]
  },
  {
   "cell_type": "markdown",
   "metadata": {},
   "source": [
    "np arrays were created for training and the target variable, 'SalePrice', is established."
   ]
  },
  {
   "cell_type": "code",
   "execution_count": 29,
   "metadata": {},
   "outputs": [],
   "source": [
    "resListofDicts=[]                        # a list of results in dicts\n",
    "for alphVal in alphas:  # Outer processing loop\n",
    "    fold = 0            # fold counter\n",
    "    for trainNdx, testNdx in kf.split(X): # cv loop. should do it 10 times.\n",
    "        fold+=1\n",
    "        Xtr = ct.fit_transform(X[trainNdx])   # fit and transform X training \n",
    "        Xval = ct.transform(X[testNdx])       # transform X test fold\n",
    "        regMod=Ridge(alpha=alphVal)  # instantiate regressor\n",
    "        fitMod=regMod.fit(Xtr,y[trainNdx])           # fitted\n",
    "        predtr = fitMod.predict(Xtr)             # training pred values\n",
    "        predval = fitMod.predict(Xval)           # test pred values\n",
    "        msetr = metrics.mean_squared_error(y[trainNdx],predtr)\n",
    "        mseval = metrics.mean_squared_error(y[testNdx],predval)\n",
    "        resDict={'alpha': alphVal,'fold': fold,\n",
    "                'trainMSE':msetr,'testMSE':mseval}\n",
    "        resListofDicts.append(resDict)"
   ]
  },
  {
   "cell_type": "markdown",
   "metadata": {},
   "source": [
    "The Ridge regression is run here for the 10 fold cross validation and the results are assembled into a list of dictionaries. "
   ]
  },
  {
   "cell_type": "code",
   "execution_count": 30,
   "metadata": {},
   "outputs": [
    {
     "data": {
      "text/plain": [
       "(50, 4)"
      ]
     },
     "execution_count": 30,
     "metadata": {},
     "output_type": "execute_result"
    },
    {
     "data": {
      "text/plain": [
       "Index(['alpha', 'fold', 'trainMSE', 'testMSE'], dtype='object')"
      ]
     },
     "execution_count": 30,
     "metadata": {},
     "output_type": "execute_result"
    },
    {
     "data": {
      "text/html": [
       "<div>\n",
       "<style scoped>\n",
       "    .dataframe tbody tr th:only-of-type {\n",
       "        vertical-align: middle;\n",
       "    }\n",
       "\n",
       "    .dataframe tbody tr th {\n",
       "        vertical-align: top;\n",
       "    }\n",
       "\n",
       "    .dataframe thead tr th {\n",
       "        text-align: left;\n",
       "    }\n",
       "</style>\n",
       "<table border=\"1\" class=\"dataframe\">\n",
       "  <thead>\n",
       "    <tr>\n",
       "      <th></th>\n",
       "      <th>alpha</th>\n",
       "      <th colspan=\"2\" halign=\"left\">trainMSE</th>\n",
       "      <th colspan=\"2\" halign=\"left\">testMSE</th>\n",
       "    </tr>\n",
       "    <tr>\n",
       "      <th></th>\n",
       "      <th></th>\n",
       "      <th>mean</th>\n",
       "      <th>std</th>\n",
       "      <th>mean</th>\n",
       "      <th>std</th>\n",
       "    </tr>\n",
       "  </thead>\n",
       "  <tbody>\n",
       "    <tr>\n",
       "      <th>0</th>\n",
       "      <td>0.001</td>\n",
       "      <td>3.663671e+08</td>\n",
       "      <td>1.576119e+07</td>\n",
       "      <td>1.300527e+09</td>\n",
       "      <td>1.515524e+09</td>\n",
       "    </tr>\n",
       "    <tr>\n",
       "      <th>1</th>\n",
       "      <td>0.010</td>\n",
       "      <td>3.671285e+08</td>\n",
       "      <td>1.647525e+07</td>\n",
       "      <td>1.293137e+09</td>\n",
       "      <td>1.511595e+09</td>\n",
       "    </tr>\n",
       "    <tr>\n",
       "      <th>2</th>\n",
       "      <td>0.100</td>\n",
       "      <td>3.753139e+08</td>\n",
       "      <td>1.807724e+07</td>\n",
       "      <td>1.247803e+09</td>\n",
       "      <td>1.456417e+09</td>\n",
       "    </tr>\n",
       "    <tr>\n",
       "      <th>3</th>\n",
       "      <td>1.000</td>\n",
       "      <td>4.592717e+08</td>\n",
       "      <td>3.884862e+07</td>\n",
       "      <td>1.169771e+09</td>\n",
       "      <td>1.233969e+09</td>\n",
       "    </tr>\n",
       "    <tr>\n",
       "      <th>4</th>\n",
       "      <td>10.000</td>\n",
       "      <td>6.117212e+08</td>\n",
       "      <td>6.031270e+07</td>\n",
       "      <td>1.116225e+09</td>\n",
       "      <td>1.118892e+09</td>\n",
       "    </tr>\n",
       "  </tbody>\n",
       "</table>\n",
       "</div>"
      ],
      "text/plain": [
       "    alpha      trainMSE                     testMSE              \n",
       "                   mean           std          mean           std\n",
       "0   0.001  3.663671e+08  1.576119e+07  1.300527e+09  1.515524e+09\n",
       "1   0.010  3.671285e+08  1.647525e+07  1.293137e+09  1.511595e+09\n",
       "2   0.100  3.753139e+08  1.807724e+07  1.247803e+09  1.456417e+09\n",
       "3   1.000  4.592717e+08  3.884862e+07  1.169771e+09  1.233969e+09\n",
       "4  10.000  6.117212e+08  6.031270e+07  1.116225e+09  1.118892e+09"
      ]
     },
     "execution_count": 30,
     "metadata": {},
     "output_type": "execute_result"
    }
   ],
   "source": [
    "resultsDF=pd.DataFrame(resListofDicts)\n",
    "resultsDF.shape\n",
    "resultsDF.columns\n",
    "resultsSummaryDF=resultsDF.groupby(['alpha'],as_index=False).agg(\n",
    "                {'trainMSE':['mean','std'],'testMSE':['mean','std']})\n",
    "resultsSummaryDF"
   ]
  },
  {
   "cell_type": "markdown",
   "metadata": {},
   "source": [
    "A pandas dataframe was created using the list of dictionaries and they were aggregated to summarize the results."
   ]
  },
  {
   "cell_type": "code",
   "execution_count": 31,
   "metadata": {},
   "outputs": [
    {
     "data": {
      "text/html": [
       "<div>\n",
       "<style scoped>\n",
       "    .dataframe tbody tr th:only-of-type {\n",
       "        vertical-align: middle;\n",
       "    }\n",
       "\n",
       "    .dataframe tbody tr th {\n",
       "        vertical-align: top;\n",
       "    }\n",
       "\n",
       "    .dataframe thead th {\n",
       "        text-align: right;\n",
       "    }\n",
       "</style>\n",
       "<table border=\"1\" class=\"dataframe\">\n",
       "  <thead>\n",
       "    <tr style=\"text-align: right;\">\n",
       "      <th></th>\n",
       "      <th>alpha</th>\n",
       "      <th>train_mean_MSE</th>\n",
       "      <th>train_std_MSE</th>\n",
       "      <th>test_mean_MSE</th>\n",
       "      <th>test_std_MSE</th>\n",
       "    </tr>\n",
       "  </thead>\n",
       "  <tbody>\n",
       "    <tr>\n",
       "      <th>4</th>\n",
       "      <td>10.000</td>\n",
       "      <td>6.117212e+08</td>\n",
       "      <td>6.031270e+07</td>\n",
       "      <td>1.116225e+09</td>\n",
       "      <td>1.118892e+09</td>\n",
       "    </tr>\n",
       "    <tr>\n",
       "      <th>3</th>\n",
       "      <td>1.000</td>\n",
       "      <td>4.592717e+08</td>\n",
       "      <td>3.884862e+07</td>\n",
       "      <td>1.169771e+09</td>\n",
       "      <td>1.233969e+09</td>\n",
       "    </tr>\n",
       "    <tr>\n",
       "      <th>2</th>\n",
       "      <td>0.100</td>\n",
       "      <td>3.753139e+08</td>\n",
       "      <td>1.807724e+07</td>\n",
       "      <td>1.247803e+09</td>\n",
       "      <td>1.456417e+09</td>\n",
       "    </tr>\n",
       "    <tr>\n",
       "      <th>1</th>\n",
       "      <td>0.010</td>\n",
       "      <td>3.671285e+08</td>\n",
       "      <td>1.647525e+07</td>\n",
       "      <td>1.293137e+09</td>\n",
       "      <td>1.511595e+09</td>\n",
       "    </tr>\n",
       "    <tr>\n",
       "      <th>0</th>\n",
       "      <td>0.001</td>\n",
       "      <td>3.663671e+08</td>\n",
       "      <td>1.576119e+07</td>\n",
       "      <td>1.300527e+09</td>\n",
       "      <td>1.515524e+09</td>\n",
       "    </tr>\n",
       "  </tbody>\n",
       "</table>\n",
       "</div>"
      ],
      "text/plain": [
       "    alpha  train_mean_MSE  train_std_MSE  test_mean_MSE  test_std_MSE\n",
       "4  10.000    6.117212e+08   6.031270e+07   1.116225e+09  1.118892e+09\n",
       "3   1.000    4.592717e+08   3.884862e+07   1.169771e+09  1.233969e+09\n",
       "2   0.100    3.753139e+08   1.807724e+07   1.247803e+09  1.456417e+09\n",
       "1   0.010    3.671285e+08   1.647525e+07   1.293137e+09  1.511595e+09\n",
       "0   0.001    3.663671e+08   1.576119e+07   1.300527e+09  1.515524e+09"
      ]
     },
     "execution_count": 31,
     "metadata": {},
     "output_type": "execute_result"
    }
   ],
   "source": [
    "resultsSummaryDF.columns=resultsSummaryDF.columns.droplevel(0)\n",
    "resultsSummaryDF.columns=['alpha','train_mean_MSE','train_std_MSE',\n",
    "                          'test_mean_MSE','test_std_MSE']\n",
    "resultsSummaryDF.sort_values(by='test_mean_MSE',ascending=True)"
   ]
  },
  {
   "cell_type": "markdown",
   "metadata": {},
   "source": [
    "The dataframe was cleaned up and organized from lowest test mean MSE to highest test mean MSE."
   ]
  },
  {
   "cell_type": "code",
   "execution_count": 32,
   "metadata": {},
   "outputs": [],
   "source": [
    "resListofDicts=[]                        # a list of results in dicts\n",
    "for alphVal in alphas:  # Outer processing loop\n",
    "    fold = 0            # fold counter\n",
    "    for trainNdx, testNdx in kf.split(X): # cv loop. should do it 10 times.\n",
    "        fold+=1\n",
    "        Xtr = ct.fit_transform(X[trainNdx])   # fit and transform X training \n",
    "        Xval = ct.transform(X[testNdx])       # transform X test fold\n",
    "        regMod=Lasso(alpha=alphVal, max_iter = 100000, normalize = True, \n",
    "                     tol = .01)  # instantiate regressor\n",
    "        fitMod=regMod.fit(Xtr,y[trainNdx])           # fitted\n",
    "        predtr = fitMod.predict(Xtr)             # training pred values\n",
    "        predval = fitMod.predict(Xval)           # test pred values\n",
    "        msetr = metrics.mean_squared_error(y[trainNdx],predtr)\n",
    "        mseval = metrics.mean_squared_error(y[testNdx],predval)\n",
    "        resDict={'alpha': alphVal,'fold': fold,\n",
    "                'trainMSE':msetr,'testMSE':mseval}\n",
    "        resListofDicts.append(resDict)"
   ]
  },
  {
   "cell_type": "code",
   "execution_count": 33,
   "metadata": {},
   "outputs": [
    {
     "data": {
      "text/plain": [
       "(50, 4)"
      ]
     },
     "execution_count": 33,
     "metadata": {},
     "output_type": "execute_result"
    },
    {
     "data": {
      "text/plain": [
       "Index(['alpha', 'fold', 'trainMSE', 'testMSE'], dtype='object')"
      ]
     },
     "execution_count": 33,
     "metadata": {},
     "output_type": "execute_result"
    },
    {
     "data": {
      "text/html": [
       "<div>\n",
       "<style scoped>\n",
       "    .dataframe tbody tr th:only-of-type {\n",
       "        vertical-align: middle;\n",
       "    }\n",
       "\n",
       "    .dataframe tbody tr th {\n",
       "        vertical-align: top;\n",
       "    }\n",
       "\n",
       "    .dataframe thead tr th {\n",
       "        text-align: left;\n",
       "    }\n",
       "</style>\n",
       "<table border=\"1\" class=\"dataframe\">\n",
       "  <thead>\n",
       "    <tr>\n",
       "      <th></th>\n",
       "      <th>alpha</th>\n",
       "      <th colspan=\"2\" halign=\"left\">trainMSE</th>\n",
       "      <th colspan=\"2\" halign=\"left\">testMSE</th>\n",
       "    </tr>\n",
       "    <tr>\n",
       "      <th></th>\n",
       "      <th></th>\n",
       "      <th>mean</th>\n",
       "      <th>std</th>\n",
       "      <th>mean</th>\n",
       "      <th>std</th>\n",
       "    </tr>\n",
       "  </thead>\n",
       "  <tbody>\n",
       "    <tr>\n",
       "      <th>0</th>\n",
       "      <td>0.001</td>\n",
       "      <td>3.490038e+08</td>\n",
       "      <td>1.683691e+07</td>\n",
       "      <td>1.351794e+10</td>\n",
       "      <td>3.684848e+10</td>\n",
       "    </tr>\n",
       "    <tr>\n",
       "      <th>1</th>\n",
       "      <td>0.010</td>\n",
       "      <td>3.490114e+08</td>\n",
       "      <td>1.683636e+07</td>\n",
       "      <td>1.283684e+10</td>\n",
       "      <td>3.487727e+10</td>\n",
       "    </tr>\n",
       "    <tr>\n",
       "      <th>2</th>\n",
       "      <td>0.100</td>\n",
       "      <td>3.496113e+08</td>\n",
       "      <td>1.679309e+07</td>\n",
       "      <td>8.102683e+09</td>\n",
       "      <td>2.147975e+10</td>\n",
       "    </tr>\n",
       "    <tr>\n",
       "      <th>3</th>\n",
       "      <td>1.000</td>\n",
       "      <td>3.643354e+08</td>\n",
       "      <td>1.639162e+07</td>\n",
       "      <td>1.120802e+09</td>\n",
       "      <td>1.324540e+09</td>\n",
       "    </tr>\n",
       "    <tr>\n",
       "      <th>4</th>\n",
       "      <td>10.000</td>\n",
       "      <td>4.017999e+08</td>\n",
       "      <td>1.777868e+07</td>\n",
       "      <td>1.069946e+09</td>\n",
       "      <td>1.299917e+09</td>\n",
       "    </tr>\n",
       "  </tbody>\n",
       "</table>\n",
       "</div>"
      ],
      "text/plain": [
       "    alpha      trainMSE                     testMSE              \n",
       "                   mean           std          mean           std\n",
       "0   0.001  3.490038e+08  1.683691e+07  1.351794e+10  3.684848e+10\n",
       "1   0.010  3.490114e+08  1.683636e+07  1.283684e+10  3.487727e+10\n",
       "2   0.100  3.496113e+08  1.679309e+07  8.102683e+09  2.147975e+10\n",
       "3   1.000  3.643354e+08  1.639162e+07  1.120802e+09  1.324540e+09\n",
       "4  10.000  4.017999e+08  1.777868e+07  1.069946e+09  1.299917e+09"
      ]
     },
     "execution_count": 33,
     "metadata": {},
     "output_type": "execute_result"
    }
   ],
   "source": [
    "resultsDF=pd.DataFrame(resListofDicts)\n",
    "resultsDF.shape\n",
    "resultsDF.columns\n",
    "resultsSummaryDF=resultsDF.groupby(['alpha'],as_index=False).agg(\n",
    "                {'trainMSE':['mean','std'],'testMSE':['mean','std']})\n",
    "resultsSummaryDF"
   ]
  },
  {
   "cell_type": "code",
   "execution_count": 34,
   "metadata": {},
   "outputs": [
    {
     "data": {
      "text/html": [
       "<div>\n",
       "<style scoped>\n",
       "    .dataframe tbody tr th:only-of-type {\n",
       "        vertical-align: middle;\n",
       "    }\n",
       "\n",
       "    .dataframe tbody tr th {\n",
       "        vertical-align: top;\n",
       "    }\n",
       "\n",
       "    .dataframe thead th {\n",
       "        text-align: right;\n",
       "    }\n",
       "</style>\n",
       "<table border=\"1\" class=\"dataframe\">\n",
       "  <thead>\n",
       "    <tr style=\"text-align: right;\">\n",
       "      <th></th>\n",
       "      <th>alpha</th>\n",
       "      <th>train_mean_MSE</th>\n",
       "      <th>train_std_MSE</th>\n",
       "      <th>test_mean_MSE</th>\n",
       "      <th>test_std_MSE</th>\n",
       "    </tr>\n",
       "  </thead>\n",
       "  <tbody>\n",
       "    <tr>\n",
       "      <th>4</th>\n",
       "      <td>10.000</td>\n",
       "      <td>4.017999e+08</td>\n",
       "      <td>1.777868e+07</td>\n",
       "      <td>1.069946e+09</td>\n",
       "      <td>1.299917e+09</td>\n",
       "    </tr>\n",
       "    <tr>\n",
       "      <th>3</th>\n",
       "      <td>1.000</td>\n",
       "      <td>3.643354e+08</td>\n",
       "      <td>1.639162e+07</td>\n",
       "      <td>1.120802e+09</td>\n",
       "      <td>1.324540e+09</td>\n",
       "    </tr>\n",
       "    <tr>\n",
       "      <th>2</th>\n",
       "      <td>0.100</td>\n",
       "      <td>3.496113e+08</td>\n",
       "      <td>1.679309e+07</td>\n",
       "      <td>8.102683e+09</td>\n",
       "      <td>2.147975e+10</td>\n",
       "    </tr>\n",
       "    <tr>\n",
       "      <th>1</th>\n",
       "      <td>0.010</td>\n",
       "      <td>3.490114e+08</td>\n",
       "      <td>1.683636e+07</td>\n",
       "      <td>1.283684e+10</td>\n",
       "      <td>3.487727e+10</td>\n",
       "    </tr>\n",
       "    <tr>\n",
       "      <th>0</th>\n",
       "      <td>0.001</td>\n",
       "      <td>3.490038e+08</td>\n",
       "      <td>1.683691e+07</td>\n",
       "      <td>1.351794e+10</td>\n",
       "      <td>3.684848e+10</td>\n",
       "    </tr>\n",
       "  </tbody>\n",
       "</table>\n",
       "</div>"
      ],
      "text/plain": [
       "    alpha  train_mean_MSE  train_std_MSE  test_mean_MSE  test_std_MSE\n",
       "4  10.000    4.017999e+08   1.777868e+07   1.069946e+09  1.299917e+09\n",
       "3   1.000    3.643354e+08   1.639162e+07   1.120802e+09  1.324540e+09\n",
       "2   0.100    3.496113e+08   1.679309e+07   8.102683e+09  2.147975e+10\n",
       "1   0.010    3.490114e+08   1.683636e+07   1.283684e+10  3.487727e+10\n",
       "0   0.001    3.490038e+08   1.683691e+07   1.351794e+10  3.684848e+10"
      ]
     },
     "execution_count": 34,
     "metadata": {},
     "output_type": "execute_result"
    }
   ],
   "source": [
    "resultsSummaryDF.columns=resultsSummaryDF.columns.droplevel(0)\n",
    "resultsSummaryDF.columns=['alpha','train_mean_MSE','train_std_MSE',\n",
    "                          'test_mean_MSE','test_std_MSE']\n",
    "resultsSummaryDF.sort_values(by='test_mean_MSE',ascending=True)"
   ]
  },
  {
   "cell_type": "markdown",
   "metadata": {},
   "source": [
    "The same cleaning and organization was applied to the dataframe for Lasso regression."
   ]
  },
  {
   "cell_type": "code",
   "execution_count": 35,
   "metadata": {},
   "outputs": [],
   "source": [
    "alphas=[0.0001,0.001,0.01,0.1,1]\n",
    "resListofDicts=[]                        # a list of results in dicts\n",
    "for alphVal in alphas:  # Outer processing loop\n",
    "    fold = 0            # fold counter\n",
    "    for trainNdx, testNdx in kf.split(X): # cv loop. should do it 10 times.\n",
    "        fold+=1\n",
    "        Xtr = ct.fit_transform(X[trainNdx])   # fit and transform X training \n",
    "        Xval = ct.transform(X[testNdx])       # transform X test fold\n",
    "        regMod=ElasticNet(alpha=alphVal, max_iter = 100000, normalize = True, \n",
    "                          tol = .001)  # instantiate regressor\n",
    "        fitMod=regMod.fit(Xtr,y[trainNdx])           # fitted\n",
    "        predtr = fitMod.predict(Xtr)             # training pred values\n",
    "        predval = fitMod.predict(Xval)           # test pred values\n",
    "        msetr = metrics.mean_squared_error(y[trainNdx],predtr)\n",
    "        mseval = metrics.mean_squared_error(y[testNdx],predval)\n",
    "        resDict={'alpha': alphVal,'fold': fold,\n",
    "                'trainMSE':msetr,'testMSE':mseval}\n",
    "        resListofDicts.append(resDict)"
   ]
  },
  {
   "cell_type": "code",
   "execution_count": 36,
   "metadata": {
    "scrolled": true
   },
   "outputs": [
    {
     "data": {
      "text/plain": [
       "(50, 4)"
      ]
     },
     "execution_count": 36,
     "metadata": {},
     "output_type": "execute_result"
    },
    {
     "data": {
      "text/plain": [
       "Index(['alpha', 'fold', 'trainMSE', 'testMSE'], dtype='object')"
      ]
     },
     "execution_count": 36,
     "metadata": {},
     "output_type": "execute_result"
    },
    {
     "data": {
      "text/html": [
       "<div>\n",
       "<style scoped>\n",
       "    .dataframe tbody tr th:only-of-type {\n",
       "        vertical-align: middle;\n",
       "    }\n",
       "\n",
       "    .dataframe tbody tr th {\n",
       "        vertical-align: top;\n",
       "    }\n",
       "\n",
       "    .dataframe thead tr th {\n",
       "        text-align: left;\n",
       "    }\n",
       "</style>\n",
       "<table border=\"1\" class=\"dataframe\">\n",
       "  <thead>\n",
       "    <tr>\n",
       "      <th></th>\n",
       "      <th>alpha</th>\n",
       "      <th colspan=\"2\" halign=\"left\">trainMSE</th>\n",
       "      <th colspan=\"2\" halign=\"left\">testMSE</th>\n",
       "    </tr>\n",
       "    <tr>\n",
       "      <th></th>\n",
       "      <th></th>\n",
       "      <th>mean</th>\n",
       "      <th>std</th>\n",
       "      <th>mean</th>\n",
       "      <th>std</th>\n",
       "    </tr>\n",
       "  </thead>\n",
       "  <tbody>\n",
       "    <tr>\n",
       "      <th>0</th>\n",
       "      <td>0.0001</td>\n",
       "      <td>3.816373e+08</td>\n",
       "      <td>1.885937e+07</td>\n",
       "      <td>1.176966e+09</td>\n",
       "      <td>1.387094e+09</td>\n",
       "    </tr>\n",
       "    <tr>\n",
       "      <th>1</th>\n",
       "      <td>0.0010</td>\n",
       "      <td>5.584319e+08</td>\n",
       "      <td>3.824281e+07</td>\n",
       "      <td>1.067660e+09</td>\n",
       "      <td>1.024728e+09</td>\n",
       "    </tr>\n",
       "    <tr>\n",
       "      <th>2</th>\n",
       "      <td>0.0100</td>\n",
       "      <td>1.512419e+09</td>\n",
       "      <td>7.790061e+07</td>\n",
       "      <td>1.665054e+09</td>\n",
       "      <td>8.913477e+08</td>\n",
       "    </tr>\n",
       "    <tr>\n",
       "      <th>3</th>\n",
       "      <td>0.1000</td>\n",
       "      <td>4.413065e+09</td>\n",
       "      <td>1.294297e+08</td>\n",
       "      <td>4.449110e+09</td>\n",
       "      <td>1.290519e+09</td>\n",
       "    </tr>\n",
       "    <tr>\n",
       "      <th>4</th>\n",
       "      <td>1.0000</td>\n",
       "      <td>6.006005e+09</td>\n",
       "      <td>1.625088e+08</td>\n",
       "      <td>6.017258e+09</td>\n",
       "      <td>1.487240e+09</td>\n",
       "    </tr>\n",
       "  </tbody>\n",
       "</table>\n",
       "</div>"
      ],
      "text/plain": [
       "    alpha      trainMSE                     testMSE              \n",
       "                   mean           std          mean           std\n",
       "0  0.0001  3.816373e+08  1.885937e+07  1.176966e+09  1.387094e+09\n",
       "1  0.0010  5.584319e+08  3.824281e+07  1.067660e+09  1.024728e+09\n",
       "2  0.0100  1.512419e+09  7.790061e+07  1.665054e+09  8.913477e+08\n",
       "3  0.1000  4.413065e+09  1.294297e+08  4.449110e+09  1.290519e+09\n",
       "4  1.0000  6.006005e+09  1.625088e+08  6.017258e+09  1.487240e+09"
      ]
     },
     "execution_count": 36,
     "metadata": {},
     "output_type": "execute_result"
    }
   ],
   "source": [
    "resultsDF=pd.DataFrame(resListofDicts)\n",
    "resultsDF.shape\n",
    "resultsDF.columns\n",
    "resultsSummaryDF=resultsDF.groupby(['alpha'],as_index=False).agg(\n",
    "                {'trainMSE':['mean','std'],'testMSE':['mean','std']})\n",
    "resultsSummaryDF"
   ]
  },
  {
   "cell_type": "code",
   "execution_count": 37,
   "metadata": {},
   "outputs": [
    {
     "data": {
      "text/html": [
       "<div>\n",
       "<style scoped>\n",
       "    .dataframe tbody tr th:only-of-type {\n",
       "        vertical-align: middle;\n",
       "    }\n",
       "\n",
       "    .dataframe tbody tr th {\n",
       "        vertical-align: top;\n",
       "    }\n",
       "\n",
       "    .dataframe thead th {\n",
       "        text-align: right;\n",
       "    }\n",
       "</style>\n",
       "<table border=\"1\" class=\"dataframe\">\n",
       "  <thead>\n",
       "    <tr style=\"text-align: right;\">\n",
       "      <th></th>\n",
       "      <th>alpha</th>\n",
       "      <th>train_mean_MSE</th>\n",
       "      <th>train_std_MSE</th>\n",
       "      <th>test_mean_MSE</th>\n",
       "      <th>test_std_MSE</th>\n",
       "    </tr>\n",
       "  </thead>\n",
       "  <tbody>\n",
       "    <tr>\n",
       "      <th>1</th>\n",
       "      <td>0.0010</td>\n",
       "      <td>5.584319e+08</td>\n",
       "      <td>3.824281e+07</td>\n",
       "      <td>1.067660e+09</td>\n",
       "      <td>1.024728e+09</td>\n",
       "    </tr>\n",
       "    <tr>\n",
       "      <th>0</th>\n",
       "      <td>0.0001</td>\n",
       "      <td>3.816373e+08</td>\n",
       "      <td>1.885937e+07</td>\n",
       "      <td>1.176966e+09</td>\n",
       "      <td>1.387094e+09</td>\n",
       "    </tr>\n",
       "    <tr>\n",
       "      <th>2</th>\n",
       "      <td>0.0100</td>\n",
       "      <td>1.512419e+09</td>\n",
       "      <td>7.790061e+07</td>\n",
       "      <td>1.665054e+09</td>\n",
       "      <td>8.913477e+08</td>\n",
       "    </tr>\n",
       "    <tr>\n",
       "      <th>3</th>\n",
       "      <td>0.1000</td>\n",
       "      <td>4.413065e+09</td>\n",
       "      <td>1.294297e+08</td>\n",
       "      <td>4.449110e+09</td>\n",
       "      <td>1.290519e+09</td>\n",
       "    </tr>\n",
       "    <tr>\n",
       "      <th>4</th>\n",
       "      <td>1.0000</td>\n",
       "      <td>6.006005e+09</td>\n",
       "      <td>1.625088e+08</td>\n",
       "      <td>6.017258e+09</td>\n",
       "      <td>1.487240e+09</td>\n",
       "    </tr>\n",
       "  </tbody>\n",
       "</table>\n",
       "</div>"
      ],
      "text/plain": [
       "    alpha  train_mean_MSE  train_std_MSE  test_mean_MSE  test_std_MSE\n",
       "1  0.0010    5.584319e+08   3.824281e+07   1.067660e+09  1.024728e+09\n",
       "0  0.0001    3.816373e+08   1.885937e+07   1.176966e+09  1.387094e+09\n",
       "2  0.0100    1.512419e+09   7.790061e+07   1.665054e+09  8.913477e+08\n",
       "3  0.1000    4.413065e+09   1.294297e+08   4.449110e+09  1.290519e+09\n",
       "4  1.0000    6.006005e+09   1.625088e+08   6.017258e+09  1.487240e+09"
      ]
     },
     "execution_count": 37,
     "metadata": {},
     "output_type": "execute_result"
    }
   ],
   "source": [
    "resultsSummaryDF.columns=resultsSummaryDF.columns.droplevel(0)\n",
    "resultsSummaryDF.columns=['alpha','train_mean_MSE','train_std_MSE',\n",
    "                          'test_mean_MSE','test_std_MSE']\n",
    "resultsSummaryDF.sort_values(by='test_mean_MSE',ascending=True)"
   ]
  },
  {
   "cell_type": "markdown",
   "metadata": {},
   "source": [
    "The same cleaning and organization was applied to the dataframe for ElasticNet regression."
   ]
  },
  {
   "cell_type": "markdown",
   "metadata": {},
   "source": [
    "Based on the results of the three regularized regression models, the ElasticNet regression model appeared to perform the best. It had the lowest average MSE at alpha=0.001 for the test data folds and the training data metrics was the closest of the three models to the test data metrics. "
   ]
  },
  {
   "cell_type": "markdown",
   "metadata": {},
   "source": [
    "# 1.3"
   ]
  },
  {
   "cell_type": "code",
   "execution_count": 38,
   "metadata": {},
   "outputs": [
    {
     "data": {
      "text/plain": [
       "(1360, 294)"
      ]
     },
     "execution_count": 38,
     "metadata": {},
     "output_type": "execute_result"
    }
   ],
   "source": [
    "Xtrans=ct.fit_transform(X)\n",
    "Xtrans.shape"
   ]
  },
  {
   "cell_type": "code",
   "execution_count": 39,
   "metadata": {},
   "outputs": [],
   "source": [
    "regMod=ElasticNet(alpha=.001, max_iter = 100000, normalize = True, tol = .001)\n",
    "fitMod=regMod.fit(Xtrans,y)\n",
    "predy=fitMod.predict(Xtrans)"
   ]
  },
  {
   "cell_type": "markdown",
   "metadata": {},
   "source": [
    "Based on the simple grid search that was performed, alpha = .001 was chosen as the best value for the regularization hyperparameter since it had the lowest average MSE for the test data folds. The low alpha value indicates that more weight is given to the L2 penalty. The model is being refitted using alpha=.001."
   ]
  },
  {
   "cell_type": "code",
   "execution_count": 40,
   "metadata": {},
   "outputs": [
    {
     "name": "stdout",
     "output_type": "stream",
     "text": [
      "R2, all training data: 0.906\n"
     ]
    }
   ],
   "source": [
    "R2=fitMod.score(Xtrans,y)\n",
    "print(f'R2, all training data: {R2.round(3)}')"
   ]
  },
  {
   "cell_type": "code",
   "execution_count": 41,
   "metadata": {},
   "outputs": [
    {
     "data": {
      "image/png": "[encoded data removed]",
      "text/plain": [
       "<Figure size 432x432 with 1 Axes>"
      ]
     },
     "metadata": {},
     "output_type": "display_data"
    }
   ],
   "source": [
    "predDF=pd.DataFrame({'SalePrice':y,'PredPrice': predy})\n",
    "\n",
    "sns.set(rc={\"figure.figsize\":(6, 6)}) #width=3, #height=4\n",
    "\n",
    "x_plot=np.linspace(50000,500000,100)\n",
    "y_plot=x_plot\n",
    "\n",
    "scatter=sns.scatterplot(data=predDF,x='PredPrice',y='SalePrice',\n",
    "                alpha=0.35).set(title=\"SalePrice: Actual vs. Predicted\")\n",
    "plt.plot(x_plot,y_plot,c='r')\n",
    "plt.show();"
   ]
  },
  {
   "cell_type": "markdown",
   "metadata": {},
   "source": [
    "The high R2 value and the scatterplot of actual vs predicted prices indicate that the ElasticNet model with alpha = 0.001 is fairly accurate."
   ]
  },
  {
   "cell_type": "code",
   "execution_count": 42,
   "metadata": {},
   "outputs": [
    {
     "name": "stdout",
     "output_type": "stream",
     "text": [
      "training MSE: 588247673.27\n",
      "test MSE: 1245011161.47\n"
     ]
    }
   ],
   "source": [
    "X2=testDat2.loc[:,testDat2.columns!='SalePrice'].to_numpy(copy=True)\n",
    "y2=testDat2.SalePrice.to_numpy(copy=True)\n",
    "Xtr = ct.fit_transform(X)   # fit and transform X training \n",
    "Xval = ct.transform(X2)       # transform X test \n",
    "regMod=ElasticNet(alpha=.001, max_iter = 100000, normalize = True, tol = .001)  # instantiate regressor\n",
    "fitMod=regMod.fit(Xtr,y)           # fitted\n",
    "predtr = fitMod.predict(Xtr)             # training pred values\n",
    "predval = fitMod.predict(Xval)           # test pred values\n",
    "msetr = metrics.mean_squared_error(y,predtr)\n",
    "mseval = metrics.mean_squared_error(y2,predval)\n",
    "print(f'training MSE: {round(msetr,2)}')\n",
    "print(f'test MSE: {round(mseval,2)}') "
   ]
  },
  {
   "cell_type": "markdown",
   "metadata": {},
   "source": [
    "The final model was tested here with the n=100 test cases that were set aside earlier."
   ]
  },
  {
   "cell_type": "markdown",
   "metadata": {},
   "source": [
    "# 1.4"
   ]
  },
  {
   "cell_type": "code",
   "execution_count": 43,
   "metadata": {},
   "outputs": [
    {
     "data": {
      "text/plain": [
       "array([111137.7588567 , 160029.51814847, 187175.7581709 , ...,\n",
       "       176203.6976292 , 116202.43042887, 222613.75327661])"
      ]
     },
     "execution_count": 43,
     "metadata": {},
     "output_type": "execute_result"
    }
   ],
   "source": [
    "Xtrans=ct.fit_transform(X)\n",
    "Xval = ct.transform(testDat)\n",
    "regMod=ElasticNet(alpha=.001, max_iter = 100000, normalize = True, tol = .001)  # instantiate regressor\n",
    "fitMod=regMod.fit(Xtrans,y) \n",
    "testDat_Pred=fitMod.predict(Xval)\n",
    "testDat_Pred"
   ]
  },
  {
   "cell_type": "code",
   "execution_count": 44,
   "metadata": {
    "scrolled": true
   },
   "outputs": [
    {
     "data": {
      "text/html": [
       "<div>\n",
       "<style scoped>\n",
       "    .dataframe tbody tr th:only-of-type {\n",
       "        vertical-align: middle;\n",
       "    }\n",
       "\n",
       "    .dataframe tbody tr th {\n",
       "        vertical-align: top;\n",
       "    }\n",
       "\n",
       "    .dataframe thead th {\n",
       "        text-align: right;\n",
       "    }\n",
       "</style>\n",
       "<table border=\"1\" class=\"dataframe\">\n",
       "  <thead>\n",
       "    <tr style=\"text-align: right;\">\n",
       "      <th></th>\n",
       "      <th>Id</th>\n",
       "      <th>SalePrice</th>\n",
       "    </tr>\n",
       "  </thead>\n",
       "  <tbody>\n",
       "    <tr>\n",
       "      <th>0</th>\n",
       "      <td>1461</td>\n",
       "      <td>111137.758857</td>\n",
       "    </tr>\n",
       "    <tr>\n",
       "      <th>1</th>\n",
       "      <td>1462</td>\n",
       "      <td>160029.518148</td>\n",
       "    </tr>\n",
       "    <tr>\n",
       "      <th>2</th>\n",
       "      <td>1463</td>\n",
       "      <td>187175.758171</td>\n",
       "    </tr>\n",
       "    <tr>\n",
       "      <th>3</th>\n",
       "      <td>1464</td>\n",
       "      <td>203075.416759</td>\n",
       "    </tr>\n",
       "    <tr>\n",
       "      <th>4</th>\n",
       "      <td>1465</td>\n",
       "      <td>198490.570581</td>\n",
       "    </tr>\n",
       "    <tr>\n",
       "      <th>...</th>\n",
       "      <td>...</td>\n",
       "      <td>...</td>\n",
       "    </tr>\n",
       "    <tr>\n",
       "      <th>1454</th>\n",
       "      <td>2915</td>\n",
       "      <td>78518.904535</td>\n",
       "    </tr>\n",
       "    <tr>\n",
       "      <th>1455</th>\n",
       "      <td>2916</td>\n",
       "      <td>89785.638932</td>\n",
       "    </tr>\n",
       "    <tr>\n",
       "      <th>1456</th>\n",
       "      <td>2917</td>\n",
       "      <td>176203.697629</td>\n",
       "    </tr>\n",
       "    <tr>\n",
       "      <th>1457</th>\n",
       "      <td>2918</td>\n",
       "      <td>116202.430429</td>\n",
       "    </tr>\n",
       "    <tr>\n",
       "      <th>1458</th>\n",
       "      <td>2919</td>\n",
       "      <td>222613.753277</td>\n",
       "    </tr>\n",
       "  </tbody>\n",
       "</table>\n",
       "<p>1459 rows × 2 columns</p>\n",
       "</div>"
      ],
      "text/plain": [
       "        Id      SalePrice\n",
       "0     1461  111137.758857\n",
       "1     1462  160029.518148\n",
       "2     1463  187175.758171\n",
       "3     1464  203075.416759\n",
       "4     1465  198490.570581\n",
       "...    ...            ...\n",
       "1454  2915   78518.904535\n",
       "1455  2916   89785.638932\n",
       "1456  2917  176203.697629\n",
       "1457  2918  116202.430429\n",
       "1458  2919  222613.753277\n",
       "\n",
       "[1459 rows x 2 columns]"
      ]
     },
     "execution_count": 44,
     "metadata": {},
     "output_type": "execute_result"
    }
   ],
   "source": [
    "submission = pd.DataFrame()\n",
    "submission['Id'] = test_id\n",
    "submission['SalePrice'] = testDat_Pred\n",
    "submission\n",
    "submission.to_csv('submission2.csv',index=False)"
   ]
  },
  {
   "cell_type": "markdown",
   "metadata": {},
   "source": [
    "# Assignment 2 Part 2"
   ]
  },
  {
   "cell_type": "markdown",
   "metadata": {},
   "source": [
    "# 2.1"
   ]
  },
  {
   "cell_type": "code",
   "execution_count": 33,
   "metadata": {},
   "outputs": [],
   "source": [
    "trainDat = pd.read_csv('titanic_train.csv')\n",
    "testDat =  pd.read_csv('titanic_test.csv')"
   ]
  },
  {
   "cell_type": "code",
   "execution_count": 294,
   "metadata": {},
   "outputs": [
    {
     "data": {
      "text/html": [
       "<div>\n",
       "<style scoped>\n",
       "    .dataframe tbody tr th:only-of-type {\n",
       "        vertical-align: middle;\n",
       "    }\n",
       "\n",
       "    .dataframe tbody tr th {\n",
       "        vertical-align: top;\n",
       "    }\n",
       "\n",
       "    .dataframe thead th {\n",
       "        text-align: right;\n",
       "    }\n",
       "</style>\n",
       "<table border=\"1\" class=\"dataframe\">\n",
       "  <thead>\n",
       "    <tr style=\"text-align: right;\">\n",
       "      <th></th>\n",
       "      <th>PassengerId</th>\n",
       "      <th>Survived</th>\n",
       "      <th>Pclass</th>\n",
       "      <th>Age</th>\n",
       "      <th>SibSp</th>\n",
       "      <th>Parch</th>\n",
       "      <th>Fare</th>\n",
       "    </tr>\n",
       "  </thead>\n",
       "  <tbody>\n",
       "    <tr>\n",
       "      <th>count</th>\n",
       "      <td>891.000000</td>\n",
       "      <td>891.000000</td>\n",
       "      <td>891.000000</td>\n",
       "      <td>714.000000</td>\n",
       "      <td>891.000000</td>\n",
       "      <td>891.000000</td>\n",
       "      <td>891.000000</td>\n",
       "    </tr>\n",
       "    <tr>\n",
       "      <th>mean</th>\n",
       "      <td>446.000000</td>\n",
       "      <td>0.383838</td>\n",
       "      <td>2.308642</td>\n",
       "      <td>29.699118</td>\n",
       "      <td>0.523008</td>\n",
       "      <td>0.381594</td>\n",
       "      <td>32.204208</td>\n",
       "    </tr>\n",
       "    <tr>\n",
       "      <th>std</th>\n",
       "      <td>257.353842</td>\n",
       "      <td>0.486592</td>\n",
       "      <td>0.836071</td>\n",
       "      <td>14.526497</td>\n",
       "      <td>1.102743</td>\n",
       "      <td>0.806057</td>\n",
       "      <td>49.693429</td>\n",
       "    </tr>\n",
       "    <tr>\n",
       "      <th>min</th>\n",
       "      <td>1.000000</td>\n",
       "      <td>0.000000</td>\n",
       "      <td>1.000000</td>\n",
       "      <td>0.420000</td>\n",
       "      <td>0.000000</td>\n",
       "      <td>0.000000</td>\n",
       "      <td>0.000000</td>\n",
       "    </tr>\n",
       "    <tr>\n",
       "      <th>25%</th>\n",
       "      <td>223.500000</td>\n",
       "      <td>0.000000</td>\n",
       "      <td>2.000000</td>\n",
       "      <td>20.125000</td>\n",
       "      <td>0.000000</td>\n",
       "      <td>0.000000</td>\n",
       "      <td>7.910400</td>\n",
       "    </tr>\n",
       "    <tr>\n",
       "      <th>50%</th>\n",
       "      <td>446.000000</td>\n",
       "      <td>0.000000</td>\n",
       "      <td>3.000000</td>\n",
       "      <td>28.000000</td>\n",
       "      <td>0.000000</td>\n",
       "      <td>0.000000</td>\n",
       "      <td>14.454200</td>\n",
       "    </tr>\n",
       "    <tr>\n",
       "      <th>75%</th>\n",
       "      <td>668.500000</td>\n",
       "      <td>1.000000</td>\n",
       "      <td>3.000000</td>\n",
       "      <td>38.000000</td>\n",
       "      <td>1.000000</td>\n",
       "      <td>0.000000</td>\n",
       "      <td>31.000000</td>\n",
       "    </tr>\n",
       "    <tr>\n",
       "      <th>max</th>\n",
       "      <td>891.000000</td>\n",
       "      <td>1.000000</td>\n",
       "      <td>3.000000</td>\n",
       "      <td>80.000000</td>\n",
       "      <td>8.000000</td>\n",
       "      <td>6.000000</td>\n",
       "      <td>512.329200</td>\n",
       "    </tr>\n",
       "  </tbody>\n",
       "</table>\n",
       "</div>"
      ],
      "text/plain": [
       "       PassengerId    Survived      Pclass         Age       SibSp  \\\n",
       "count   891.000000  891.000000  891.000000  714.000000  891.000000   \n",
       "mean    446.000000    0.383838    2.308642   29.699118    0.523008   \n",
       "std     257.353842    0.486592    0.836071   14.526497    1.102743   \n",
       "min       1.000000    0.000000    1.000000    0.420000    0.000000   \n",
       "25%     223.500000    0.000000    2.000000   20.125000    0.000000   \n",
       "50%     446.000000    0.000000    3.000000   28.000000    0.000000   \n",
       "75%     668.500000    1.000000    3.000000   38.000000    1.000000   \n",
       "max     891.000000    1.000000    3.000000   80.000000    8.000000   \n",
       "\n",
       "            Parch        Fare  \n",
       "count  891.000000  891.000000  \n",
       "mean     0.381594   32.204208  \n",
       "std      0.806057   49.693429  \n",
       "min      0.000000    0.000000  \n",
       "25%      0.000000    7.910400  \n",
       "50%      0.000000   14.454200  \n",
       "75%      0.000000   31.000000  \n",
       "max      6.000000  512.329200  "
      ]
     },
     "execution_count": 294,
     "metadata": {},
     "output_type": "execute_result"
    }
   ],
   "source": [
    "trainDat.describe()"
   ]
  },
  {
   "cell_type": "code",
   "execution_count": 295,
   "metadata": {},
   "outputs": [
    {
     "name": "stdout",
     "output_type": "stream",
     "text": [
      "<class 'pandas.core.frame.DataFrame'>\n",
      "RangeIndex: 891 entries, 0 to 890\n",
      "Data columns (total 12 columns):\n",
      " #   Column       Non-Null Count  Dtype  \n",
      "---  ------       --------------  -----  \n",
      " 0   PassengerId  891 non-null    int64  \n",
      " 1   Survived     891 non-null    int64  \n",
      " 2   Pclass       891 non-null    int64  \n",
      " 3   Name         891 non-null    object \n",
      " 4   Sex          891 non-null    object \n",
      " 5   Age          714 non-null    float64\n",
      " 6   SibSp        891 non-null    int64  \n",
      " 7   Parch        891 non-null    int64  \n",
      " 8   Ticket       891 non-null    object \n",
      " 9   Fare         891 non-null    float64\n",
      " 10  Cabin        204 non-null    object \n",
      " 11  Embarked     889 non-null    object \n",
      "dtypes: float64(2), int64(5), object(5)\n",
      "memory usage: 83.7+ KB\n"
     ]
    }
   ],
   "source": [
    "trainDat.info()"
   ]
  },
  {
   "cell_type": "code",
   "execution_count": 296,
   "metadata": {},
   "outputs": [],
   "source": [
    "del trainDat['Name']\n",
    "del trainDat['Ticket']\n",
    "del trainDat['Cabin']\n",
    "del testDat['Name']\n",
    "del testDat['Ticket']\n",
    "del testDat['Cabin']"
   ]
  },
  {
   "cell_type": "markdown",
   "metadata": {},
   "source": [
    "After looking at the describe,info, and head of the training data, the features 'Name', 'Ticket', and 'Cabin' were all removed from the dataframes because they were either irrelevant to the passenger survival or there were too many missing values. "
   ]
  },
  {
   "cell_type": "code",
   "execution_count": 297,
   "metadata": {},
   "outputs": [],
   "source": [
    "train_id = trainDat['PassengerId']\n",
    "test_id = testDat['PassengerId']\n",
    "del trainDat['PassengerId']\n",
    "del testDat['PassengerId']"
   ]
  },
  {
   "cell_type": "code",
   "execution_count": 298,
   "metadata": {},
   "outputs": [
    {
     "data": {
      "text/plain": [
       "0    549\n",
       "1    342\n",
       "Name: Survived, dtype: int64"
      ]
     },
     "execution_count": 298,
     "metadata": {},
     "output_type": "execute_result"
    }
   ],
   "source": [
    "pd.Series(trainDat['Survived']).value_counts()"
   ]
  },
  {
   "cell_type": "markdown",
   "metadata": {},
   "source": [
    "From the value counts obtained in the training data, there were 549 passengers that died and 342 passengers that survived."
   ]
  },
  {
   "cell_type": "code",
   "execution_count": 299,
   "metadata": {
    "scrolled": true
   },
   "outputs": [
    {
     "data": {
      "text/plain": [
       "<AxesSubplot:xlabel='Pclass', ylabel='Survived'>"
      ]
     },
     "execution_count": 299,
     "metadata": {},
     "output_type": "execute_result"
    },
    {
     "data": {
      "image/png": "[encoded data removed]",
      "text/plain": [
       "<Figure size 432x288 with 1 Axes>"
      ]
     },
     "metadata": {
      "needs_background": "light"
     },
     "output_type": "display_data"
    }
   ],
   "source": [
    "sns.barplot(x=trainDat['Pclass'], y=trainDat['Survived'])"
   ]
  },
  {
   "cell_type": "code",
   "execution_count": 300,
   "metadata": {},
   "outputs": [
    {
     "data": {
      "text/plain": [
       "<AxesSubplot:xlabel='Sex', ylabel='Survived'>"
      ]
     },
     "execution_count": 300,
     "metadata": {},
     "output_type": "execute_result"
    },
    {
     "data": {
      "image/png": "[encoded data removed]",
      "text/plain": [
       "<Figure size 432x288 with 1 Axes>"
      ]
     },
     "metadata": {
      "needs_background": "light"
     },
     "output_type": "display_data"
    }
   ],
   "source": [
    "sns.barplot(x=trainDat['Sex'], y=trainDat['Survived'])"
   ]
  },
  {
   "cell_type": "code",
   "execution_count": 301,
   "metadata": {},
   "outputs": [
    {
     "data": {
      "text/plain": [
       "<AxesSubplot:xlabel='Age', ylabel='Survived'>"
      ]
     },
     "execution_count": 301,
     "metadata": {},
     "output_type": "execute_result"
    },
    {
     "data": {
      "image/png": "[encoded data removed]",
      "text/plain": [
       "<Figure size 432x288 with 1 Axes>"
      ]
     },
     "metadata": {
      "needs_background": "light"
     },
     "output_type": "display_data"
    }
   ],
   "source": [
    "sns.barplot(x=trainDat['Age'], y=trainDat['Survived'])"
   ]
  },
  {
   "cell_type": "code",
   "execution_count": 302,
   "metadata": {},
   "outputs": [
    {
     "data": {
      "text/plain": [
       "<AxesSubplot:xlabel='SibSp', ylabel='Survived'>"
      ]
     },
     "execution_count": 302,
     "metadata": {},
     "output_type": "execute_result"
    },
    {
     "data": {
      "image/png": "[encoded data removed]",
      "text/plain": [
       "<Figure size 432x288 with 1 Axes>"
      ]
     },
     "metadata": {
      "needs_background": "light"
     },
     "output_type": "display_data"
    }
   ],
   "source": [
    "sns.barplot(x=trainDat['SibSp'], y=trainDat['Survived'])"
   ]
  },
  {
   "cell_type": "code",
   "execution_count": 303,
   "metadata": {},
   "outputs": [
    {
     "data": {
      "text/plain": [
       "<AxesSubplot:xlabel='Parch', ylabel='Survived'>"
      ]
     },
     "execution_count": 303,
     "metadata": {},
     "output_type": "execute_result"
    },
    {
     "data": {
      "image/png": "[encoded data removed]",
      "text/plain": [
       "<Figure size 432x288 with 1 Axes>"
      ]
     },
     "metadata": {
      "needs_background": "light"
     },
     "output_type": "display_data"
    }
   ],
   "source": [
    "sns.barplot(x=trainDat['Parch'], y=trainDat['Survived'])"
   ]
  },
  {
   "cell_type": "code",
   "execution_count": 304,
   "metadata": {},
   "outputs": [
    {
     "data": {
      "text/plain": [
       "<AxesSubplot:xlabel='Fare', ylabel='Survived'>"
      ]
     },
     "execution_count": 304,
     "metadata": {},
     "output_type": "execute_result"
    },
    {
     "data": {
      "image/png": "[encoded data removed]",
      "text/plain": [
       "<Figure size 432x288 with 1 Axes>"
      ]
     },
     "metadata": {
      "needs_background": "light"
     },
     "output_type": "display_data"
    }
   ],
   "source": [
    "sns.barplot(x=trainDat['Fare'], y=trainDat['Survived'])"
   ]
  },
  {
   "cell_type": "code",
   "execution_count": 305,
   "metadata": {},
   "outputs": [
    {
     "data": {
      "text/plain": [
       "<AxesSubplot:xlabel='Embarked', ylabel='Survived'>"
      ]
     },
     "execution_count": 305,
     "metadata": {},
     "output_type": "execute_result"
    },
    {
     "data": {
      "image/png": "[encoded data removed]",
      "text/plain": [
       "<Figure size 432x288 with 1 Axes>"
      ]
     },
     "metadata": {
      "needs_background": "light"
     },
     "output_type": "display_data"
    }
   ],
   "source": [
    "sns.barplot(x=trainDat['Embarked'], y=trainDat['Survived'])"
   ]
  },
  {
   "cell_type": "markdown",
   "metadata": {},
   "source": [
    "With the barplots shown here we can see the relationship with the features and the survival rate. It appears there's a negative correlation with 'Pclass' and 'Survived. Theres also bit of a relationship with 'Age','SibSp','Sex','Parch', and 'Embarked' with 'Survived'."
   ]
  },
  {
   "cell_type": "code",
   "execution_count": 306,
   "metadata": {},
   "outputs": [],
   "source": [
    "trainDat['Age'].fillna(trainDat['Age'].median(), inplace=True)\n",
    "testDat['Age'].fillna(trainDat['Age'].median(), inplace=True)"
   ]
  },
  {
   "cell_type": "markdown",
   "metadata": {},
   "source": [
    "The missing values for 'Age' were imputed with the mean for that feature. "
   ]
  },
  {
   "cell_type": "code",
   "execution_count": 307,
   "metadata": {},
   "outputs": [],
   "source": [
    "trainDat = trainDat.fillna(trainDat.mode().iloc[0])\n",
    "testDat = testDat.fillna(trainDat.mode().iloc[0])"
   ]
  },
  {
   "cell_type": "markdown",
   "metadata": {},
   "source": [
    "The missing values for 'Embarked' were imputed with the mode for that feature."
   ]
  },
  {
   "cell_type": "code",
   "execution_count": 308,
   "metadata": {},
   "outputs": [],
   "source": [
    "trainDat=pd.get_dummies(trainDat, columns=[\"Pclass\",\"Embarked\",\"Sex\"])\n",
    "testDat=pd.get_dummies(testDat, columns=[\"Pclass\",\"Embarked\",\"Sex\"])"
   ]
  },
  {
   "cell_type": "markdown",
   "metadata": {},
   "source": [
    "# 2.2"
   ]
  },
  {
   "cell_type": "code",
   "execution_count": 309,
   "metadata": {},
   "outputs": [],
   "source": [
    "X=trainDat.loc[:,trainDat.columns!='Survived'].to_numpy(copy=True)\n",
    "y=trainDat.Survived.to_numpy(copy=True)\n",
    "np.random.seed(10)\n",
    "reIndx=np.arange(len(X))\n",
    "y = y[reIndx]\n",
    "X = X[reIndx,:]"
   ]
  },
  {
   "cell_type": "markdown",
   "metadata": {},
   "source": [
    "Training data was randomly shuffled here"
   ]
  },
  {
   "cell_type": "code",
   "execution_count": 310,
   "metadata": {},
   "outputs": [
    {
     "data": {
      "text/plain": [
       "Pipeline(steps=[('standardscaler', StandardScaler()),\n",
       "                ('logisticregression',\n",
       "                 LogisticRegression(max_iter=10000, penalty='elasticnet',\n",
       "                                    solver='saga'))])"
      ]
     },
     "execution_count": 310,
     "metadata": {},
     "output_type": "execute_result"
    }
   ],
   "source": [
    "pipe=make_pipeline(StandardScaler(), \n",
    "                   LogisticRegression(solver='saga',\n",
    "                                     penalty='elasticnet',\n",
    "                                     max_iter=10000))\n",
    "pipe"
   ]
  },
  {
   "cell_type": "markdown",
   "metadata": {},
   "source": [
    "The pipeline is being set up in this step and the features being standardized, OneHotEncoded, and fitting a logistic regression."
   ]
  },
  {
   "cell_type": "code",
   "execution_count": 311,
   "metadata": {},
   "outputs": [
    {
     "data": {
      "text/plain": [
       "dict"
      ]
     },
     "execution_count": 311,
     "metadata": {},
     "output_type": "execute_result"
    }
   ],
   "source": [
    "param_grid=dict(\n",
    "           logisticregression__C=[0.01,0.1,1.0,10.0],\n",
    "            logisticregression__l1_ratio=[0.0,0.1,0.25,0.50,0.75,0.90,1.0])\n",
    "type(param_grid)   "
   ]
  },
  {
   "cell_type": "markdown",
   "metadata": {},
   "source": [
    "The hyperparameters that are going to be explored as defined here."
   ]
  },
  {
   "cell_type": "code",
   "execution_count": 312,
   "metadata": {},
   "outputs": [
    {
     "data": {
      "text/plain": [
       "GridSearchCV(estimator=Pipeline(steps=[('standardscaler', StandardScaler()),\n",
       "                                       ('logisticregression',\n",
       "                                        LogisticRegression(max_iter=10000,\n",
       "                                                           penalty='elasticnet',\n",
       "                                                           solver='saga'))]),\n",
       "             n_jobs=-1,\n",
       "             param_grid={'logisticregression__C': [0.01, 0.1, 1.0, 10.0],\n",
       "                         'logisticregression__l1_ratio': [0.0, 0.1, 0.25, 0.5,\n",
       "                                                          0.75, 0.9, 1.0]})"
      ]
     },
     "execution_count": 312,
     "metadata": {},
     "output_type": "execute_result"
    }
   ],
   "source": [
    "grid=GridSearchCV(pipe,param_grid=param_grid,n_jobs=-1)\n",
    "grid"
   ]
  },
  {
   "cell_type": "markdown",
   "metadata": {},
   "source": [
    "The grid search is set up here in this step."
   ]
  },
  {
   "cell_type": "code",
   "execution_count": 313,
   "metadata": {},
   "outputs": [],
   "source": [
    "gridFit = grid.fit(X,y)"
   ]
  },
  {
   "cell_type": "code",
   "execution_count": 314,
   "metadata": {},
   "outputs": [
    {
     "name": "stdout",
     "output_type": "stream",
     "text": [
      "    mean_fit_time  std_fit_time  mean_score_time  std_score_time  \\\n",
      "0        0.007890      0.005533         0.000777        0.000052   \n",
      "1        0.006581      0.000767         0.000615        0.000103   \n",
      "2        0.006821      0.001586         0.000681        0.000248   \n",
      "3        0.007249      0.002627         0.000555        0.000038   \n",
      "4        0.004829      0.000382         0.000671        0.000201   \n",
      "5        0.005070      0.000405         0.000564        0.000033   \n",
      "6        0.008373      0.005652         0.000649        0.000178   \n",
      "7        0.006543      0.001639         0.000767        0.000404   \n",
      "8        0.010861      0.000410         0.000545        0.000022   \n",
      "9        0.009889      0.003180         0.000864        0.000667   \n",
      "10       0.006048      0.000294         0.000645        0.000136   \n",
      "11       0.006070      0.001555         0.000678        0.000133   \n",
      "12       0.005769      0.000449         0.000581        0.000015   \n",
      "13       0.005579      0.000411         0.001075        0.000856   \n",
      "14       0.006379      0.002840         0.000523        0.000036   \n",
      "15       0.032637      0.004106         0.000958        0.000817   \n",
      "16       0.051181      0.004414         0.001082        0.001205   \n",
      "17       0.015736      0.004257         0.000513        0.000072   \n",
      "18       0.012520      0.004763         0.000490        0.000065   \n",
      "19       0.009510      0.001893         0.000521        0.000060   \n",
      "20       0.007422      0.002323         0.000544        0.000209   \n",
      "21       0.005952      0.002353         0.000518        0.000030   \n",
      "22       0.007345      0.003333         0.000487        0.000014   \n",
      "23       0.102793      0.019406         0.000538        0.000083   \n",
      "24       0.100583      0.053032         0.000489        0.000066   \n",
      "25       0.058290      0.020322         0.000423        0.000051   \n",
      "26       0.043543      0.014007         0.000415        0.000052   \n",
      "27       0.042248      0.012775         0.000443        0.000065   \n",
      "\n",
      "   param_logisticregression__C param_logisticregression__l1_ratio  \\\n",
      "0                         0.01                                0.0   \n",
      "1                         0.01                                0.1   \n",
      "2                         0.01                               0.25   \n",
      "3                         0.01                                0.5   \n",
      "4                         0.01                               0.75   \n",
      "5                         0.01                                0.9   \n",
      "6                         0.01                                1.0   \n",
      "7                          0.1                                0.0   \n",
      "8                          0.1                                0.1   \n",
      "9                          0.1                               0.25   \n",
      "10                         0.1                                0.5   \n",
      "11                         0.1                               0.75   \n",
      "12                         0.1                                0.9   \n",
      "13                         0.1                                1.0   \n",
      "14                         1.0                                0.0   \n",
      "15                         1.0                                0.1   \n",
      "16                         1.0                               0.25   \n",
      "17                         1.0                                0.5   \n",
      "18                         1.0                               0.75   \n",
      "19                         1.0                                0.9   \n",
      "20                         1.0                                1.0   \n",
      "21                        10.0                                0.0   \n",
      "22                        10.0                                0.1   \n",
      "23                        10.0                               0.25   \n",
      "24                        10.0                                0.5   \n",
      "25                        10.0                               0.75   \n",
      "26                        10.0                                0.9   \n",
      "27                        10.0                                1.0   \n",
      "\n",
      "                                               params  split0_test_score  \\\n",
      "0   {'logisticregression__C': 0.01, 'logisticregre...           0.793296   \n",
      "1   {'logisticregression__C': 0.01, 'logisticregre...           0.793296   \n",
      "2   {'logisticregression__C': 0.01, 'logisticregre...           0.798883   \n",
      "3   {'logisticregression__C': 0.01, 'logisticregre...           0.804469   \n",
      "4   {'logisticregression__C': 0.01, 'logisticregre...           0.804469   \n",
      "5   {'logisticregression__C': 0.01, 'logisticregre...           0.804469   \n",
      "6   {'logisticregression__C': 0.01, 'logisticregre...           0.804469   \n",
      "7   {'logisticregression__C': 0.1, 'logisticregres...           0.782123   \n",
      "8   {'logisticregression__C': 0.1, 'logisticregres...           0.782123   \n",
      "9   {'logisticregression__C': 0.1, 'logisticregres...           0.782123   \n",
      "10  {'logisticregression__C': 0.1, 'logisticregres...           0.782123   \n",
      "11  {'logisticregression__C': 0.1, 'logisticregres...           0.782123   \n",
      "12  {'logisticregression__C': 0.1, 'logisticregres...           0.787709   \n",
      "13  {'logisticregression__C': 0.1, 'logisticregres...           0.793296   \n",
      "14  {'logisticregression__C': 1.0, 'logisticregres...           0.776536   \n",
      "15  {'logisticregression__C': 1.0, 'logisticregres...           0.776536   \n",
      "16  {'logisticregression__C': 1.0, 'logisticregres...           0.776536   \n",
      "17  {'logisticregression__C': 1.0, 'logisticregres...           0.776536   \n",
      "18  {'logisticregression__C': 1.0, 'logisticregres...           0.776536   \n",
      "19  {'logisticregression__C': 1.0, 'logisticregres...           0.776536   \n",
      "20  {'logisticregression__C': 1.0, 'logisticregres...           0.776536   \n",
      "21  {'logisticregression__C': 10.0, 'logisticregre...           0.776536   \n",
      "22  {'logisticregression__C': 10.0, 'logisticregre...           0.776536   \n",
      "23  {'logisticregression__C': 10.0, 'logisticregre...           0.776536   \n",
      "24  {'logisticregression__C': 10.0, 'logisticregre...           0.776536   \n",
      "25  {'logisticregression__C': 10.0, 'logisticregre...           0.776536   \n",
      "26  {'logisticregression__C': 10.0, 'logisticregre...           0.776536   \n",
      "27  {'logisticregression__C': 10.0, 'logisticregre...           0.776536   \n",
      "\n",
      "    split1_test_score  split2_test_score  split3_test_score  \\\n",
      "0            0.808989           0.775281           0.752809   \n",
      "1            0.808989           0.780899           0.758427   \n",
      "2            0.803371           0.786517           0.752809   \n",
      "3            0.803371           0.786517           0.752809   \n",
      "4            0.803371           0.786517           0.752809   \n",
      "5            0.803371           0.786517           0.752809   \n",
      "6            0.803371           0.786517           0.752809   \n",
      "7            0.808989           0.780899           0.764045   \n",
      "8            0.808989           0.780899           0.764045   \n",
      "9            0.808989           0.780899           0.764045   \n",
      "10           0.803371           0.786517           0.764045   \n",
      "11           0.792135           0.780899           0.769663   \n",
      "12           0.797753           0.780899           0.769663   \n",
      "13           0.797753           0.775281           0.769663   \n",
      "14           0.786517           0.786517           0.769663   \n",
      "15           0.786517           0.786517           0.769663   \n",
      "16           0.786517           0.786517           0.769663   \n",
      "17           0.786517           0.786517           0.769663   \n",
      "18           0.786517           0.780899           0.769663   \n",
      "19           0.786517           0.780899           0.769663   \n",
      "20           0.786517           0.780899           0.769663   \n",
      "21           0.786517           0.786517           0.769663   \n",
      "22           0.786517           0.786517           0.769663   \n",
      "23           0.786517           0.786517           0.769663   \n",
      "24           0.786517           0.786517           0.769663   \n",
      "25           0.786517           0.786517           0.769663   \n",
      "26           0.786517           0.786517           0.769663   \n",
      "27           0.786517           0.786517           0.769663   \n",
      "\n",
      "    split4_test_score  mean_test_score  std_test_score  rank_test_score  \n",
      "0            0.825843         0.791243        0.025488               11  \n",
      "1            0.808989         0.790120        0.019035               16  \n",
      "2            0.786517         0.785619        0.017715               28  \n",
      "3            0.786517         0.786737        0.018667               24  \n",
      "4            0.786517         0.786737        0.018667               24  \n",
      "5            0.786517         0.786737        0.018667               24  \n",
      "6            0.786517         0.786737        0.018667               24  \n",
      "7            0.831461         0.793503        0.023819                1  \n",
      "8            0.825843         0.792380        0.022070                2  \n",
      "9            0.825843         0.792380        0.022070                2  \n",
      "10           0.808989         0.789009        0.016014               20  \n",
      "11           0.808989         0.786762        0.013200               23  \n",
      "12           0.803371         0.787879        0.011984               21  \n",
      "13           0.803371         0.787873        0.013095               22  \n",
      "14           0.831461         0.790139        0.021624               12  \n",
      "15           0.831461         0.790139        0.021624               12  \n",
      "16           0.831461         0.790139        0.021624               12  \n",
      "17           0.831461         0.790139        0.021624               12  \n",
      "18           0.831461         0.789015        0.021927               17  \n",
      "19           0.831461         0.789015        0.021927               17  \n",
      "20           0.831461         0.789015        0.021927               17  \n",
      "21           0.837079         0.791262        0.023781                4  \n",
      "22           0.837079         0.791262        0.023781                4  \n",
      "23           0.837079         0.791262        0.023781                4  \n",
      "24           0.837079         0.791262        0.023781                4  \n",
      "25           0.837079         0.791262        0.023781                4  \n",
      "26           0.837079         0.791262        0.023781                4  \n",
      "27           0.837079         0.791262        0.023781                4  \n"
     ]
    }
   ],
   "source": [
    "print(pd.DataFrame(gridFit.cv_results_))"
   ]
  },
  {
   "cell_type": "code",
   "execution_count": 315,
   "metadata": {},
   "outputs": [
    {
     "data": {
      "text/plain": [
       "{'logisticregression__C': 0.1, 'logisticregression__l1_ratio': 0.0}"
      ]
     },
     "execution_count": 315,
     "metadata": {},
     "output_type": "execute_result"
    }
   ],
   "source": [
    "gridFit.best_params_"
   ]
  },
  {
   "cell_type": "markdown",
   "metadata": {},
   "source": [
    "The grid search was ran and the parameters for the model with best accuracy was determined above. The regularization strength parameter was 0.1 which means more weight regularization and the l1_ratio was 0.0 which means only L2 regularization."
   ]
  },
  {
   "cell_type": "code",
   "execution_count": 22,
   "metadata": {
    "scrolled": true
   },
   "outputs": [
    {
     "data": {
      "text/plain": [
       "Pipeline(steps=[('standardscaler', StandardScaler()),\n",
       "                ('lineardiscriminantanalysis', LinearDiscriminantAnalysis())])"
      ]
     },
     "execution_count": 22,
     "metadata": {},
     "output_type": "execute_result"
    }
   ],
   "source": [
    "pipe=make_pipeline(StandardScaler(), LDA())\n",
    "pipe"
   ]
  },
  {
   "cell_type": "code",
   "execution_count": 26,
   "metadata": {},
   "outputs": [],
   "source": [
    "param_grid = dict()\n",
    "param_grid['lineardiscriminantanalysis__solver'] = ['svd', 'lsqr']"
   ]
  },
  {
   "cell_type": "code",
   "execution_count": 27,
   "metadata": {},
   "outputs": [
    {
     "data": {
      "text/plain": [
       "GridSearchCV(estimator=Pipeline(steps=[('standardscaler', StandardScaler()),\n",
       "                                       ('lineardiscriminantanalysis',\n",
       "                                        LinearDiscriminantAnalysis())]),\n",
       "             n_jobs=-1,\n",
       "             param_grid={'lineardiscriminantanalysis__solver': ['svd', 'lsqr']})"
      ]
     },
     "execution_count": 27,
     "metadata": {},
     "output_type": "execute_result"
    }
   ],
   "source": [
    "grid=GridSearchCV(pipe,param_grid,n_jobs=-1)\n",
    "grid"
   ]
  },
  {
   "cell_type": "code",
   "execution_count": 319,
   "metadata": {},
   "outputs": [],
   "source": [
    "gridFit = grid.fit(X,y)"
   ]
  },
  {
   "cell_type": "code",
   "execution_count": 320,
   "metadata": {
    "scrolled": true
   },
   "outputs": [
    {
     "name": "stdout",
     "output_type": "stream",
     "text": [
      "   mean_fit_time  std_fit_time  mean_score_time  std_score_time  \\\n",
      "0       0.004566      0.000803         0.001187        0.001330   \n",
      "1       0.004556      0.000845         0.000646        0.000079   \n",
      "\n",
      "  param_lineardiscriminantanalysis__solver  \\\n",
      "0                                      svd   \n",
      "1                                     lsqr   \n",
      "\n",
      "                                           params  split0_test_score  \\\n",
      "0   {'lineardiscriminantanalysis__solver': 'svd'}           0.793296   \n",
      "1  {'lineardiscriminantanalysis__solver': 'lsqr'}           0.793296   \n",
      "\n",
      "   split1_test_score  split2_test_score  split3_test_score  split4_test_score  \\\n",
      "0           0.808989           0.780899           0.758427           0.820225   \n",
      "1           0.808989           0.780899           0.758427           0.820225   \n",
      "\n",
      "   mean_test_score  std_test_score  rank_test_score  \n",
      "0         0.792367        0.021618                1  \n",
      "1         0.792367        0.021618                1  \n"
     ]
    }
   ],
   "source": [
    "print(pd.DataFrame(gridFit.cv_results_))"
   ]
  },
  {
   "cell_type": "code",
   "execution_count": 321,
   "metadata": {},
   "outputs": [
    {
     "data": {
      "text/plain": [
       "{'lineardiscriminantanalysis__solver': 'svd'}"
      ]
     },
     "execution_count": 321,
     "metadata": {},
     "output_type": "execute_result"
    }
   ],
   "source": [
    "gridFit.best_params_"
   ]
  },
  {
   "cell_type": "markdown",
   "metadata": {},
   "source": [
    "The grid search was ran for LDA and the parameters for the model with best accuracy was determined above. The mean test score was the same for the svd and lsqr solver."
   ]
  },
  {
   "cell_type": "code",
   "execution_count": 8,
   "metadata": {},
   "outputs": [
    {
     "data": {
      "text/plain": [
       "Pipeline(steps=[('standardscaler', StandardScaler()),\n",
       "                ('kneighborsclassifier', KNeighborsClassifier())])"
      ]
     },
     "execution_count": 8,
     "metadata": {},
     "output_type": "execute_result"
    }
   ],
   "source": [
    "pipe=make_pipeline(StandardScaler(), KNN())\n",
    "pipe"
   ]
  },
  {
   "cell_type": "code",
   "execution_count": 20,
   "metadata": {},
   "outputs": [],
   "source": [
    "n_neighbors = list(range(1,30))\n",
    "param_grid = dict(kneighborsclassifier__n_neighbors = n_neighbors)"
   ]
  },
  {
   "cell_type": "code",
   "execution_count": 21,
   "metadata": {},
   "outputs": [
    {
     "data": {
      "text/plain": [
       "GridSearchCV(estimator=Pipeline(steps=[('standardscaler', StandardScaler()),\n",
       "                                       ('kneighborsclassifier',\n",
       "                                        KNeighborsClassifier())]),\n",
       "             n_jobs=-1,\n",
       "             param_grid={'kneighborsclassifier__n_neighbors': [1, 2, 3, 4, 5, 6,\n",
       "                                                               7, 8, 9, 10, 11,\n",
       "                                                               12, 13, 14, 15,\n",
       "                                                               16, 17, 18, 19,\n",
       "                                                               20, 21, 22, 23,\n",
       "                                                               24, 25, 26, 27,\n",
       "                                                               28, 29]})"
      ]
     },
     "execution_count": 21,
     "metadata": {},
     "output_type": "execute_result"
    }
   ],
   "source": [
    "grid=GridSearchCV(pipe,param_grid,n_jobs=-1)\n",
    "grid"
   ]
  },
  {
   "cell_type": "code",
   "execution_count": 325,
   "metadata": {},
   "outputs": [],
   "source": [
    "gridFit = grid.fit(X,y)"
   ]
  },
  {
   "cell_type": "code",
   "execution_count": 326,
   "metadata": {},
   "outputs": [
    {
     "name": "stdout",
     "output_type": "stream",
     "text": [
      "    mean_fit_time  std_fit_time  mean_score_time  std_score_time  \\\n",
      "0        0.002458      0.000310         0.015045        0.003447   \n",
      "1        0.002636      0.001003         0.014955        0.007621   \n",
      "2        0.003155      0.001497         0.011386        0.000832   \n",
      "3        0.001907      0.000151         0.010583        0.002036   \n",
      "4        0.002546      0.000540         0.012519        0.001653   \n",
      "5        0.002876      0.001208         0.012010        0.001550   \n",
      "6        0.001834      0.000195         0.010993        0.001609   \n",
      "7        0.001930      0.000165         0.010464        0.001081   \n",
      "8        0.001966      0.000092         0.010390        0.000492   \n",
      "9        0.001961      0.000094         0.010777        0.000444   \n",
      "10       0.002211      0.000364         0.012562        0.004840   \n",
      "11       0.002373      0.001333         0.011718        0.004201   \n",
      "12       0.001957      0.000016         0.012003        0.001489   \n",
      "13       0.001816      0.000276         0.010916        0.001491   \n",
      "14       0.002041      0.000055         0.012537        0.001931   \n",
      "15       0.001840      0.000260         0.010505        0.002284   \n",
      "16       0.003014      0.002105         0.012159        0.000845   \n",
      "17       0.001990      0.000044         0.013954        0.002739   \n",
      "18       0.001814      0.000272         0.008839        0.001409   \n",
      "19       0.001988      0.000047         0.013877        0.003494   \n",
      "20       0.001924      0.000062         0.014413        0.003254   \n",
      "21       0.001845      0.000273         0.010591        0.001655   \n",
      "22       0.002739      0.001884         0.013281        0.001927   \n",
      "23       0.001874      0.000042         0.011970        0.000313   \n",
      "24       0.002234      0.000363         0.011864        0.001062   \n",
      "25       0.001995      0.000437         0.014304        0.005833   \n",
      "26       0.002243      0.000430         0.012771        0.001228   \n",
      "27       0.001943      0.000331         0.014801        0.002823   \n",
      "28       0.002082      0.000122         0.010166        0.001846   \n",
      "\n",
      "   param_kneighborsclassifier__n_neighbors  \\\n",
      "0                                        1   \n",
      "1                                        2   \n",
      "2                                        3   \n",
      "3                                        4   \n",
      "4                                        5   \n",
      "5                                        6   \n",
      "6                                        7   \n",
      "7                                        8   \n",
      "8                                        9   \n",
      "9                                       10   \n",
      "10                                      11   \n",
      "11                                      12   \n",
      "12                                      13   \n",
      "13                                      14   \n",
      "14                                      15   \n",
      "15                                      16   \n",
      "16                                      17   \n",
      "17                                      18   \n",
      "18                                      19   \n",
      "19                                      20   \n",
      "20                                      21   \n",
      "21                                      22   \n",
      "22                                      23   \n",
      "23                                      24   \n",
      "24                                      25   \n",
      "25                                      26   \n",
      "26                                      27   \n",
      "27                                      28   \n",
      "28                                      29   \n",
      "\n",
      "                                       params  split0_test_score  \\\n",
      "0    {'kneighborsclassifier__n_neighbors': 1}           0.709497   \n",
      "1    {'kneighborsclassifier__n_neighbors': 2}           0.754190   \n",
      "2    {'kneighborsclassifier__n_neighbors': 3}           0.759777   \n",
      "3    {'kneighborsclassifier__n_neighbors': 4}           0.759777   \n",
      "4    {'kneighborsclassifier__n_neighbors': 5}           0.787709   \n",
      "5    {'kneighborsclassifier__n_neighbors': 6}           0.793296   \n",
      "6    {'kneighborsclassifier__n_neighbors': 7}           0.770950   \n",
      "7    {'kneighborsclassifier__n_neighbors': 8}           0.793296   \n",
      "8    {'kneighborsclassifier__n_neighbors': 9}           0.793296   \n",
      "9   {'kneighborsclassifier__n_neighbors': 10}           0.776536   \n",
      "10  {'kneighborsclassifier__n_neighbors': 11}           0.759777   \n",
      "11  {'kneighborsclassifier__n_neighbors': 12}           0.787709   \n",
      "12  {'kneighborsclassifier__n_neighbors': 13}           0.787709   \n",
      "13  {'kneighborsclassifier__n_neighbors': 14}           0.793296   \n",
      "14  {'kneighborsclassifier__n_neighbors': 15}           0.770950   \n",
      "15  {'kneighborsclassifier__n_neighbors': 16}           0.770950   \n",
      "16  {'kneighborsclassifier__n_neighbors': 17}           0.770950   \n",
      "17  {'kneighborsclassifier__n_neighbors': 18}           0.776536   \n",
      "18  {'kneighborsclassifier__n_neighbors': 19}           0.759777   \n",
      "19  {'kneighborsclassifier__n_neighbors': 20}           0.770950   \n",
      "20  {'kneighborsclassifier__n_neighbors': 21}           0.765363   \n",
      "21  {'kneighborsclassifier__n_neighbors': 22}           0.776536   \n",
      "22  {'kneighborsclassifier__n_neighbors': 23}           0.765363   \n",
      "23  {'kneighborsclassifier__n_neighbors': 24}           0.782123   \n",
      "24  {'kneighborsclassifier__n_neighbors': 25}           0.776536   \n",
      "25  {'kneighborsclassifier__n_neighbors': 26}           0.787709   \n",
      "26  {'kneighborsclassifier__n_neighbors': 27}           0.759777   \n",
      "27  {'kneighborsclassifier__n_neighbors': 28}           0.759777   \n",
      "28  {'kneighborsclassifier__n_neighbors': 29}           0.743017   \n",
      "\n",
      "    split1_test_score  split2_test_score  split3_test_score  \\\n",
      "0            0.735955           0.803371           0.724719   \n",
      "1            0.780899           0.792135           0.775281   \n",
      "2            0.758427           0.803371           0.803371   \n",
      "3            0.764045           0.814607           0.808989   \n",
      "4            0.780899           0.831461           0.814607   \n",
      "5            0.786517           0.825843           0.808989   \n",
      "6            0.786517           0.825843           0.808989   \n",
      "7            0.786517           0.814607           0.803371   \n",
      "8            0.780899           0.814607           0.808989   \n",
      "9            0.792135           0.825843           0.808989   \n",
      "10           0.786517           0.831461           0.797753   \n",
      "11           0.803371           0.825843           0.797753   \n",
      "12           0.780899           0.808989           0.792135   \n",
      "13           0.797753           0.808989           0.797753   \n",
      "14           0.792135           0.797753           0.797753   \n",
      "15           0.803371           0.808989           0.797753   \n",
      "16           0.808989           0.808989           0.792135   \n",
      "17           0.803371           0.808989           0.786517   \n",
      "18           0.780899           0.808989           0.786517   \n",
      "19           0.803371           0.803371           0.792135   \n",
      "20           0.797753           0.803371           0.792135   \n",
      "21           0.808989           0.808989           0.792135   \n",
      "22           0.792135           0.792135           0.792135   \n",
      "23           0.808989           0.797753           0.792135   \n",
      "24           0.797753           0.797753           0.792135   \n",
      "25           0.808989           0.808989           0.792135   \n",
      "26           0.803371           0.792135           0.792135   \n",
      "27           0.820225           0.814607           0.792135   \n",
      "28           0.814607           0.803371           0.786517   \n",
      "\n",
      "    split4_test_score  mean_test_score  std_test_score  rank_test_score  \n",
      "0            0.769663         0.748641        0.033772               29  \n",
      "1            0.808989         0.782299        0.018168               28  \n",
      "2            0.797753         0.784540        0.020875               27  \n",
      "3            0.797753         0.789034        0.022841               25  \n",
      "4            0.814607         0.805857        0.018766                4  \n",
      "5            0.803371         0.803603        0.013578                6  \n",
      "6            0.792135         0.796887        0.018909               19  \n",
      "7            0.792135         0.797985        0.009930               14  \n",
      "8            0.803371         0.800232        0.011959               12  \n",
      "9            0.803371         0.801375        0.016510                9  \n",
      "10           0.837079         0.802517        0.028767                7  \n",
      "11           0.803371         0.803609        0.012502                5  \n",
      "12           0.814607         0.796868        0.012829               21  \n",
      "13           0.792135         0.797985        0.005957               14  \n",
      "14           0.792135         0.790145        0.009921               24  \n",
      "15           0.792135         0.794639        0.013110               23  \n",
      "16           0.792135         0.794639        0.014040               22  \n",
      "17           0.808989         0.796880        0.013089               20  \n",
      "18           0.808989         0.789034        0.018574               25  \n",
      "19           0.831461         0.800257        0.019585               11  \n",
      "20           0.825843         0.796893        0.019481               17  \n",
      "21           0.842697         0.805869        0.022022                2  \n",
      "22           0.842697         0.796893        0.025140               17  \n",
      "23           0.848315         0.805863        0.022934                3  \n",
      "24           0.842697         0.801375        0.022073                9  \n",
      "25           0.842697         0.808104        0.019335                1  \n",
      "26           0.848315         0.799146        0.028579               13  \n",
      "27           0.820225         0.801394        0.023244                8  \n",
      "28           0.837079         0.796918        0.031562               16  \n"
     ]
    }
   ],
   "source": [
    "print(pd.DataFrame(gridFit.cv_results_))"
   ]
  },
  {
   "cell_type": "code",
   "execution_count": 327,
   "metadata": {},
   "outputs": [
    {
     "data": {
      "text/plain": [
       "{'kneighborsclassifier__n_neighbors': 26}"
      ]
     },
     "execution_count": 327,
     "metadata": {},
     "output_type": "execute_result"
    }
   ],
   "source": [
    "gridFit.best_params_"
   ]
  },
  {
   "cell_type": "markdown",
   "metadata": {},
   "source": [
    "Based on the results of the classifier models, the highest mean test score was calculated using the KNN method with the n_neighbors classifier set to 26. This gave a mean test score of .808104."
   ]
  },
  {
   "cell_type": "markdown",
   "metadata": {},
   "source": [
    "# 2.3"
   ]
  },
  {
   "cell_type": "code",
   "execution_count": 328,
   "metadata": {},
   "outputs": [],
   "source": [
    "X=testDat.loc[:,testDat.columns!='Survived'].to_numpy(copy=True)\n",
    "predy = gridFit.predict(X)"
   ]
  },
  {
   "cell_type": "code",
   "execution_count": 329,
   "metadata": {},
   "outputs": [
    {
     "data": {
      "text/html": [
       "<div>\n",
       "<style scoped>\n",
       "    .dataframe tbody tr th:only-of-type {\n",
       "        vertical-align: middle;\n",
       "    }\n",
       "\n",
       "    .dataframe tbody tr th {\n",
       "        vertical-align: top;\n",
       "    }\n",
       "\n",
       "    .dataframe thead th {\n",
       "        text-align: right;\n",
       "    }\n",
       "</style>\n",
       "<table border=\"1\" class=\"dataframe\">\n",
       "  <thead>\n",
       "    <tr style=\"text-align: right;\">\n",
       "      <th></th>\n",
       "      <th>PassengerId</th>\n",
       "      <th>Survived</th>\n",
       "    </tr>\n",
       "  </thead>\n",
       "  <tbody>\n",
       "    <tr>\n",
       "      <th>0</th>\n",
       "      <td>892</td>\n",
       "      <td>0</td>\n",
       "    </tr>\n",
       "    <tr>\n",
       "      <th>1</th>\n",
       "      <td>893</td>\n",
       "      <td>0</td>\n",
       "    </tr>\n",
       "    <tr>\n",
       "      <th>2</th>\n",
       "      <td>894</td>\n",
       "      <td>0</td>\n",
       "    </tr>\n",
       "    <tr>\n",
       "      <th>3</th>\n",
       "      <td>895</td>\n",
       "      <td>0</td>\n",
       "    </tr>\n",
       "    <tr>\n",
       "      <th>4</th>\n",
       "      <td>896</td>\n",
       "      <td>0</td>\n",
       "    </tr>\n",
       "    <tr>\n",
       "      <th>...</th>\n",
       "      <td>...</td>\n",
       "      <td>...</td>\n",
       "    </tr>\n",
       "    <tr>\n",
       "      <th>413</th>\n",
       "      <td>1305</td>\n",
       "      <td>0</td>\n",
       "    </tr>\n",
       "    <tr>\n",
       "      <th>414</th>\n",
       "      <td>1306</td>\n",
       "      <td>1</td>\n",
       "    </tr>\n",
       "    <tr>\n",
       "      <th>415</th>\n",
       "      <td>1307</td>\n",
       "      <td>0</td>\n",
       "    </tr>\n",
       "    <tr>\n",
       "      <th>416</th>\n",
       "      <td>1308</td>\n",
       "      <td>0</td>\n",
       "    </tr>\n",
       "    <tr>\n",
       "      <th>417</th>\n",
       "      <td>1309</td>\n",
       "      <td>0</td>\n",
       "    </tr>\n",
       "  </tbody>\n",
       "</table>\n",
       "<p>418 rows × 2 columns</p>\n",
       "</div>"
      ],
      "text/plain": [
       "     PassengerId  Survived\n",
       "0            892         0\n",
       "1            893         0\n",
       "2            894         0\n",
       "3            895         0\n",
       "4            896         0\n",
       "..           ...       ...\n",
       "413         1305         0\n",
       "414         1306         1\n",
       "415         1307         0\n",
       "416         1308         0\n",
       "417         1309         0\n",
       "\n",
       "[418 rows x 2 columns]"
      ]
     },
     "execution_count": 329,
     "metadata": {},
     "output_type": "execute_result"
    }
   ],
   "source": [
    "submission3 = pd.DataFrame()\n",
    "submission3['PassengerId'] = test_id\n",
    "submission3['Survived'] = predy\n",
    "submission3\n",
    "submission3.to_csv('submission3.csv',index=False)"
   ]
  }
 ],
 "metadata": {
  "kernelspec": {
   "display_name": "Python 3 (ipykernel)",
   "language": "python",
   "name": "python3"
  },
  "language_info": {
   "codemirror_mode": {
    "name": "ipython",
    "version": 3
   },
   "file_extension": ".py",
   "mimetype": "text/x-python",
   "name": "python",
   "nbconvert_exporter": "python",
   "pygments_lexer": "ipython3",
   "version": "3.9.7"
  }
 },
 "nbformat": 4,
 "nbformat_minor": 4
}
